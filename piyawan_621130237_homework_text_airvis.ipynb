{
  "nbformat": 4,
  "nbformat_minor": 0,
  "metadata": {
    "colab": {
      "name": "piyawan_621130237_homework_text_airvis.ipynb",
      "provenance": [],
      "authorship_tag": "ABX9TyOz1p8ypMUIZ2ghdeoc8a8i",
      "include_colab_link": true
    },
    "kernelspec": {
      "name": "python3",
      "display_name": "Python 3"
    }
  },
  "cells": [
    {
      "cell_type": "markdown",
      "metadata": {
        "id": "view-in-github",
        "colab_type": "text"
      },
      "source": [
        "<a href=\"https://colab.research.google.com/github/thopiyawan/DEMO_rami_dialogflow/blob/master/piyawan_621130237_homework_text_airvis.ipynb\" target=\"_parent\"><img src=\"https://colab.research.google.com/assets/colab-badge.svg\" alt=\"Open In Colab\"/></a>"
      ]
    },
    {
      "cell_type": "code",
      "metadata": {
        "id": "VBurcylnlBaU",
        "colab_type": "code",
        "colab": {
          "base_uri": "https://localhost:8080/",
          "height": 156
        },
        "outputId": "b18d239d-8fde-406e-8ff6-ebf9b9cb7352"
      },
      "source": [
        "from requests import get\n",
        "\n",
        "url_home = \"https://www.airvisual.com/th/thailand/pathum-thani/sam-khok\"\n",
        "response = get(url_home)\n",
        "print(response.text[:500])"
      ],
      "execution_count": 101,
      "outputs": [
        {
          "output_type": "stream",
          "text": [
            "<!DOCTYPE html><html lang=\"th\"><head>\n",
            "    <meta charset=\"utf-8\">\n",
            "    <meta name=\"viewport\" content=\"width=device-width, initial-scale=1, maximum-scale=5.0\">\n",
            "    <meta http-equiv=\"X-UA-Compatible\" content=\"IE=edge\">\n",
            "    <title>Sam Khok ดัชนีคุณภาพอากาศ (AQI) และ Thailand มลพิษทางอากาศ | AirVisual</title>\n",
            "    <base href=\"/th\">    <meta name=\"apple-itunes-app\" content=\"app-id=1048912974\">\n",
            "    <link rel=\"apple-touch-icon\" sizes=\"180x180\" href=\"assets/favicons/apple-touch-icon.png\">\n",
            "    <link rel=\"ic\n"
          ],
          "name": "stdout"
        }
      ]
    },
    {
      "cell_type": "code",
      "metadata": {
        "id": "W5AE9Kq1mIkF",
        "colab_type": "code",
        "colab": {
          "base_uri": "https://localhost:8080/",
          "height": 156
        },
        "outputId": "498c2d0a-1610-4824-c492-515a16c914ee"
      },
      "source": [
        "\n",
        "url_office = \"https://www.airvisual.com/th/thailand/pathum-thani/khlong-luang\"\n",
        "response_offi = get(url_office)\n",
        "print(response_offi.text[:500])"
      ],
      "execution_count": 102,
      "outputs": [
        {
          "output_type": "stream",
          "text": [
            "<!DOCTYPE html><html lang=\"th\"><head>\n",
            "    <meta charset=\"utf-8\">\n",
            "    <meta name=\"viewport\" content=\"width=device-width, initial-scale=1, maximum-scale=5.0\">\n",
            "    <meta http-equiv=\"X-UA-Compatible\" content=\"IE=edge\">\n",
            "    <title>Khlong Luang ดัชนีคุณภาพอากาศ (AQI) และ Thailand มลพิษทางอากาศ | AirVisual</title>\n",
            "    <base href=\"/th\">    <meta name=\"apple-itunes-app\" content=\"app-id=1048912974\">\n",
            "    <link rel=\"apple-touch-icon\" sizes=\"180x180\" href=\"assets/favicons/apple-touch-icon.png\">\n",
            "    <link rel\n"
          ],
          "name": "stdout"
        }
      ]
    },
    {
      "cell_type": "code",
      "metadata": {
        "id": "D70q0VdSmlxF",
        "colab_type": "code",
        "colab": {
          "base_uri": "https://localhost:8080/",
          "height": 35
        },
        "outputId": "3f6a2028-62cf-4590-b311-8a8e8a299e90"
      },
      "source": [
        "from bs4 import BeautifulSoup\n",
        "\n",
        "\n",
        "html_soup = BeautifulSoup(response.text, 'html.parser')\n",
        "type(html_soup)\n",
        "\n",
        "html_soup_offi = BeautifulSoup(response_offi.text, 'html.parser')\n",
        "type(html_soup_offi)"
      ],
      "execution_count": 103,
      "outputs": [
        {
          "output_type": "execute_result",
          "data": {
            "text/plain": [
              "bs4.BeautifulSoup"
            ]
          },
          "metadata": {
            "tags": []
          },
          "execution_count": 103
        }
      ]
    },
    {
      "cell_type": "code",
      "metadata": {
        "id": "bVJMhGwbnjOy",
        "colab_type": "code",
        "colab": {
          "base_uri": "https://localhost:8080/",
          "height": 52
        },
        "outputId": "9f3669c4-6613-40e8-e4ad-ec0b3e6cafee"
      },
      "source": [
        "home = html_soup.find_all('div',class_ = 'aqi-card-info-number')\n",
        "print(type(home))\n",
        "print(len(home))\n"
      ],
      "execution_count": 104,
      "outputs": [
        {
          "output_type": "stream",
          "text": [
            "<class 'bs4.element.ResultSet'>\n",
            "1\n"
          ],
          "name": "stdout"
        }
      ]
    },
    {
      "cell_type": "code",
      "metadata": {
        "id": "XF250OY7orgd",
        "colab_type": "code",
        "colab": {
          "base_uri": "https://localhost:8080/",
          "height": 69
        },
        "outputId": "75cbe3a0-35bd-4463-e21a-e89349f12345"
      },
      "source": [
        "home_detail = home[0]\n",
        "print(home_detail.span.text)\n",
        "\n",
        "home_m = html_soup.find_all('div',class_ = 'aqi-card-info-pm mb20')\n",
        "home_m = home_m[0]\n",
        "print(home_m.span.text)\n",
        "\n",
        "\n",
        "home_airvisual = html_soup.find_all('div',class_ = 'forecast-other')\n",
        "home_airvisual = home_airvisual[0]\n",
        "print(home_airvisual.span.text)"
      ],
      "execution_count": 105,
      "outputs": [
        {
          "output_type": "stream",
          "text": [
            "142*สหรัฐ AQI\n",
            "PM2.5 | 52.2 µg/m³\n",
            "ความชื้น\n"
          ],
          "name": "stdout"
        }
      ]
    },
    {
      "cell_type": "code",
      "metadata": {
        "id": "VAvclcKssSSi",
        "colab_type": "code",
        "colab": {
          "base_uri": "https://localhost:8080/",
          "height": 55
        },
        "outputId": "2b5e23bb-aff9-4483-d07e-1c44557dee7f"
      },
      "source": [
        "home_airvisual"
      ],
      "execution_count": 106,
      "outputs": [
        {
          "output_type": "execute_result",
          "data": {
            "text/plain": [
              "<div _ngcontent-sc46=\"\" class=\"forecast-other flex-layout-401748\" fxflex.gt-xs=\"\" fxflex.xs=\"50\" fxlayout=\"row wrap\" fxlayoutalign=\"start center\"><div _ngcontent-sc46=\"\" class=\"forecast-other-item mb16 flex-layout-401749\" fxflex.gt-sm=\"100\" fxflex.sm=\"160px\" fxflex.xs=\"100\" fxlayout=\"row wrap\" fxlayoutalign=\"space-between center\"><div _ngcontent-sc46=\"\" class=\"item-icon flex-layout-401750\" fxflex=\"40px\" fxlayoutalign=\"center center\"><!-- --><img _ngcontent-sc46=\"\" alt=\"Humidity\" class=\"item-icon-media ng-star-inserted\" src=\"assets/svg/ic-humidity-72-px_2.svg\"/></div><div _ngcontent-sc46=\"\" class=\"flex-layout-401751\" fxflex=\"14px\"></div><div _ngcontent-sc46=\"\" class=\"item-label flex-layout-401752\" fxflex=\"\"><span _ngcontent-sc46=\"\" title=\"ความชื้น\">ความชื้น</span><span _ngcontent-sc46=\"\" class=\"item-label-val\">73%</span></div></div><div _ngcontent-sc46=\"\" class=\"forecast-other-item mb16 flex-layout-401753\" fxflex.gt-sm=\"100\" fxflex.sm=\"160px\" fxflex.xs=\"100\" fxlayout=\"row wrap\" fxlayoutalign=\"space-between center\"><div _ngcontent-sc46=\"\" class=\"item-icon flex-layout-401754\" fxflex=\"40px\" fxlayoutalign=\"center center\"><!-- --><img _ngcontent-sc46=\"\" alt=\"Wind\" class=\"item-icon-media ng-star-inserted flex-layout-401761\" src=\"assets/svg/ic-wind-05-s-72-px_2.svg\" style=\"transform:rotate(60deg);\"/></div><div _ngcontent-sc46=\"\" class=\"flex-layout-401755\" fxflex=\"14px\"></div><div _ngcontent-sc46=\"\" class=\"item-label flex-layout-401756\" fxflex=\"\"><span _ngcontent-sc46=\"\" title=\"แรงลม\">แรงลม</span><span _ngcontent-sc46=\"\" class=\"item-label-val\">1.1 mp/h</span></div></div><div _ngcontent-sc46=\"\" class=\"flex-layout-401757 forecast-other-item mb16\" fxflex.gt-sm=\"100\" fxflex.sm=\"160px\" fxflex.xs=\"100\" fxlayout=\"row wrap\" fxlayoutalign=\"space-between center\" ngclass.sm=\"mb16\"><div _ngcontent-sc46=\"\" class=\"item-icon flex-layout-401758\" fxflex=\"40px\" fxlayoutalign=\"center center\"><!-- --><img _ngcontent-sc46=\"\" alt=\"Pressure\" class=\"item-icon-media ng-star-inserted\" src=\"assets/svg/ic-pressure-72-px_2.svg\"/></div><div _ngcontent-sc46=\"\" class=\"flex-layout-401759\" fxflex=\"14px\"></div><div _ngcontent-sc46=\"\" class=\"item-label flex-layout-401760\" fxflex=\"\"><span _ngcontent-sc46=\"\" title=\"แรงกดอากาศ\">แรงกดอากาศ</span><span _ngcontent-sc46=\"\" class=\"item-label-val\">1011 mb</span></div></div></div>"
            ]
          },
          "metadata": {
            "tags": []
          },
          "execution_count": 106
        }
      ]
    },
    {
      "cell_type": "code",
      "metadata": {
        "id": "10clp0UsveNo",
        "colab_type": "code",
        "colab": {
          "base_uri": "https://localhost:8080/",
          "height": 104
        },
        "outputId": "6b982b8f-d64f-4798-b663-bed2a99a9b64"
      },
      "source": [
        "offi = html_soup_offi.find_all('div',class_ = 'aqi-card-info-number')\n",
        "print(type(offi))\n",
        "print(len(offi))\n",
        "\n",
        "offi_detail = offi[0]\n",
        "print(offi_detail.span.text)\n",
        "\n",
        "offi_m = html_soup_offi.find_all('div',class_ = 'aqi-card-info-pm mb20')\n",
        "offi_m = offi_m[0]\n",
        "print(offi_m.span.text)\n",
        "\n",
        "\n",
        "offi_airvisual = html_soup_offi.find_all('div',class_ = 'forecast-other')\n",
        "offi_airvisual = offi_airvisual[0]\n",
        "print(offi_airvisual.span.text)"
      ],
      "execution_count": 110,
      "outputs": [
        {
          "output_type": "stream",
          "text": [
            "<class 'bs4.element.ResultSet'>\n",
            "1\n",
            "154สหรัฐ AQI\n",
            "PM2.5 | 60.9 µg/m³\n",
            "ความชื้น\n"
          ],
          "name": "stdout"
        }
      ]
    },
    {
      "cell_type": "code",
      "metadata": {
        "id": "AleugIixyJk9",
        "colab_type": "code",
        "colab": {}
      },
      "source": [
        ""
      ],
      "execution_count": 0,
      "outputs": []
    }
  ]
}