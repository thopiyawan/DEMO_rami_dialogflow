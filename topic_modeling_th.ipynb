{
  "nbformat": 4,
  "nbformat_minor": 0,
  "metadata": {
    "colab": {
      "name": "topic_modeling_th.ipynb",
      "provenance": [],
      "authorship_tag": "ABX9TyMrPzJPUmGqbSce7VjiVQ4j",
      "include_colab_link": true
    },
    "kernelspec": {
      "display_name": "Python 3",
      "name": "python3"
    },
    "accelerator": "GPU"
  },
  "cells": [
    {
      "cell_type": "markdown",
      "metadata": {
        "id": "view-in-github",
        "colab_type": "text"
      },
      "source": [
        "<a href=\"https://colab.research.google.com/github/thopiyawan/DEMO_rami_dialogflow/blob/master/topic_modeling_th.ipynb\" target=\"_parent\"><img src=\"https://colab.research.google.com/assets/colab-badge.svg\" alt=\"Open In Colab\"/></a>"
      ]
    },
    {
      "cell_type": "code",
      "metadata": {
        "colab": {
          "base_uri": "https://localhost:8080/"
        },
        "id": "L6zS3oaq_oCs",
        "outputId": "a9af5965-fe58-4a43-f92c-53ef5bfed823"
      },
      "source": [
        "from google.colab import drive\r\n",
        "drive.mount('/content/drive/')"
      ],
      "execution_count": 39,
      "outputs": [
        {
          "output_type": "stream",
          "text": [
            "Drive already mounted at /content/drive/; to attempt to forcibly remount, call drive.mount(\"/content/drive/\", force_remount=True).\n"
          ],
          "name": "stdout"
        }
      ]
    },
    {
      "cell_type": "code",
      "metadata": {
        "colab": {
          "base_uri": "https://localhost:8080/"
        },
        "id": "YlF14ry3AF9g",
        "outputId": "2f99a646-88e3-4b1c-8b24-d8d0b1aa74ed"
      },
      "source": [
        "!pwd"
      ],
      "execution_count": 40,
      "outputs": [
        {
          "output_type": "stream",
          "text": [
            "/content/drive/.shortcut-targets-by-id/1UHDKxOFjfONnMYU-auICT39cUoR5NF0D/SWU-Master-Thesis-63/Ploy/topicmodeling_thai\n"
          ],
          "name": "stdout"
        }
      ]
    },
    {
      "cell_type": "code",
      "metadata": {
        "colab": {
          "base_uri": "https://localhost:8080/"
        },
        "id": "qL0LvbPWAIW3",
        "outputId": "c4b41e8f-e287-44ed-a37d-48b7837831b2"
      },
      "source": [
        "cd /content/drive/My Drive/SWU-Master-Thesis-63/Ploy/topicmodeling_thai"
      ],
      "execution_count": 41,
      "outputs": [
        {
          "output_type": "stream",
          "text": [
            "/content/drive/.shortcut-targets-by-id/1UHDKxOFjfONnMYU-auICT39cUoR5NF0D/SWU-Master-Thesis-63/Ploy/topicmodeling_thai\n"
          ],
          "name": "stdout"
        }
      ]
    },
    {
      "cell_type": "code",
      "metadata": {
        "id": "wesu1CmWA4fd"
      },
      "source": [
        "import requests\r\n",
        "from bs4 import BeautifulSoup\r\n",
        "from time import  time, sleep\r\n",
        "from random import randint\r\n",
        "\r\n",
        "# from googletrans import Translator\r\n",
        "\r\n",
        "from tqdm import tqdm\r\n",
        "from tqdm import tqdm_notebook\r\n",
        "import numpy as np \r\n",
        "import pandas as pd\r\n",
        "import matplotlib.pyplot as plt\r\n",
        "\r\n",
        "from nltk import sent_tokenize, word_tokenize\r\n",
        "from nltk.sentiment.vader import  SentimentIntensityAnalyzer\r\n",
        "from nltk.sentiment.util import mark_negation"
      ],
      "execution_count": 42,
      "outputs": []
    },
    {
      "cell_type": "code",
      "metadata": {
        "colab": {
          "base_uri": "https://localhost:8080/",
          "height": 214
        },
        "id": "1arZI-xTARbd",
        "outputId": "8e8031b3-2ad8-48da-d39d-dad0550cb229"
      },
      "source": [
        "dataset = pd.read_csv(\"dataset/dataset_question_th.csv\",encoding='utf8')\r\n",
        "print(dataset.shape)\r\n",
        "dataset.head()"
      ],
      "execution_count": 43,
      "outputs": [
        {
          "output_type": "stream",
          "text": [
            "(9991, 3)\n"
          ],
          "name": "stdout"
        },
        {
          "output_type": "execute_result",
          "data": {
            "text/html": [
              "<div>\n",
              "<style scoped>\n",
              "    .dataframe tbody tr th:only-of-type {\n",
              "        vertical-align: middle;\n",
              "    }\n",
              "\n",
              "    .dataframe tbody tr th {\n",
              "        vertical-align: top;\n",
              "    }\n",
              "\n",
              "    .dataframe thead th {\n",
              "        text-align: right;\n",
              "    }\n",
              "</style>\n",
              "<table border=\"1\" class=\"dataframe\">\n",
              "  <thead>\n",
              "    <tr style=\"text-align: right;\">\n",
              "      <th></th>\n",
              "      <th>question</th>\n",
              "      <th>href</th>\n",
              "      <th>date_ask</th>\n",
              "    </tr>\n",
              "  </thead>\n",
              "  <tbody>\n",
              "    <tr>\n",
              "      <th>0</th>\n",
              "      <td>ตั้งครรภ์</td>\n",
              "      <td>https://hd.co.th//ask/27734160</td>\n",
              "      <td>October 01, 2019 17:30</td>\n",
              "    </tr>\n",
              "    <tr>\n",
              "      <th>1</th>\n",
              "      <td>ตั้งครรภ์5เดือนสามารถตัดปากมดได้ไหม</td>\n",
              "      <td>https://hd.co.th//ask/51006398</td>\n",
              "      <td>June 30, 2018 14:49</td>\n",
              "    </tr>\n",
              "    <tr>\n",
              "      <th>2</th>\n",
              "      <td>ตั้งครรภ์14สัปดาค่ะปวดท้องเหนือสะดือเเนวยาวร่อ...</td>\n",
              "      <td>https://hd.co.th//ask/4362714</td>\n",
              "      <td>August 31, 2018 15:07</td>\n",
              "    </tr>\n",
              "    <tr>\n",
              "      <th>3</th>\n",
              "      <td>ตั้งครรภ์24สัปดาห์โดนหมากัดที่ขามีรอยถลอกต้องไ...</td>\n",
              "      <td>https://hd.co.th//ask/33971594</td>\n",
              "      <td>November 07, 2018 18:58</td>\n",
              "    </tr>\n",
              "    <tr>\n",
              "      <th>4</th>\n",
              "      <td>ตั้งครรภ์ แต่ได๋อัลตราซาวด์ดูหมอบอกมีเลือกออกบ...</td>\n",
              "      <td>https://hd.co.th//ask/48478898</td>\n",
              "      <td>August 06, 2018 1:35</td>\n",
              "    </tr>\n",
              "  </tbody>\n",
              "</table>\n",
              "</div>"
            ],
            "text/plain": [
              "                                            question  ...                 date_ask\n",
              "0                                          ตั้งครรภ์  ...   October 01, 2019 17:30\n",
              "1                ตั้งครรภ์5เดือนสามารถตัดปากมดได้ไหม  ...      June 30, 2018 14:49\n",
              "2  ตั้งครรภ์14สัปดาค่ะปวดท้องเหนือสะดือเเนวยาวร่อ...  ...    August 31, 2018 15:07\n",
              "3  ตั้งครรภ์24สัปดาห์โดนหมากัดที่ขามีรอยถลอกต้องไ...  ...  November 07, 2018 18:58\n",
              "4  ตั้งครรภ์ แต่ได๋อัลตราซาวด์ดูหมอบอกมีเลือกออกบ...  ...     August 06, 2018 1:35\n",
              "\n",
              "[5 rows x 3 columns]"
            ]
          },
          "metadata": {
            "tags": []
          },
          "execution_count": 43
        }
      ]
    },
    {
      "cell_type": "code",
      "metadata": {
        "colab": {
          "base_uri": "https://localhost:8080/"
        },
        "id": "YrQCSDpMA-re",
        "outputId": "8b06f087-2d49-42e4-90d1-91982fe44961"
      },
      "source": [
        "print(dataset.shape)\r\n",
        "print(\"===============================================\")\r\n",
        "print(dataset.info())"
      ],
      "execution_count": 44,
      "outputs": [
        {
          "output_type": "stream",
          "text": [
            "(9991, 3)\n",
            "===============================================\n",
            "<class 'pandas.core.frame.DataFrame'>\n",
            "RangeIndex: 9991 entries, 0 to 9990\n",
            "Data columns (total 3 columns):\n",
            " #   Column    Non-Null Count  Dtype \n",
            "---  ------    --------------  ----- \n",
            " 0   question  9987 non-null   object\n",
            " 1   href      9990 non-null   object\n",
            " 2   date_ask  9986 non-null   object\n",
            "dtypes: object(3)\n",
            "memory usage: 234.3+ KB\n",
            "None\n"
          ],
          "name": "stdout"
        }
      ]
    },
    {
      "cell_type": "code",
      "metadata": {
        "id": "DTjHBV0_Gy5f"
      },
      "source": [
        "%reload_ext autoreload\r\n",
        "%autoreload 2\r\n",
        "%matplotlib inline"
      ],
      "execution_count": 45,
      "outputs": []
    },
    {
      "cell_type": "code",
      "metadata": {
        "id": "XEPy2EYSG9zd"
      },
      "source": [
        "try:\r\n",
        "    %tensorflow_version 2.x\r\n",
        "except:\r\n",
        "    pass"
      ],
      "execution_count": 46,
      "outputs": []
    },
    {
      "cell_type": "code",
      "metadata": {
        "colab": {
          "base_uri": "https://localhost:8080/"
        },
        "id": "UeAQQJ6zHAov",
        "outputId": "7c2151ef-41fc-4aec-c919-811655b2eba1"
      },
      "source": [
        "#dev version\r\n",
        "# !pip install https://github.com/PyThaiNLP/pythainlp/archive/dev.zip\r\n",
        "\r\n",
        "# release version \r\n",
        "! pip install pythainlp\r\n",
        "\r\n",
        "!pip install epitran\r\n",
        "!pip install sklearn_crfsuite\r\n",
        "!pip install tensorflow deepcut\r\n",
        "!pip install attacut"
      ],
      "execution_count": 47,
      "outputs": [
        {
          "output_type": "stream",
          "text": [
            "Requirement already satisfied: pythainlp in /usr/local/lib/python3.6/dist-packages (2.2.6)\n",
            "Requirement already satisfied: python-crfsuite>=0.9.6 in /usr/local/lib/python3.6/dist-packages (from pythainlp) (0.9.7)\n",
            "Requirement already satisfied: requests>=2.22.0 in /usr/local/lib/python3.6/dist-packages (from pythainlp) (2.23.0)\n",
            "Requirement already satisfied: tinydb>=3.0 in /usr/local/lib/python3.6/dist-packages (from pythainlp) (4.3.0)\n",
            "Requirement already satisfied: certifi>=2017.4.17 in /usr/local/lib/python3.6/dist-packages (from requests>=2.22.0->pythainlp) (2020.12.5)\n",
            "Requirement already satisfied: idna<3,>=2.5 in /usr/local/lib/python3.6/dist-packages (from requests>=2.22.0->pythainlp) (2.10)\n",
            "Requirement already satisfied: chardet<4,>=3.0.2 in /usr/local/lib/python3.6/dist-packages (from requests>=2.22.0->pythainlp) (3.0.4)\n",
            "Requirement already satisfied: urllib3!=1.25.0,!=1.25.1,<1.26,>=1.21.1 in /usr/local/lib/python3.6/dist-packages (from requests>=2.22.0->pythainlp) (1.24.3)\n",
            "Requirement already satisfied: epitran in /usr/local/lib/python3.6/dist-packages (1.8)\n",
            "Requirement already satisfied: regex in /usr/local/lib/python3.6/dist-packages (from epitran) (2019.12.20)\n",
            "Requirement already satisfied: panphon>=0.16 in /usr/local/lib/python3.6/dist-packages (from epitran) (0.17)\n",
            "Requirement already satisfied: marisa-trie in /usr/local/lib/python3.6/dist-packages (from epitran) (0.7.5)\n",
            "Requirement already satisfied: unicodecsv in /usr/local/lib/python3.6/dist-packages (from epitran) (0.14.1)\n",
            "Requirement already satisfied: setuptools in /usr/local/lib/python3.6/dist-packages (from epitran) (51.0.0)\n",
            "Requirement already satisfied: munkres in /usr/local/lib/python3.6/dist-packages (from panphon>=0.16->epitran) (1.1.4)\n",
            "Requirement already satisfied: editdistance in /usr/local/lib/python3.6/dist-packages (from panphon>=0.16->epitran) (0.5.3)\n",
            "Requirement already satisfied: PyYAML in /usr/local/lib/python3.6/dist-packages (from panphon>=0.16->epitran) (5.3.1)\n",
            "Requirement already satisfied: numpy in /usr/local/lib/python3.6/dist-packages (from panphon>=0.16->epitran) (1.19.4)\n",
            "Requirement already satisfied: sklearn_crfsuite in /usr/local/lib/python3.6/dist-packages (0.3.6)\n",
            "Requirement already satisfied: tqdm>=2.0 in /usr/local/lib/python3.6/dist-packages (from sklearn_crfsuite) (4.41.1)\n",
            "Requirement already satisfied: tabulate in /usr/local/lib/python3.6/dist-packages (from sklearn_crfsuite) (0.8.7)\n",
            "Requirement already satisfied: six in /usr/local/lib/python3.6/dist-packages (from sklearn_crfsuite) (1.15.0)\n",
            "Requirement already satisfied: python-crfsuite>=0.8.3 in /usr/local/lib/python3.6/dist-packages (from sklearn_crfsuite) (0.9.7)\n",
            "Requirement already satisfied: tensorflow in /usr/local/lib/python3.6/dist-packages (2.4.0)\n",
            "Requirement already satisfied: deepcut in /usr/local/lib/python3.6/dist-packages (0.7.0.0)\n",
            "Requirement already satisfied: grpcio~=1.32.0 in /usr/local/lib/python3.6/dist-packages (from tensorflow) (1.32.0)\n",
            "Requirement already satisfied: numpy~=1.19.2 in /usr/local/lib/python3.6/dist-packages (from tensorflow) (1.19.4)\n",
            "Requirement already satisfied: tensorflow-estimator<2.5.0,>=2.4.0rc0 in /usr/local/lib/python3.6/dist-packages (from tensorflow) (2.4.0)\n",
            "Requirement already satisfied: flatbuffers~=1.12.0 in /usr/local/lib/python3.6/dist-packages (from tensorflow) (1.12)\n",
            "Requirement already satisfied: six~=1.15.0 in /usr/local/lib/python3.6/dist-packages (from tensorflow) (1.15.0)\n",
            "Requirement already satisfied: h5py~=2.10.0 in /usr/local/lib/python3.6/dist-packages (from tensorflow) (2.10.0)\n",
            "Requirement already satisfied: google-pasta~=0.2 in /usr/local/lib/python3.6/dist-packages (from tensorflow) (0.2.0)\n",
            "Requirement already satisfied: wrapt~=1.12.1 in /usr/local/lib/python3.6/dist-packages (from tensorflow) (1.12.1)\n",
            "Requirement already satisfied: opt-einsum~=3.3.0 in /usr/local/lib/python3.6/dist-packages (from tensorflow) (3.3.0)\n",
            "Requirement already satisfied: gast==0.3.3 in /usr/local/lib/python3.6/dist-packages (from tensorflow) (0.3.3)\n",
            "Requirement already satisfied: tensorboard~=2.4 in /usr/local/lib/python3.6/dist-packages (from tensorflow) (2.4.0)\n",
            "Requirement already satisfied: keras-preprocessing~=1.1.2 in /usr/local/lib/python3.6/dist-packages (from tensorflow) (1.1.2)\n",
            "Requirement already satisfied: termcolor~=1.1.0 in /usr/local/lib/python3.6/dist-packages (from tensorflow) (1.1.0)\n",
            "Requirement already satisfied: protobuf>=3.9.2 in /usr/local/lib/python3.6/dist-packages (from tensorflow) (3.12.4)\n",
            "Requirement already satisfied: wheel~=0.35 in /usr/local/lib/python3.6/dist-packages (from tensorflow) (0.36.2)\n",
            "Requirement already satisfied: absl-py~=0.10 in /usr/local/lib/python3.6/dist-packages (from tensorflow) (0.10.0)\n",
            "Requirement already satisfied: typing-extensions~=3.7.4 in /usr/local/lib/python3.6/dist-packages (from tensorflow) (3.7.4.3)\n",
            "Requirement already satisfied: astunparse~=1.6.3 in /usr/local/lib/python3.6/dist-packages (from tensorflow) (1.6.3)\n",
            "Requirement already satisfied: scipy in /usr/local/lib/python3.6/dist-packages (from deepcut) (1.4.1)\n",
            "Requirement already satisfied: pandas in /usr/local/lib/python3.6/dist-packages (from deepcut) (1.1.5)\n",
            "Requirement already satisfied: scikit-learn in /usr/local/lib/python3.6/dist-packages (from deepcut) (0.22.2.post1)\n",
            "Requirement already satisfied: tensorboard-plugin-wit>=1.6.0 in /usr/local/lib/python3.6/dist-packages (from tensorboard~=2.4->tensorflow) (1.7.0)\n",
            "Requirement already satisfied: google-auth<2,>=1.6.3 in /usr/local/lib/python3.6/dist-packages (from tensorboard~=2.4->tensorflow) (1.17.2)\n",
            "Requirement already satisfied: setuptools>=41.0.0 in /usr/local/lib/python3.6/dist-packages (from tensorboard~=2.4->tensorflow) (51.0.0)\n",
            "Requirement already satisfied: werkzeug>=0.11.15 in /usr/local/lib/python3.6/dist-packages (from tensorboard~=2.4->tensorflow) (1.0.1)\n",
            "Requirement already satisfied: google-auth-oauthlib<0.5,>=0.4.1 in /usr/local/lib/python3.6/dist-packages (from tensorboard~=2.4->tensorflow) (0.4.2)\n",
            "Requirement already satisfied: markdown>=2.6.8 in /usr/local/lib/python3.6/dist-packages (from tensorboard~=2.4->tensorflow) (3.3.3)\n",
            "Requirement already satisfied: requests<3,>=2.21.0 in /usr/local/lib/python3.6/dist-packages (from tensorboard~=2.4->tensorflow) (2.23.0)\n",
            "Requirement already satisfied: pytz>=2017.2 in /usr/local/lib/python3.6/dist-packages (from pandas->deepcut) (2018.9)\n",
            "Requirement already satisfied: python-dateutil>=2.7.3 in /usr/local/lib/python3.6/dist-packages (from pandas->deepcut) (2.8.1)\n",
            "Requirement already satisfied: joblib>=0.11 in /usr/local/lib/python3.6/dist-packages (from scikit-learn->deepcut) (1.0.0)\n",
            "Requirement already satisfied: pyasn1-modules>=0.2.1 in /usr/local/lib/python3.6/dist-packages (from google-auth<2,>=1.6.3->tensorboard~=2.4->tensorflow) (0.2.8)\n",
            "Requirement already satisfied: cachetools<5.0,>=2.0.0 in /usr/local/lib/python3.6/dist-packages (from google-auth<2,>=1.6.3->tensorboard~=2.4->tensorflow) (4.2.0)\n",
            "Requirement already satisfied: rsa<5,>=3.1.4; python_version >= \"3\" in /usr/local/lib/python3.6/dist-packages (from google-auth<2,>=1.6.3->tensorboard~=2.4->tensorflow) (4.6)\n",
            "Requirement already satisfied: requests-oauthlib>=0.7.0 in /usr/local/lib/python3.6/dist-packages (from google-auth-oauthlib<0.5,>=0.4.1->tensorboard~=2.4->tensorflow) (1.3.0)\n",
            "Requirement already satisfied: importlib-metadata; python_version < \"3.8\" in /usr/local/lib/python3.6/dist-packages (from markdown>=2.6.8->tensorboard~=2.4->tensorflow) (3.3.0)\n",
            "Requirement already satisfied: urllib3!=1.25.0,!=1.25.1,<1.26,>=1.21.1 in /usr/local/lib/python3.6/dist-packages (from requests<3,>=2.21.0->tensorboard~=2.4->tensorflow) (1.24.3)\n",
            "Requirement already satisfied: idna<3,>=2.5 in /usr/local/lib/python3.6/dist-packages (from requests<3,>=2.21.0->tensorboard~=2.4->tensorflow) (2.10)\n",
            "Requirement already satisfied: certifi>=2017.4.17 in /usr/local/lib/python3.6/dist-packages (from requests<3,>=2.21.0->tensorboard~=2.4->tensorflow) (2020.12.5)\n",
            "Requirement already satisfied: chardet<4,>=3.0.2 in /usr/local/lib/python3.6/dist-packages (from requests<3,>=2.21.0->tensorboard~=2.4->tensorflow) (3.0.4)\n",
            "Requirement already satisfied: pyasn1<0.5.0,>=0.4.6 in /usr/local/lib/python3.6/dist-packages (from pyasn1-modules>=0.2.1->google-auth<2,>=1.6.3->tensorboard~=2.4->tensorflow) (0.4.8)\n",
            "Requirement already satisfied: oauthlib>=3.0.0 in /usr/local/lib/python3.6/dist-packages (from requests-oauthlib>=0.7.0->google-auth-oauthlib<0.5,>=0.4.1->tensorboard~=2.4->tensorflow) (3.1.0)\n",
            "Requirement already satisfied: zipp>=0.5 in /usr/local/lib/python3.6/dist-packages (from importlib-metadata; python_version < \"3.8\"->markdown>=2.6.8->tensorboard~=2.4->tensorflow) (3.4.0)\n",
            "Requirement already satisfied: attacut in /usr/local/lib/python3.6/dist-packages (1.0.6)\n",
            "Requirement already satisfied: docopt>=0.6.2 in /usr/local/lib/python3.6/dist-packages (from attacut) (0.6.2)\n",
            "Requirement already satisfied: fire>=0.1.3 in /usr/local/lib/python3.6/dist-packages (from attacut) (0.3.1)\n",
            "Requirement already satisfied: nptyping>=0.2.0 in /usr/local/lib/python3.6/dist-packages (from attacut) (1.4.0)\n",
            "Requirement already satisfied: torch>=1.2.0 in /usr/local/lib/python3.6/dist-packages (from attacut) (1.7.0+cu101)\n",
            "Requirement already satisfied: ssg>=0.0.4 in /usr/local/lib/python3.6/dist-packages (from attacut) (0.0.6)\n",
            "Requirement already satisfied: pyyaml>=5.1.2 in /usr/local/lib/python3.6/dist-packages (from attacut) (5.3.1)\n",
            "Requirement already satisfied: six>=1.12.0 in /usr/local/lib/python3.6/dist-packages (from attacut) (1.15.0)\n",
            "Requirement already satisfied: numpy>=1.17.0 in /usr/local/lib/python3.6/dist-packages (from attacut) (1.19.4)\n",
            "Requirement already satisfied: termcolor in /usr/local/lib/python3.6/dist-packages (from fire>=0.1.3->attacut) (1.1.0)\n",
            "Requirement already satisfied: typish>=1.7.0 in /usr/local/lib/python3.6/dist-packages (from nptyping>=0.2.0->attacut) (1.9.1)\n",
            "Requirement already satisfied: typing-extensions in /usr/local/lib/python3.6/dist-packages (from torch>=1.2.0->attacut) (3.7.4.3)\n",
            "Requirement already satisfied: dataclasses in /usr/local/lib/python3.6/dist-packages (from torch>=1.2.0->attacut) (0.8)\n",
            "Requirement already satisfied: future in /usr/local/lib/python3.6/dist-packages (from torch>=1.2.0->attacut) (0.16.0)\n",
            "Requirement already satisfied: tqdm>=4.32.2 in /usr/local/lib/python3.6/dist-packages (from ssg>=0.0.4->attacut) (4.41.1)\n",
            "Requirement already satisfied: python-crfsuite>=0.9.6 in /usr/local/lib/python3.6/dist-packages (from ssg>=0.0.4->attacut) (0.9.7)\n"
          ],
          "name": "stdout"
        }
      ]
    },
    {
      "cell_type": "code",
      "metadata": {
        "id": "wiop-vkdHFM2"
      },
      "source": [
        "import warnings\r\n",
        "warnings.filterwarnings('ignore')"
      ],
      "execution_count": 48,
      "outputs": []
    },
    {
      "cell_type": "code",
      "metadata": {
        "id": "0q81-wBAHHRg",
        "colab": {
          "base_uri": "https://localhost:8080/",
          "height": 35
        },
        "outputId": "2e385fa8-27bd-4855-d39f-8276d240e849"
      },
      "source": [
        "import pythainlp\r\n",
        "\r\n",
        "pythainlp.__version__"
      ],
      "execution_count": 49,
      "outputs": [
        {
          "output_type": "execute_result",
          "data": {
            "application/vnd.google.colaboratory.intrinsic+json": {
              "type": "string"
            },
            "text/plain": [
              "'2.2.6'"
            ]
          },
          "metadata": {
            "tags": []
          },
          "execution_count": 49
        }
      ]
    },
    {
      "cell_type": "code",
      "metadata": {
        "id": "ef2rovV4REM6"
      },
      "source": [
        "dataset_q = dataset.iloc[0:50,0]"
      ],
      "execution_count": 50,
      "outputs": []
    },
    {
      "cell_type": "code",
      "metadata": {
        "id": "UcL7mJRGIT_l"
      },
      "source": [
        "import re, string, unicodedata"
      ],
      "execution_count": 51,
      "outputs": []
    },
    {
      "cell_type": "code",
      "metadata": {
        "id": "AT6ZayoqHPHt"
      },
      "source": [
        "from pythainlp import sent_tokenize, word_tokenize\r\n",
        "from pythainlp.corpus import thai_stopwords\r\n",
        "from pythainlp.util import normalize\r\n",
        "from pythainlp.spell import correct\r\n",
        "\r\n",
        "\r\n",
        "stopwords = list(thai_stopwords())\r\n"
      ],
      "execution_count": 52,
      "outputs": []
    },
    {
      "cell_type": "code",
      "metadata": {
        "id": "85XSqTqlHa0V"
      },
      "source": [
        "def preprocess_review(reviews): \r\n",
        "    cleaned_words = []\r\n",
        "    for review in reviews:\r\n",
        "        review = re.sub(\"[^\\u0E00-\\u0E7Fa-zA-Z0-9' ]|^'|'$|''\", \"\", str(review))\r\n",
        "        words = word_tokenize(review, engine=\"deepcut\")\r\n",
        "        tokenized_words = [word for word in words if word not in stopwords]\r\n",
        "        # correct_word = correct(str(tokenized_words))\r\n",
        "        # lemmatized_word = lemmatize_word(tokenized_words)\r\n",
        "        cleaned_words.append(tokenized_words)\r\n",
        "    return cleaned_words\r\n"
      ],
      "execution_count": 53,
      "outputs": []
    },
    {
      "cell_type": "code",
      "metadata": {
        "id": "QGENEhAoIAnt",
        "colab": {
          "base_uri": "https://localhost:8080/"
        },
        "outputId": "26a08546-3e3f-4792-e54b-20356348d94a"
      },
      "source": [
        "\r\n",
        "# data_np = np.array(str(data_stopw))\r\n",
        "data_stopw = preprocess_review(dataset_q)\r\n",
        "data_stopw\r\n"
      ],
      "execution_count": 54,
      "outputs": [
        {
          "output_type": "execute_result",
          "data": {
            "text/plain": [
              "[['ครรภ์'],\n",
              " ['ครรภ์', '5', 'เดือน', 'ตัด', 'ปาก', 'มด', 'ไหม'],\n",
              " ['ครรภ์',\n",
              "  '14',\n",
              "  'สัปดา',\n",
              "  'ปวด',\n",
              "  'ท้อง',\n",
              "  'เหนือ',\n",
              "  'สะดือ',\n",
              "  'เเนวยาว',\n",
              "  'ร่อง',\n",
              "  'นม',\n",
              "  'ทราบ',\n",
              "  'เปน',\n",
              "  'ไคำ',\n",
              "  'ถาม',\n",
              "  'ตอบ',\n",
              "  'พยาบาล',\n",
              "  'เชี่ยวชาญ'],\n",
              " ['ครรภ์',\n",
              "  '24',\n",
              "  'สัปดาห์',\n",
              "  'โดน',\n",
              "  'หมา',\n",
              "  'กัด',\n",
              "  'ขา',\n",
              "  'รอย',\n",
              "  'ถลอก',\n",
              "  'หา',\n",
              "  'หมอ',\n",
              "  'ไหม'],\n",
              " ['ครรภ์',\n",
              "  ' ',\n",
              "  'ได๋',\n",
              "  'อัลตราซาวด์',\n",
              "  'ดู',\n",
              "  'หมอ',\n",
              "  'เลือก',\n",
              "  'บริเวณ',\n",
              "  'รก',\n",
              "  ' ',\n",
              "  'เรย'],\n",
              " ['ครรภ์',\n",
              "  '5',\n",
              "  'เดือน',\n",
              "  'คะมี',\n",
              "  'ตก',\n",
              "  'ขาว',\n",
              "  'สี',\n",
              "  'น้ำตาล',\n",
              "  'ขุ่น',\n",
              "  'แดง',\n",
              "  'เข้ม',\n",
              "  'แห้ง',\n",
              "  'กลิ่น',\n",
              "  'อาการ',\n",
              "  'ปกติ',\n",
              "  'ทราบ',\n",
              "  'อันตราย',\n",
              "  'ไหม',\n",
              "  'ค้ะ',\n",
              "  'สาเหตุ',\n",
              "  'ถาม',\n",
              "  'ตอบ',\n",
              "  'พยาบาล',\n",
              "  'เชี่ยวชาญ'],\n",
              " ['ครรภ์', '3', 'เดือน', 'ทาน', 'ถาม', 'ตอบ', 'พยาบาล', 'เชี่ยวชาญ'],\n",
              " ['ตรวจ',\n",
              "  'เลือด',\n",
              "  'ประจำ',\n",
              "  'ปี',\n",
              "  'ทำ',\n",
              "  'งาน',\n",
              "  ' ',\n",
              "  'แจ้ง',\n",
              "  'เลือด',\n",
              "  ' ',\n",
              "  'ครรภ์',\n",
              "  'ถาม',\n",
              "  'ตอบ',\n",
              "  'พยาบาล',\n",
              "  'เชี่ยวชาญ'],\n",
              " ['ครรภ์',\n",
              "  '8',\n",
              "  'เดือน',\n",
              "  'ปวด',\n",
              "  'ฟัน',\n",
              "  'กราม',\n",
              "  'ซี่',\n",
              "  'อุด',\n",
              "  'ผุ',\n",
              "  'วิธี',\n",
              "  'ระงับ',\n",
              "  'คะกว่า',\n",
              "  'ตอน',\n",
              "  'คลอด',\n",
              "  'ถาม',\n",
              "  'ตอบ',\n",
              "  'พยาบาล',\n",
              "  'เชี่ยวชาญ'],\n",
              " ['ครรภ์',\n",
              "  ' ',\n",
              "  ' ',\n",
              "  'ทาน',\n",
              "  'อาหาร',\n",
              "  'เหมือน',\n",
              "  'อาหาร',\n",
              "  ' ',\n",
              "  ' ',\n",
              "  'ปวด',\n",
              "  'ท้อง'],\n",
              " ['ครรภ์', '11', 'สัปดาห์', 'หมอซาวด์', 'หัวใจ', 'เด็ก'],\n",
              " ['ครรภ์', '35', 'week่', 'ท้องแข็ง', 'อันตราย', 'เด็ก', 'ครรภ์'],\n",
              " ['ครรภ์',\n",
              "  '24',\n",
              "  'สัปดาห์',\n",
              "  'เจ็บ',\n",
              "  'หน่วง',\n",
              "  'บริเวณ',\n",
              "  'ท้องน้อย',\n",
              "  'อวัยวะ',\n",
              "  'เพศ',\n",
              "  'ทำ'],\n",
              " ['ครรภ์',\n",
              "  ' ',\n",
              "  'ดื่ม',\n",
              "  'นม',\n",
              "  'วัว',\n",
              "  ' ',\n",
              "  'ประโยชน์',\n",
              "  ' ',\n",
              "  'แบะ',\n",
              "  'กระทบ',\n",
              "  'ดื่ม',\n",
              "  'นม',\n",
              "  'วัว',\n",
              "  'เด็ก',\n",
              "  'ครรภ์'],\n",
              " ['ตรวจ',\n",
              "  'ไวรัส',\n",
              "  'ตับ',\n",
              "  ' ',\n",
              "  'ตรวจ',\n",
              "  'ปัสวะ',\n",
              "  'สาร',\n",
              "  'เสพ',\n",
              "  'ติด',\n",
              "  ' ',\n",
              "  'ครรภ์',\n",
              "  ' ',\n",
              "  'ค่า',\n",
              "  'ใช้จ่าย',\n",
              "  'ไหร่',\n",
              "  'ถาม',\n",
              "  'ตอบ',\n",
              "  'พยาบาล',\n",
              "  'เชี่ยวชาญ'],\n",
              " ['ครรภ์',\n",
              "  '14',\n",
              "  'สัปดาห์',\n",
              "  ' ',\n",
              "  'ทำ',\n",
              "  'ครรภ์',\n",
              "  'พึงประสงค์',\n",
              "  'ไหม',\n",
              "  'ถาม',\n",
              "  'ตอบ',\n",
              "  'พยาบาล',\n",
              "  'เชี่ยวชาญ'],\n",
              " ['ครรภ์', ' ', 'รก', 'ต่ำ', ' ', 'สาเหตุ'],\n",
              " ['ครรภ์', ' ', '10', 'W', 'ตก', 'ขาว', 'สี', 'เหลือง', 'ฉี่', 'แสบ', 'ทำ'],\n",
              " ['ครรภ์',\n",
              "  '7',\n",
              "  ' ',\n",
              "  'เดือน',\n",
              "  'ตกขาว',\n",
              "  ' ',\n",
              "  'ตลอดจะ',\n",
              "  'อันตราย',\n",
              "  'ลูก',\n",
              "  'ครรภ์',\n",
              "  'ไหม'],\n",
              " ['ครรภ์',\n",
              "  ' ',\n",
              "  'หา',\n",
              "  'หมอ',\n",
              "  'ทำ',\n",
              "  ' ',\n",
              "  'เตรียม',\n",
              "  'ตัว',\n",
              "  ' ',\n",
              "  'ค่า',\n",
              "  'ใช้จ่าย'],\n",
              " ['ครรภ์',\n",
              "  '8',\n",
              "  'เดือน',\n",
              "  ' ',\n",
              "  'ทาน',\n",
              "  'ยา',\n",
              "  'คะคำ',\n",
              "  'ถาม',\n",
              "  'ตอบ',\n",
              "  'พยาบาล',\n",
              "  'เชี่ยวชาญ'],\n",
              " ['ครรภ์', ' ', '6', ' ', 'เดือน', ' ', 'ลูก', 'ดิ้น', 'ดิ้น', 'ปกติ', 'ไหม'],\n",
              " ['อนุญาต',\n",
              "  'ถาม',\n",
              "  ' ',\n",
              "  'ครรภ์',\n",
              "  '5',\n",
              "  'เดือน',\n",
              "  'ทำ',\n",
              "  'แท้ง',\n",
              "  'โรง',\n",
              "  'พยาบาล',\n",
              "  'ถาม',\n",
              "  'ตอบ',\n",
              "  'พยาบาล',\n",
              "  'เชี่ยวชาญ'],\n",
              " ['ครรภ์',\n",
              "  '5',\n",
              "  ' ',\n",
              "  'เดือน',\n",
              "  ' ',\n",
              "  'ฝาก',\n",
              "  'ไหม',\n",
              "  ' ',\n",
              "  'ค่า',\n",
              "  'ใช้จ่าย',\n",
              "  'ไหร่',\n",
              "  'ถาม',\n",
              "  'ตอบ',\n",
              "  'พยาบาล',\n",
              "  'เชี่ยวชาญ'],\n",
              " ['ครรภ์',\n",
              "  ' ',\n",
              "  '14',\n",
              "  ' ',\n",
              "  'สัปดาห์',\n",
              "  ' ',\n",
              "  'อัลตร้าซาวด์',\n",
              "  'เพดาน',\n",
              "  'ปาก',\n",
              "  'ทา',\n",
              "  'รก',\n",
              "  'สร้าง',\n",
              "  ' ',\n",
              "  'ทราบ',\n",
              "  'อาการ',\n",
              "  'ปกติ',\n",
              "  'ป่าว',\n",
              "  'คะคำ',\n",
              "  'ถาม',\n",
              "  'ตอบ',\n",
              "  'พยาบาล',\n",
              "  'เชี่ยวชาญ'],\n",
              " ['ครรภ์',\n",
              "  ' ',\n",
              "  '24',\n",
              "  ' ',\n",
              "  'สัปดาห์',\n",
              "  ' ',\n",
              "  'ต้องการ',\n",
              "  'เจาะ',\n",
              "  'น้ำคร่ำ',\n",
              "  'ตรวจ',\n",
              "  'ดาวน์',\n",
              "  'ซินโดรม',\n",
              "  ' ',\n",
              "  'ทราบ',\n",
              "  'เสีน',\n",
              "  'ค่า',\n",
              "  'ใช้จ่าย',\n",
              "  'ไหร่',\n",
              "  'ถาม',\n",
              "  'ตอบ',\n",
              "  'พยาบาล',\n",
              "  'เชี่ยวชาญ'],\n",
              " ['ครรภ์',\n",
              "  ' ',\n",
              "  'ไอ',\n",
              "  'เจ็บ',\n",
              "  'กล้ามเนื้อ',\n",
              "  'ขวา',\n",
              "  ' ',\n",
              "  'หายไจ',\n",
              "  'ไอ',\n",
              "  'เจ็บปวด',\n",
              "  'ทรมาน',\n",
              "  ' ',\n",
              "  'นอน',\n",
              "  ' ',\n",
              "  'ทำ',\n",
              "  'หาย'],\n",
              " ['ครรภ์',\n",
              "  '19',\n",
              "  'w',\n",
              "  'เริม',\n",
              "  'ปาก',\n",
              "  'เด็ก',\n",
              "  'ครรภ์',\n",
              "  'ไหม',\n",
              "  'ถาม',\n",
              "  'ตอบ',\n",
              "  'พยาบาล',\n",
              "  'เชี่ยวชาญ'],\n",
              " ['ครรภ์', ' ', 'ยา', ' ', 'ไกเนคอน', ' ', 'ไหม'],\n",
              " ['ครรภ์',\n",
              "  '403',\n",
              "  'w',\n",
              "  ' ',\n",
              "  'อาการ',\n",
              "  'เรย',\n",
              "  'เจ็บ',\n",
              "  'จี๊ด',\n",
              "  'เวลา',\n",
              "  'เดิน',\n",
              "  'จิมิ',\n",
              "  'นั่ง',\n",
              "  'ก้อ',\n",
              "  'เสียว',\n",
              "  'ก้น',\n",
              "  'หา',\n",
              "  'หมอ',\n",
              "  'รอ',\n",
              "  'หั้ย',\n",
              "  'ปวด',\n",
              "  'ท้อง',\n",
              "  'แร้ว',\n",
              "  'หมอ'],\n",
              " ['ครรภ์', ' ', '19', ' ', 'สัปดาห์', ' ', 'ลูก', 'ดิ้น', 'ป่าว'],\n",
              " ['ครรภ์', '39', 'สัปดาห์', '6', 'เพศ', 'สัมพันธ์', 'หลั่ง', 'ไหม'],\n",
              " ['ครรภ์',\n",
              "  ' ',\n",
              "  '17',\n",
              "  ' ',\n",
              "  'สัปดาห์',\n",
              "  ' ',\n",
              "  'กาย',\n",
              "  ' ',\n",
              "  'ลูก',\n",
              "  'ครรภ์',\n",
              "  'แม่เเข็งแรง'],\n",
              " ['สวัสดี',\n",
              "  'หมอ',\n",
              "  ' ',\n",
              "  'เพศสัมพันธ์',\n",
              "  'ทราบ',\n",
              "  'ไหร่',\n",
              "  ' ',\n",
              "  'ครรภ์',\n",
              "  ' ',\n",
              "  ' ',\n",
              "  'ครรภ์'],\n",
              " ['ครรภ์',\n",
              "  '33',\n",
              "  'สัปดาห์',\n",
              "  'ผ่าริด',\n",
              "  'สี',\n",
              "  'ดวง',\n",
              "  'ไหม',\n",
              "  ' ',\n",
              "  'ปี',\n",
              "  'โผล่',\n",
              "  ' ',\n",
              "  'กลัว',\n",
              "  'แฟน',\n",
              "  'ตอน',\n",
              "  'คลอด'],\n",
              " ['ครรภ์',\n",
              "  '6',\n",
              "  'สัปดาห์',\n",
              "  'เจอ',\n",
              "  'ภาวะ',\n",
              "  'แท้ง',\n",
              "  'คุกคาม',\n",
              "  'เปน',\n",
              "  'ปคะ',\n",
              "  'เดือน',\n",
              "  'ล้าง',\n",
              "  'หน้า',\n",
              "  'เด็ก',\n",
              "  'บ้าน',\n",
              "  'ตอน',\n",
              "  'ไหล',\n",
              "  '4'],\n",
              " ['ครรภ์',\n",
              "  '2',\n",
              "  ' ',\n",
              "  'เดือน',\n",
              "  'ครึ่ง',\n",
              "  'เหมือน',\n",
              "  '4',\n",
              "  ' ',\n",
              "  'เดือน',\n",
              "  ' ',\n",
              "  'ปกติ',\n",
              "  'เปล่า'],\n",
              " ['ครรภ์',\n",
              "  ' ',\n",
              "  '14',\n",
              "  ' ',\n",
              "  'สัปดาห์',\n",
              "  ' ',\n",
              "  'ตรวจ',\n",
              "  'เชื้อ',\n",
              "  'หัด',\n",
              "  'เยอรมัน',\n",
              "  ' ',\n",
              "  'กลัว',\n",
              "  'ทารก'],\n",
              " ['ครรภ์',\n",
              "  ' ',\n",
              "  '40',\n",
              "  'w',\n",
              "  ' ',\n",
              "  'น้ำ',\n",
              "  'ใส',\n",
              "  'ซึม',\n",
              "  ' ',\n",
              "  'ซึม',\n",
              "  'ตอน',\n",
              "  'กลาง',\n",
              "  'คืน',\n",
              "  'อาการ',\n",
              "  'ปวด',\n",
              "  'ท้อง',\n",
              "  ' ',\n",
              "  'อาการ',\n",
              "  'ทำ',\n",
              "  'ถาม',\n",
              "  'ตอบ',\n",
              "  'พยาบาล',\n",
              "  'เชี่ยวชาญ'],\n",
              " ['ยุติ', 'ครรภ์', ' ', 'ค่า', 'ใช้จ่าย'],\n",
              " ['ครรภ์',\n",
              "  ' ',\n",
              "  '4',\n",
              "  ' ',\n",
              "  'สัปดา',\n",
              "  ' ',\n",
              "  'ต้องการ',\n",
              "  'ยุติ',\n",
              "  'ครรภ์',\n",
              "  ' ',\n",
              "  'ติดต่อ'],\n",
              " ['ครรภ์',\n",
              "  ' ',\n",
              "  'อายุ',\n",
              "  'ครรภ์',\n",
              "  ' ',\n",
              "  '6',\n",
              "  ' ',\n",
              "  'เดือน',\n",
              "  'ครึ่ง',\n",
              "  ' ',\n",
              "  'ทำ',\n",
              "  'ฝาก',\n",
              "  'ครรภ์',\n",
              "  ' ',\n",
              "  'โรงพยาบาล',\n",
              "  'รัฐ',\n",
              "  'ฝาก',\n",
              "  'ครรภ์',\n",
              "  'ไหม'],\n",
              " ['ครรภ์',\n",
              "  ' ',\n",
              "  'อายุ',\n",
              "  'ครรภ์',\n",
              "  ' ',\n",
              "  '6',\n",
              "  ' ',\n",
              "  'เดือน',\n",
              "  'ครึ่ง',\n",
              "  ' ',\n",
              "  'ทำ',\n",
              "  'ฝาก',\n",
              "  'ครรภ์',\n",
              "  ' ',\n",
              "  'โรงพยาบาล',\n",
              "  'รัฐ',\n",
              "  'ฝาก',\n",
              "  'ครรภ์',\n",
              "  'ไหม'],\n",
              " ['ครรภ์',\n",
              "  ' ',\n",
              "  '37',\n",
              "  ' ',\n",
              "  'week',\n",
              "  ' ',\n",
              "  'หัด',\n",
              "  'เยรมัน',\n",
              "  ' ',\n",
              "  'เด็ก',\n",
              "  'ครรภ์',\n",
              "  'ไหม',\n",
              "  ' ',\n",
              "  'รุนแรง',\n",
              "  'ไหม'],\n",
              " ['ครรภ์',\n",
              "  '8',\n",
              "  'เดือน',\n",
              "  'ฟัน',\n",
              "  'ผุ',\n",
              "  'หนัก',\n",
              "  'หิน',\n",
              "  'ปูน',\n",
              "  'ฝาก',\n",
              "  'ท้อง',\n",
              "  'คลีนิคหมอ',\n",
              "  'สุรชาติ',\n",
              "  'ทำ',\n",
              "  'โรง',\n",
              "  'บาล',\n",
              "  'ค่า',\n",
              "  'ใช้จ่าย',\n",
              "  'ไหร่',\n",
              "  ' ',\n",
              "  'บัตร',\n",
              "  '30'],\n",
              " ['ครรภ์',\n",
              "  ' ',\n",
              "  '35',\n",
              "  'w ',\n",
              "  'ทาน',\n",
              "  'น้พใบ',\n",
              "  'เตย',\n",
              "  'ผสม',\n",
              "  'เนื้อ',\n",
              "  'ว่านหาง',\n",
              "  'จระเข้',\n",
              "  ' ',\n",
              "  'ขนาด',\n",
              "  ' ',\n",
              "  '250',\n",
              "  'ml',\n",
              "  ' ',\n",
              "  'แอบ',\n",
              "  'กังวล',\n",
              "  'อ่าน',\n",
              "  'เจอ',\n",
              "  'ทาน'],\n",
              " ['ครรภ์',\n",
              "  ' ',\n",
              "  '7',\n",
              "  'เดือน',\n",
              "  'วาน',\n",
              "  'อาการ',\n",
              "  ' ',\n",
              "  'ตา',\n",
              "  'พร่า',\n",
              "  'มัว',\n",
              "  ' ',\n",
              "  'ปวด',\n",
              "  'หัว',\n",
              "  'ซีก',\n",
              "  'ขวา',\n",
              "  ' ',\n",
              "  'แขน',\n",
              "  'ชา',\n",
              "  'มือ',\n",
              "  'ชา',\n",
              "  'ซ้าย'],\n",
              " ['ครรภ์',\n",
              "  '28',\n",
              "  'w',\n",
              "  '4',\n",
              "  ' ',\n",
              "  'รู้สึก',\n",
              "  'เจ็บ',\n",
              "  'แสบ',\n",
              "  'เวลา',\n",
              "  'เพศสัมพันธ์',\n",
              "  ' ',\n",
              "  'สังเกต',\n",
              "  'ช่อง',\n",
              "  'คลอด',\n",
              "  'แดง',\n",
              "  ' ',\n",
              "  'ถาม',\n",
              "  'ตอบ',\n",
              "  'พยาบาล',\n",
              "  'เชี่ยวชาญ'],\n",
              " ['อายุ', '37', 'ครรภ์', ' ', '4', 'เดือน', ' ', 'เจาะ', 'น้ำ', 'คร้ำ', 'ไม'],\n",
              " ['ครรภ์',\n",
              "  ' ',\n",
              "  'เจาะเลือด',\n",
              "  'หา',\n",
              "  'ปกติ',\n",
              "  'โครโมโซม',\n",
              "  'ลูก',\n",
              "  ' ',\n",
              "  'เสี่ยง',\n",
              "  '41',\n",
              "  ' ',\n",
              "  'โรค',\n",
              "  'เทอร์เนอร์',\n",
              "  ' ',\n",
              "  'เจาะ',\n",
              "  'น้ำ',\n",
              "  'คร่ำ',\n",
              "  'เจาะ',\n",
              "  'เลือด',\n",
              "  'ไหม',\n",
              "  ' ',\n",
              "  'กลัว']]"
            ]
          },
          "metadata": {
            "tags": []
          },
          "execution_count": 54
        }
      ]
    },
    {
      "cell_type": "code",
      "metadata": {
        "id": "3TXdLujtPNWG",
        "colab": {
          "base_uri": "https://localhost:8080/"
        },
        "outputId": "2909d7f1-4111-4724-e381-a0478da2c6e6"
      },
      "source": [
        "import gensim\r\n",
        "from gensim.utils import simple_preprocess\r\n",
        "from gensim.parsing.preprocessing import STOPWORDS\r\n",
        "from nltk.stem import WordNetLemmatizer, SnowballStemmer\r\n",
        "from nltk.stem.porter import *\r\n",
        "import numpy as np\r\n",
        "np.random.seed(2018)\r\n",
        "from multiprocessing import Pool\r\n",
        "import nltk\r\n",
        "nltk.download('wordnet')\r\n",
        "\r\n",
        "# def lemmatize_stemming(text):\r\n",
        "#     return stemmer.stem(WordNetLemmatizer().lemmatize(text, pos='v'))\r\n",
        "#     def preprocess(text):\r\n",
        "#       result = []\r\n",
        "#     for token in gensim.utils.simple_preprocess(text):\r\n",
        "#         if token not in gensim.parsing.preprocessing.STOPWORDS and len(token) > 3:\r\n",
        "#             result.append(lemmatize_stemming(token))\r\n",
        "#     return result"
      ],
      "execution_count": 55,
      "outputs": [
        {
          "output_type": "stream",
          "text": [
            "[nltk_data] Downloading package wordnet to /root/nltk_data...\n",
            "[nltk_data]   Package wordnet is already up-to-date!\n"
          ],
          "name": "stdout"
        },
        {
          "output_type": "execute_result",
          "data": {
            "text/plain": [
              "True"
            ]
          },
          "metadata": {
            "tags": []
          },
          "execution_count": 55
        }
      ]
    },
    {
      "cell_type": "code",
      "metadata": {
        "id": "tqDKDGQwqIQg"
      },
      "source": [
        "dataset = dataset[['question']]\r\n",
        "dataset['index'] = dataset.index\r\n",
        "dataset = dataset"
      ],
      "execution_count": 56,
      "outputs": []
    },
    {
      "cell_type": "code",
      "metadata": {
        "id": "tqY4O0hM4f4_"
      },
      "source": [
        ""
      ],
      "execution_count": 56,
      "outputs": []
    },
    {
      "cell_type": "code",
      "metadata": {
        "id": "92xCASqm51gO",
        "colab": {
          "base_uri": "https://localhost:8080/"
        },
        "outputId": "2f059bb8-defb-45dc-cc8c-9b532c9838a6"
      },
      "source": [
        "from sklearn import preprocessing\r\n",
        "\r\n",
        "doc_sample = dataset[dataset['index'] == 4310].values[0][0]\r\n",
        "print('original document: ')\r\n",
        "words = []\r\n",
        "for word in doc_sample.split(' '):\r\n",
        "      words.append(word)\r\n",
        "print(words)\r\n",
        "print('\\n\\n tokenized and lemmatized document: ')\r\n",
        "print(simple_preprocess(doc_sample))"
      ],
      "execution_count": 57,
      "outputs": [
        {
          "output_type": "stream",
          "text": [
            "original document: \n",
            "['หมอค่ะ', 'คือหนูมีอะไรกับแฟนแล้ว1ครั้ง', 'และอีกวันต่อมามีอะไรกันอีกครั้ง', 'แฟนหลั่งนอกไม่ทันค่ะแต่ถึงกับสุดนะค่ะ', 'และมาหลั่งข้างนอกอีกทีน้ำอุสจิก้มีมากอยู่นะค่ะ', 'มีอะไรติด2วันอ้ะค่ะ', 'วันที่2เชื้ออุสจิจะแข้งแรงพอที่จะท้องได้มั้ยคาะ']\n",
            "\n",
            "\n",
            " tokenized and lemmatized document: \n",
            "['หมอค', 'อหน', 'อะไรก', 'บแฟนแล', 'คร', 'และอ', 'กว', 'นต', 'อมาม', 'อะไรก', 'นอ', 'กคร', 'แฟนหล', 'งนอกไม', 'นค', 'ะแต', 'งก', 'บส', 'ดนะค', 'และมาหล', 'งข', 'างนอกอ', 'กท', 'ำอ', 'สจ', 'มากอย', 'นะค', 'อะไรต', 'นอ', 'ะค', 'นท', 'เช', 'ออ', 'สจ', 'จะแข', 'งแรงพอท', 'จะท', 'องได', 'ยคาะ']\n"
          ],
          "name": "stdout"
        }
      ]
    },
    {
      "cell_type": "code",
      "metadata": {
        "id": "UjucpVyejAOj",
        "colab": {
          "base_uri": "https://localhost:8080/"
        },
        "outputId": "5c04f00b-55e1-4723-b92c-df481651e83c"
      },
      "source": [
        "!pip install pathos"
      ],
      "execution_count": 58,
      "outputs": [
        {
          "output_type": "stream",
          "text": [
            "Requirement already satisfied: pathos in /usr/local/lib/python3.6/dist-packages (0.2.7)\n",
            "Requirement already satisfied: ppft>=1.6.6.3 in /usr/local/lib/python3.6/dist-packages (from pathos) (1.6.6.3)\n",
            "Requirement already satisfied: pox>=0.2.9 in /usr/local/lib/python3.6/dist-packages (from pathos) (0.2.9)\n",
            "Requirement already satisfied: multiprocess>=0.70.11 in /usr/local/lib/python3.6/dist-packages (from pathos) (0.70.11.1)\n",
            "Requirement already satisfied: dill>=0.3.3 in /usr/local/lib/python3.6/dist-packages (from pathos) (0.3.3)\n",
            "Requirement already satisfied: six>=1.7.3 in /usr/local/lib/python3.6/dist-packages (from ppft>=1.6.6.3->pathos) (1.15.0)\n"
          ],
          "name": "stdout"
        }
      ]
    },
    {
      "cell_type": "code",
      "metadata": {
        "id": "YlYM3vUeFcd2"
      },
      "source": [
        "\r\n",
        "import pandas as pd\r\n",
        "import numpy as np\r\n",
        "import time\r\n",
        "from pymongo import MongoClient\r\n",
        "from bson.objectid import ObjectId\r\n",
        "\r\n",
        "import datetime\r\n",
        "import calendar\r\n",
        "import scipy.stats\r\n",
        "from datetime import timedelta, date\r\n",
        "import pytz\r\n",
        "from pytz import timezone\r\n",
        "import multiprocessing\r\n",
        "from multiprocessing import cpu_count #For Parallel\r\n",
        "\r\n",
        "\r\n",
        "cores = cpu_count() #Number of CPU cores on your system\r\n",
        "partitions = cores #Define as many partitions as you want to run parallel\r\n",
        "\r\n",
        "def lemmatize_stemming(text):\r\n",
        "    return stemmer.stem(WordNetLemmatizer().lemmatize(text, pos='v'))\r\n",
        "\r\n",
        "def parallelize(data, func):\r\n",
        "    data_split = np.array_split(data, partitions)\r\n",
        "    pool = multiprocessing.Pool(cores)     #สร้าง multiprocessor จำนวนเท่ากับ core cpu ของ server\r\n",
        "    data = pd.concat(pool.map(func, data_split))\r\n",
        "    pool.close()\r\n",
        "    pool.join()\r\n",
        "    return data\r\n",
        "\r\n",
        "#ตัดคำ\r\n",
        "def preprocess(documents):\r\n",
        "    list_words= [\"สวัสดี\",\"ขอบคุณ\",\"อยู่แล้ว\" , \"สัปดาห์\" ,\"หนูก้อรีบ\" ,\"ชอบเป้น\" ,\"นิดนึง\" ,\"ตุลาเลย\" , \"เหมือน\" , \"สอบถาม\", \"อะครับ\",\"คะอยาก\",\"เสี่ยง\",\"ปริมาณ\",\"ต่อเนื่อง\",\"เปื้อน\",\"กางเกง\",\r\n",
        "                 \"สุดท้าย\",\"เรื่อง\",\"รึป่าว\",\"มากน้อย\",\"ชั่วโมง\",\"ประมาณ\",\"บริเวณ\",\"เชี่ยวชาญ\",\"พยาบาล\",\"ประมาน\",\"นิดเดียว\",\"สม่ำเสมอ\",\"กคประจำ\",\"วี่แวว\",\"เที่ยง\",\"คะแล้ว\",\"ลักษณะ\",\r\n",
        "                 \"อาทิตย์\",\"จันทร์\",\"อังคาร\",\"พุธ\",\"พฤหัส\",\"ศุกร์\",\"เสาร์\",\"คะดิฉัน\",\"สองสาม\",\"รุ้ว่า\",\"ปากช่อง\",\"รึเปล่า\",\"สังเกตุ\",\"ทั้งๆที่\",\"เป็นอยู่\",\"มิถุนา\",\"ได้ยิน\",\"แน่นอน\",\"เครื่อง\",\"ตัดสินใจ\",\"อวัยวะ\",\"สมมุติ\",\"เตรียม\",\"ล่วงหน้า\",\"เรียบร้อย\",\"คับคือ\",\r\n",
        "                 \"เมษายน\",\"ธันวาคม\",\"พฤษภาคม\",\"พฤศจิกายน\",\"มกราคม\",\"กุมภาพันธ์\",\"มีนาคม\",\"มิถุนายน\",\"สิงหาคม\",\"กรกฎาคม\",\"ตุลาคม\",\"กันยายน\",\r\n",
        "                 \"จังหวัด\", \"เลื่อน\",\"ปรึกษา\", \"เกี่ยว\",\"ต้องการ\",\"รู้สึก\",\"สมบูรณ์\",\"มั่นใจ\", \"เนื่อง\", \"สำหรับ\", \"คะพอดี\",\"รุ้สึก\",\"หาสจาก\",\"ร่างกาย\",\"ห้องน้ำ\"]\r\n",
        "    result = []\r\n",
        "    for token in word_tokenize(documents,engine='deepcut'): \r\n",
        "        token = token.strip()\r\n",
        "        if token not in stopwords and len(token) >5 and token not in list_words:\r\n",
        "            token = correct(token)\r\n",
        "            result.append(lemmatize_stemming(token))\r\n",
        "    return result\r\n",
        "\r\n",
        "\r\n",
        "def func(documents):\r\n",
        "    res = documents['headline_text'].map(preprocess)\r\n",
        "    return res\r\n",
        "\r\n",
        "def cleanText(documents):\r\n",
        "    documents['headline_text'] = documents['headline_text'].str.replace('|',' ')\r\n",
        "    documents['headline_text'] = documents['headline_text'].str.replace('\\\\',' ')\r\n",
        "    documents['headline_text'] = documents['headline_text'].str.replace('\\/',' ')\r\n",
        "    documents['headline_text'] = documents['headline_text'].str.replace('.',' ')\r\n",
        "    documents['headline_text'] = documents['headline_text'].str.replace('_','')\r\n",
        "    documents['headline_text'] = documents['headline_text'].str.replace('\\d+', '')\r\n",
        "    documents['headline_text'] = documents['headline_text'].str.replace('-',' ')\r\n",
        "    documents['headline_text'] = documents['headline_text'].str.replace('+',' ')\r\n",
        "    documents['headline_text'] = documents['headline_text'].str.replace('+',' ')\r\n",
        "    pattern = '|'.join(['&', '%', ';', '='])\r\n",
        "    documents['headline_text'] = documents['headline_text'].str.replace(pattern, ' ')\r\n",
        "    # documents = documents.loc[~documents['headline_text'].str.contains(\"img\")]\r\n",
        "    documents.headline_text.replace({r\"[^ก-๙]\":''}, regex=True, inplace=True)\r\n",
        "    documents['headline_text'] = documents['headline_text'].str.replace(':',' ')\r\n",
        "    documents['headline_text'] = documents['headline_text'].str.replace('#',' ')\r\n",
        "    documents['headline_text'] = documents['headline_text'].str.strip()\r\n",
        "    documents = documents.loc[documents['headline_text']!= \"\"]\r\n",
        "    documents = documents.dropna().reset_index(drop=True)\r\n",
        "    return documents\r\n"
      ],
      "execution_count": 59,
      "outputs": []
    },
    {
      "cell_type": "code",
      "metadata": {
        "id": "oyMOx3-9FnLI",
        "colab": {
          "base_uri": "https://localhost:8080/",
          "height": 214
        },
        "outputId": "c9116495-bbaa-46e9-ac84-e03ef37dc6f5"
      },
      "source": [
        "# documents = dataset.copy()\r\n",
        "# documents = documents.rename(columns={'question':'headline_text'})\r\n",
        "\r\n",
        "# # concatenate all string of same user to be headline_text\r\n",
        "# documents = documents.reset_index()\r\n",
        "# print(documents.shape[0])\r\n",
        "# documents.head()\r\n",
        "dataset = dataset.iloc[:,:]\r\n",
        "documents = dataset.copy()\r\n",
        "documents = documents.rename(columns={'question':'headline_text'})\r\n",
        "\r\n",
        "# concatenate all string of same user to be headline_text\r\n",
        "# documents = documents.agg(lambda col: ' '.join(col)).reset_index()\r\n",
        "documents = documents.groupby(['headline_text'], as_index = False).agg({'headline_text': lambda x: ' '.join(x.astype(str))})\r\n",
        "print(documents.shape[0])\r\n",
        "documents.head()\r\n",
        "\r\n",
        "\r\n"
      ],
      "execution_count": 60,
      "outputs": [
        {
          "output_type": "stream",
          "text": [
            "9891\n"
          ],
          "name": "stdout"
        },
        {
          "output_type": "execute_result",
          "data": {
            "text/html": [
              "<div>\n",
              "<style scoped>\n",
              "    .dataframe tbody tr th:only-of-type {\n",
              "        vertical-align: middle;\n",
              "    }\n",
              "\n",
              "    .dataframe tbody tr th {\n",
              "        vertical-align: top;\n",
              "    }\n",
              "\n",
              "    .dataframe thead th {\n",
              "        text-align: right;\n",
              "    }\n",
              "</style>\n",
              "<table border=\"1\" class=\"dataframe\">\n",
              "  <thead>\n",
              "    <tr style=\"text-align: right;\">\n",
              "      <th></th>\n",
              "      <th>headline_text</th>\n",
              "    </tr>\n",
              "  </thead>\n",
              "  <tbody>\n",
              "    <tr>\n",
              "      <th>0</th>\n",
              "      <td>1 ถ้าฝังยาคุมแล้วหมดอายุ ไม่เอายาคุมออกได้ไม๊ค...</td>\n",
              "    </tr>\n",
              "    <tr>\n",
              "      <th>1</th>\n",
              "      <td>1 ถ้าเรากินยาคุมหมดแล้วประจำเดือนมาแล้ว ไม่กิน...</td>\n",
              "    </tr>\n",
              "    <tr>\n",
              "      <th>2</th>\n",
              "      <td>1 ทานยาคุมมาตั้งแต่29เดือนกันยาวันที่ประจำเดือ...</td>\n",
              "    </tr>\n",
              "    <tr>\n",
              "      <th>3</th>\n",
              "      <td>1 พอดีเมื่อคืนนี้มีอะไรกับแฟนแล้วถุงแตกเผลอแตก...</td>\n",
              "    </tr>\n",
              "    <tr>\n",
              "      <th>4</th>\n",
              "      <td>1 มีอาการปัสสาวะเล็ดบ่อย บางครั้งก็ไม่รู้ตัวค่...</td>\n",
              "    </tr>\n",
              "  </tbody>\n",
              "</table>\n",
              "</div>"
            ],
            "text/plain": [
              "                                       headline_text\n",
              "0  1 ถ้าฝังยาคุมแล้วหมดอายุ ไม่เอายาคุมออกได้ไม๊ค...\n",
              "1  1 ถ้าเรากินยาคุมหมดแล้วประจำเดือนมาแล้ว ไม่กิน...\n",
              "2  1 ทานยาคุมมาตั้งแต่29เดือนกันยาวันที่ประจำเดือ...\n",
              "3  1 พอดีเมื่อคืนนี้มีอะไรกับแฟนแล้วถุงแตกเผลอแตก...\n",
              "4  1 มีอาการปัสสาวะเล็ดบ่อย บางครั้งก็ไม่รู้ตัวค่..."
            ]
          },
          "metadata": {
            "tags": []
          },
          "execution_count": 60
        }
      ]
    },
    {
      "cell_type": "code",
      "metadata": {
        "id": "n5v1ts2zHMrJ",
        "colab": {
          "base_uri": "https://localhost:8080/",
          "height": 197
        },
        "outputId": "996b0dc5-e4c8-4737-c33b-a1c7b9354acd"
      },
      "source": [
        "documents = parallelize(documents,cleanText)\r\n",
        "documents.head()\r\n"
      ],
      "execution_count": 61,
      "outputs": [
        {
          "output_type": "execute_result",
          "data": {
            "text/html": [
              "<div>\n",
              "<style scoped>\n",
              "    .dataframe tbody tr th:only-of-type {\n",
              "        vertical-align: middle;\n",
              "    }\n",
              "\n",
              "    .dataframe tbody tr th {\n",
              "        vertical-align: top;\n",
              "    }\n",
              "\n",
              "    .dataframe thead th {\n",
              "        text-align: right;\n",
              "    }\n",
              "</style>\n",
              "<table border=\"1\" class=\"dataframe\">\n",
              "  <thead>\n",
              "    <tr style=\"text-align: right;\">\n",
              "      <th></th>\n",
              "      <th>headline_text</th>\n",
              "    </tr>\n",
              "  </thead>\n",
              "  <tbody>\n",
              "    <tr>\n",
              "      <th>0</th>\n",
              "      <td>ถ้าฝังยาคุมแล้วหมดอายุไม่เอายาคุมออกได้ไม๊คะจะ...</td>\n",
              "    </tr>\n",
              "    <tr>\n",
              "      <th>1</th>\n",
              "      <td>ถ้าเรากินยาคุมหมดแล้วประจำเดือนมาแล้วไม่กินต่อ...</td>\n",
              "    </tr>\n",
              "    <tr>\n",
              "      <th>2</th>\n",
              "      <td>ทานยาคุมมาตั้งแต่เดือนกันยาวันที่ประจำเดือนมาว...</td>\n",
              "    </tr>\n",
              "    <tr>\n",
              "      <th>3</th>\n",
              "      <td>พอดีเมื่อคืนนี้มีอะไรกับแฟนแล้วถุงแตกเผลอแตกใน...</td>\n",
              "    </tr>\n",
              "    <tr>\n",
              "      <th>4</th>\n",
              "      <td>มีอาการปัสสาวะเล็ดบ่อยบางครั้งก็ไม่รู้ตัวค่ะถ้...</td>\n",
              "    </tr>\n",
              "  </tbody>\n",
              "</table>\n",
              "</div>"
            ],
            "text/plain": [
              "                                       headline_text\n",
              "0  ถ้าฝังยาคุมแล้วหมดอายุไม่เอายาคุมออกได้ไม๊คะจะ...\n",
              "1  ถ้าเรากินยาคุมหมดแล้วประจำเดือนมาแล้วไม่กินต่อ...\n",
              "2  ทานยาคุมมาตั้งแต่เดือนกันยาวันที่ประจำเดือนมาว...\n",
              "3  พอดีเมื่อคืนนี้มีอะไรกับแฟนแล้วถุงแตกเผลอแตกใน...\n",
              "4  มีอาการปัสสาวะเล็ดบ่อยบางครั้งก็ไม่รู้ตัวค่ะถ้..."
            ]
          },
          "metadata": {
            "tags": []
          },
          "execution_count": 61
        }
      ]
    },
    {
      "cell_type": "code",
      "metadata": {
        "id": "jwceGDbyiGaT"
      },
      "source": [
        "import gensim\r\n",
        "from gensim.utils import simple_preprocess\r\n",
        "from gensim.parsing.preprocessing import STOPWORDS\r\n",
        "from nltk.stem import WordNetLemmatizer, SnowballStemmer\r\n",
        "from nltk.stem.porter import *\r\n",
        "import numpy as np\r\n",
        "np.random.seed(2018)\r\n",
        "import nltk\r\n",
        "from pythainlp.tokenize import word_tokenize\r\n",
        "\r\n",
        "\r\n",
        "allLen = documents.shape[0]\r\n",
        "progress = 0\r\n",
        "# Print iterations progress\r\n",
        "def printProgressBar (iteration, total,mode = 0,current_percent = 0, prefix = '', suffix = '', decimals = 1, length = 100, fill = ' '):\r\n",
        "    \"\"\"\r\n",
        "    Call in a loop to create terminal progress bar\r\n",
        "    @params:\r\n",
        "        iteration   - Required  : current iteration (Int)\r\n",
        "        total       - Required  : total iterations (Int)\r\n",
        "        mode        - Optional  : Mode of output (Int : (dafault 0 : grahical progress bar , 1 : standard text))\r\n",
        "        prefix      - Optional  : prefix string (Str)\r\n",
        "        suffix      - Optional  : suffix string (Str)\r\n",
        "        decimals    - Optional  : positive number of decimals in percent complete (Int)\r\n",
        "        length      - Optional  : character length of bar (Int)\r\n",
        "        fill        - Optional  : bar fill character (Str)\r\n",
        "    \"\"\"\r\n",
        "    percent = (\"{0:.\" + str(decimals) + \"f}\").format(100 * (iteration / float(total)))\r\n",
        "    if mode == 0 :\r\n",
        "        filledLength = int(length * iteration // total)\r\n",
        "        bar = fill * filledLength + '-' * (length - filledLength)\r\n",
        "        print('\\r%s |%s| %s%% %s' % (prefix, bar, percent, suffix), end = '\\r')\r\n",
        "        # Print New Line on Complete\r\n",
        "        if iteration == total:\r\n",
        "            print()\r\n",
        "    elif mode == 1:\r\n",
        "        if current_percent != round(float(percent),1):\r\n",
        "            current_percent = round(float(percent),1)\r\n",
        "            print(percent+\"%\")\r\n",
        "        return current_percent\r\n",
        "    return 0"
      ],
      "execution_count": 62,
      "outputs": []
    },
    {
      "cell_type": "code",
      "metadata": {
        "id": "RlsuZxK_NLFl",
        "colab": {
          "base_uri": "https://localhost:8080/"
        },
        "outputId": "53dfcc36-134d-4370-e2b9-224e1c850d0a"
      },
      "source": [
        "!pip install pytesseract"
      ],
      "execution_count": 63,
      "outputs": [
        {
          "output_type": "stream",
          "text": [
            "Requirement already satisfied: pytesseract in /usr/local/lib/python3.6/dist-packages (0.3.7)\n",
            "Requirement already satisfied: Pillow in /usr/local/lib/python3.6/dist-packages (from pytesseract) (7.0.0)\n"
          ],
          "name": "stdout"
        }
      ]
    },
    {
      "cell_type": "code",
      "metadata": {
        "id": "Xt84FZBRiKNq"
      },
      "source": [
        "stemmer = PorterStemmer()\r\n"
      ],
      "execution_count": 64,
      "outputs": []
    },
    {
      "cell_type": "code",
      "metadata": {
        "id": "iA8xH2_vG1Em"
      },
      "source": [
        "\r\n",
        "processed_docs = documents['headline_text'].map(preprocess)"
      ],
      "execution_count": 65,
      "outputs": []
    },
    {
      "cell_type": "code",
      "metadata": {
        "id": "2mBGtrPHfu-e",
        "colab": {
          "base_uri": "https://localhost:8080/"
        },
        "outputId": "70e55cec-2eda-49ea-8aa7-d475bad51cbe"
      },
      "source": [
        "processed_docs"
      ],
      "execution_count": 66,
      "outputs": [
        {
          "output_type": "execute_result",
          "data": {
            "text/plain": [
              "0                                    []\n",
              "1                            [สัมพันธ์]\n",
              "2       [เพศสัมพันธ์, ฉุกเฉิน, ฉุกเฉิน]\n",
              "3                [คัดเต้า, เพศสัมพันธ์]\n",
              "4                [ปัสสาวะ, เพศสัมพันธ์]\n",
              "                     ...               \n",
              "4940                           [สอดใส่]\n",
              "4941                      [เพศสัมพันธ์]\n",
              "4942                                 []\n",
              "4943                                 []\n",
              "4944                                 []\n",
              "Name: headline_text, Length: 9888, dtype: object"
            ]
          },
          "metadata": {
            "tags": []
          },
          "execution_count": 66
        }
      ]
    },
    {
      "cell_type": "code",
      "metadata": {
        "id": "o1UF2AwLiZO6",
        "colab": {
          "base_uri": "https://localhost:8080/"
        },
        "outputId": "285bcbbc-664e-48a5-8ce4-5eaa74acb3df"
      },
      "source": [
        "dictionary = gensim.corpora.Dictionary(processed_docs)\r\n",
        "count = 0\r\n",
        "for k, v in dictionary.iteritems():\r\n",
        "    print(k, v)\r\n",
        "    count += 1\r\n",
        "    if count > 10:\r\n",
        "        break"
      ],
      "execution_count": 67,
      "outputs": [
        {
          "output_type": "stream",
          "text": [
            "0 สัมพันธ์\n",
            "1 ฉุกเฉิน\n",
            "2 เพศสัมพันธ์\n",
            "3 คัดเต้า\n",
            "4 ปัสสาวะ\n",
            "5 ยี่ห้อ\n",
            "6 เมโลดี้\n",
            "7 ถ่ายเหลว\n",
            "8 ป้องกัน\n",
            "9 เจลล่อลื่น\n",
            "10 อันตราย\n"
          ],
          "name": "stdout"
        }
      ]
    },
    {
      "cell_type": "code",
      "metadata": {
        "id": "Lw6PUVvcXgX7",
        "colab": {
          "base_uri": "https://localhost:8080/"
        },
        "outputId": "85691785-de23-42aa-ada4-d81f87e307c2"
      },
      "source": [
        "dictionary"
      ],
      "execution_count": 68,
      "outputs": [
        {
          "output_type": "execute_result",
          "data": {
            "text/plain": [
              "<gensim.corpora.dictionary.Dictionary at 0x7f6e2a19bd30>"
            ]
          },
          "metadata": {
            "tags": []
          },
          "execution_count": 68
        }
      ]
    },
    {
      "cell_type": "code",
      "metadata": {
        "id": "1TY3LEQYieHo",
        "colab": {
          "base_uri": "https://localhost:8080/"
        },
        "outputId": "bb35acec-98e0-4c03-f252-608c8c40e3aa"
      },
      "source": [
        "# ตัดคำฟุ่มเฟือยออก โดยลบคำที่ปรากฏบ่อยเกิน 50% และให้เหลือไปถึง1พันคำ\r\n",
        "dictionary.filter_extremes(no_below=15, no_above=0.5, keep_n=1000)  #reduce to 1K word\r\n",
        "\r\n",
        "\r\n",
        "# Gensim doc2bow\r\n",
        "# For each document we create a dictionary reporting how many\r\n",
        "# words and how many times those words appear. Save this to ‘bow_corpus’, then check our selected document earlier.\r\n",
        "bow_corpus = [dictionary.doc2bow(doc) for doc in processed_docs]\r\n",
        "\r\n",
        "from gensim import corpora, models\r\n",
        "tfidf = models.TfidfModel(bow_corpus)\r\n",
        "corpus_tfidf = tfidf[bow_corpus]\r\n",
        "from pprint import pprint\r\n",
        "for doc in corpus_tfidf:\r\n",
        "    pprint(doc)\r\n",
        "    break\r\n",
        "\r\n",
        "# run LDA แบ่งคำออกเป็น9กลุ่ม โดยใช้ cpu ทุกตัว (serverที่เราใช้มี32cpu)\r\n",
        "#worker = cpu core amount -1\r\n",
        "lda_model = gensim.models.LdaMulticore(bow_corpus, num_topics=10, id2word=dictionary, passes=2, workers=31)\r\n",
        "\r\n",
        "# For each topic, we will explore the words occuring in that topic and its relative weight.\r\n",
        "for idx, topic in lda_model.print_topics(-1):\r\n",
        "    print('Topic: {} \\nWords: {}'.format(idx, topic))"
      ],
      "execution_count": 69,
      "outputs": [
        {
          "output_type": "stream",
          "text": [
            "[]\n",
            "Topic: 0 \n",
            "Words: 0.323*\"ฉุกเฉิน\" + 0.235*\"เพศสัมพันธ์\" + 0.074*\"น้ำตาล\" + 0.052*\"ป้องกัน\" + 0.038*\"กำเนิด\" + 0.023*\"รับประทาน\" + 0.017*\"เบาหวาน\" + 0.016*\"เครียด\" + 0.015*\"สิทธิ์\" + 0.010*\"สุขภาพ\"\n",
            "Topic: 1 \n",
            "Words: 0.102*\"อันตราย\" + 0.097*\"ฉุกเฉิน\" + 0.093*\"หล่อลื่น\" + 0.083*\"เครียด\" + 0.060*\"กำเนิด\" + 0.052*\"ป้องกัน\" + 0.044*\"ผ่าตัด\" + 0.033*\"ติดต่อ\" + 0.032*\"สอดใส่\" + 0.029*\"เพศสัมพันธ์\"\n",
            "Topic: 2 \n",
            "Words: 0.132*\"ใช้จ่าย\" + 0.087*\"ฉุกเฉิน\" + 0.081*\"เพศสัมพัน\" + 0.048*\"เพศสัมพันธ์\" + 0.044*\"อนามัย\" + 0.036*\"ตั้งครรภ์\" + 0.033*\"เครียด\" + 0.030*\"เพื่อน\" + 0.030*\"อัลตราซาวนด์\" + 0.028*\"สัมพันธ์\"\n",
            "Topic: 3 \n",
            "Words: 0.101*\"เพศสัมพันธ์\" + 0.097*\"ฉุกเฉิน\" + 0.068*\"กำเนิด\" + 0.061*\"วัคซีน\" + 0.044*\"มะเร็ง\" + 0.043*\"ตั้งท้อง\" + 0.041*\"เมอซิลอน\" + 0.041*\"ตามิน\" + 0.034*\"ท้องน้อย\" + 0.034*\"สอดใส่\"\n",
            "Topic: 4 \n",
            "Words: 0.316*\"เพศสัมพันธ์\" + 0.080*\"สาเหตุ\" + 0.064*\"อาเจียน\" + 0.047*\"กำเนิด\" + 0.046*\"อันตราย\" + 0.044*\"น้ำหนัก\" + 0.033*\"ประสิทธิภาพ\" + 0.025*\"ฉุกเฉิน\" + 0.022*\"คลื่นไส้\" + 0.019*\"สอดใส่\"\n",
            "Topic: 5 \n",
            "Words: 0.247*\"กำเนิด\" + 0.105*\"แป้งมัน\" + 0.068*\"ฮอร์โมน\" + 0.046*\"ติดต่อ\" + 0.030*\"ฉุกเฉิน\" + 0.029*\"แต่งงาน\" + 0.029*\"สุขภาพ\" + 0.029*\"รับประทาน\" + 0.021*\"เหนื่อย\" + 0.020*\"ใช้จ่าย\"\n",
            "Topic: 6 \n",
            "Words: 0.260*\"เพศสัมพันธ์\" + 0.161*\"ป้องกัน\" + 0.107*\"อนามัย\" + 0.063*\"ฉุกเฉิน\" + 0.039*\"สัมพันธ์\" + 0.034*\"เพศสัมพันธุ์\" + 0.030*\"ปัสสาวะ\" + 0.024*\"ท้องไม้\" + 0.017*\"สอดใส่\" + 0.016*\"ธรรมดา\"\n",
            "Topic: 7 \n",
            "Words: 0.237*\"ยี่ห้อ\" + 0.113*\"เพศสัมพันธ์\" + 0.090*\"กำเนิด\" + 0.038*\"ป้องกัน\" + 0.028*\"ฮอร์โมน\" + 0.027*\"ซิฟิลิส\" + 0.026*\"เมโลดี้\" + 0.025*\"สำเร็จ\" + 0.022*\"อารมณ์\" + 0.021*\"อนุญาต\"\n",
            "Topic: 8 \n",
            "Words: 0.157*\"สอดใส่\" + 0.129*\"สิทธิ์\" + 0.114*\"ปัสสาวะ\" + 0.082*\"อันตราย\" + 0.078*\"กำเนิด\" + 0.044*\"ฉุกเฉิน\" + 0.038*\"สัมพันธ์\" + 0.033*\"เพศสัมพันธ์\" + 0.022*\"เคลื่อน\" + 0.021*\"คุณหมอ\"\n",
            "Topic: 9 \n",
            "Words: 0.238*\"ป้องกัน\" + 0.164*\"สัมพันธ์\" + 0.126*\"ฉุกเฉิน\" + 0.087*\"กำเนิด\" + 0.046*\"เพศสัมพัน\" + 0.027*\"อนามัย\" + 0.026*\"เพศสัมพันธ์\" + 0.019*\"คลินิก\" + 0.017*\"ท้องที่\" + 0.016*\"เพศสัมพันธุ์\"\n"
          ],
          "name": "stdout"
        }
      ]
    },
    {
      "cell_type": "code",
      "metadata": {
        "id": "qkVkztMDcB-F",
        "colab": {
          "base_uri": "https://localhost:8080/"
        },
        "outputId": "e67dd58d-721c-4e8b-eded-013a86722572"
      },
      "source": [
        "unseen_document = 'เป็นเบาหวานจะมีผลกระทบกับการตั้งครรภ์'\r\n",
        "bow_vector = dictionary.doc2bow(preprocess(unseen_document))\r\n",
        "for index, score in sorted(lda_model[bow_vector], key=lambda tup: -1*tup[1]):\r\n",
        "    print(\"Score: {}\\t Topic: {}\".format(score, lda_model.print_topic(index, 15)))"
      ],
      "execution_count": 70,
      "outputs": [
        {
          "output_type": "stream",
          "text": [
            "Score: 0.10000000149011612\t Topic: 0.323*\"ฉุกเฉิน\" + 0.235*\"เพศสัมพันธ์\" + 0.074*\"น้ำตาล\" + 0.052*\"ป้องกัน\" + 0.038*\"กำเนิด\" + 0.023*\"รับประทาน\" + 0.017*\"เบาหวาน\" + 0.016*\"เครียด\" + 0.015*\"สิทธิ์\" + 0.010*\"สุขภาพ\" + 0.009*\"เพศสัมพัน\" + 0.008*\"เปอร์เซ็นต์\" + 0.008*\"สัมพันธ์\" + 0.007*\"โรงพยาบาล\" + 0.006*\"กระดาษ\"\n",
            "Score: 0.10000000149011612\t Topic: 0.102*\"อันตราย\" + 0.097*\"ฉุกเฉิน\" + 0.093*\"หล่อลื่น\" + 0.083*\"เครียด\" + 0.060*\"กำเนิด\" + 0.052*\"ป้องกัน\" + 0.044*\"ผ่าตัด\" + 0.033*\"ติดต่อ\" + 0.032*\"สอดใส่\" + 0.029*\"เพศสัมพันธ์\" + 0.027*\"แบบแผน\" + 0.025*\"อักเสบ\" + 0.022*\"วิตามิน\" + 0.021*\"เพศสัมพันธุ์\" + 0.017*\"เหลือง\"\n",
            "Score: 0.10000000149011612\t Topic: 0.132*\"ใช้จ่าย\" + 0.087*\"ฉุกเฉิน\" + 0.081*\"เพศสัมพัน\" + 0.048*\"เพศสัมพันธ์\" + 0.044*\"อนามัย\" + 0.036*\"ตั้งครรภ์\" + 0.033*\"เครียด\" + 0.030*\"เพื่อน\" + 0.030*\"อัลตราซาวนด์\" + 0.028*\"สัมพันธ์\" + 0.028*\"รับประทาน\" + 0.022*\"อันตราย\" + 0.022*\"น้ำตาล\" + 0.022*\"คัดเต้า\" + 0.019*\"หน้าอก\"\n",
            "Score: 0.10000000149011612\t Topic: 0.101*\"เพศสัมพันธ์\" + 0.097*\"ฉุกเฉิน\" + 0.068*\"กำเนิด\" + 0.061*\"วัคซีน\" + 0.044*\"มะเร็ง\" + 0.043*\"ตั้งท้อง\" + 0.041*\"เมอซิลอน\" + 0.041*\"ตามิน\" + 0.034*\"ท้องน้อย\" + 0.034*\"สอดใส่\" + 0.030*\"ของแข็ง\" + 0.027*\"ต้องการ\" + 0.027*\"ยี่ห้อ\" + 0.023*\"เครียด\" + 0.018*\"อัตรา\"\n",
            "Score: 0.10000000149011612\t Topic: 0.316*\"เพศสัมพันธ์\" + 0.080*\"สาเหตุ\" + 0.064*\"อาเจียน\" + 0.047*\"กำเนิด\" + 0.046*\"อันตราย\" + 0.044*\"น้ำหนัก\" + 0.033*\"ประสิทธิภาพ\" + 0.025*\"ฉุกเฉิน\" + 0.022*\"คลื่นไส้\" + 0.019*\"สอดใส่\" + 0.019*\"กะปริบกะปรอย\" + 0.017*\"ตั้งท้อง\" + 0.015*\"เต็มที่\" + 0.012*\"ข้อมูล\" + 0.012*\"ยี่ห้อ\"\n",
            "Score: 0.10000000149011612\t Topic: 0.247*\"กำเนิด\" + 0.105*\"แป้งมัน\" + 0.068*\"ฮอร์โมน\" + 0.046*\"ติดต่อ\" + 0.030*\"ฉุกเฉิน\" + 0.029*\"แต่งงาน\" + 0.029*\"สุขภาพ\" + 0.029*\"รับประทาน\" + 0.021*\"เหนื่อย\" + 0.020*\"ใช้จ่าย\" + 0.018*\"นิทาน\" + 0.016*\"ประกัน\" + 0.016*\"ประเด็น\" + 0.016*\"ประสิทธิภาพ\" + 0.015*\"ประจำ\"\n",
            "Score: 0.10000000149011612\t Topic: 0.260*\"เพศสัมพันธ์\" + 0.161*\"ป้องกัน\" + 0.107*\"อนามัย\" + 0.063*\"ฉุกเฉิน\" + 0.039*\"สัมพันธ์\" + 0.034*\"เพศสัมพันธุ์\" + 0.030*\"ปัสสาวะ\" + 0.024*\"ท้องไม้\" + 0.017*\"สอดใส่\" + 0.016*\"ธรรมดา\" + 0.010*\"กำเนิด\" + 0.010*\"ฮอร์โมน\" + 0.009*\"สาเหตุ\" + 0.009*\"ครอบครัว\" + 0.009*\"เครียด\"\n",
            "Score: 0.10000000149011612\t Topic: 0.237*\"ยี่ห้อ\" + 0.113*\"เพศสัมพันธ์\" + 0.090*\"กำเนิด\" + 0.038*\"ป้องกัน\" + 0.028*\"ฮอร์โมน\" + 0.027*\"ซิฟิลิส\" + 0.026*\"เมโลดี้\" + 0.025*\"สำเร็จ\" + 0.022*\"อารมณ์\" + 0.021*\"อนุญาต\" + 0.019*\"หลั่งนอก\" + 0.018*\"น้ำหนัก\" + 0.016*\"ประสิทธิภาพ\" + 0.015*\"สิทธิ์\" + 0.014*\"สัมพันธ์\"\n",
            "Score: 0.10000000149011612\t Topic: 0.157*\"สอดใส่\" + 0.129*\"สิทธิ์\" + 0.114*\"ปัสสาวะ\" + 0.082*\"อันตราย\" + 0.078*\"กำเนิด\" + 0.044*\"ฉุกเฉิน\" + 0.038*\"สัมพันธ์\" + 0.033*\"เพศสัมพันธ์\" + 0.022*\"เคลื่อน\" + 0.021*\"คุณหมอ\" + 0.019*\"เสื้อผ้า\" + 0.015*\"ตรวจเจอ\" + 0.015*\"เหนียว\" + 0.014*\"ใช้จ่าย\" + 0.011*\"รับประทาน\"\n",
            "Score: 0.10000000149011612\t Topic: 0.238*\"ป้องกัน\" + 0.164*\"สัมพันธ์\" + 0.126*\"ฉุกเฉิน\" + 0.087*\"กำเนิด\" + 0.046*\"เพศสัมพัน\" + 0.027*\"อนามัย\" + 0.026*\"เพศสัมพันธ์\" + 0.019*\"คลินิก\" + 0.017*\"ท้องที่\" + 0.016*\"เพศสัมพันธุ์\" + 0.013*\"หลั่งนอก\" + 0.013*\"น้ำตาล\" + 0.011*\"ประสิทธิภาพ\" + 0.011*\"เปอร์เซ็นต์\" + 0.011*\"กังวล\"\n"
          ],
          "name": "stdout"
        }
      ]
    },
    {
      "cell_type": "code",
      "metadata": {
        "id": "kqHOxV3RFHul",
        "colab": {
          "base_uri": "https://localhost:8080/"
        },
        "outputId": "aee2bbeb-54e2-42c8-e03e-87d90a44edfc"
      },
      "source": [
        "dictionary.filter_extremes(no_below=15, no_above=0.5, keep_n=100000)\r\n",
        "\r\n",
        "# Dictionary for each document\r\n",
        "bow_corpus = [dictionary.doc2bow(doc) for doc in processed_docs]\r\n",
        "# print(bow_corpus[4310])\r\n",
        "\r\n",
        "# Applying TF-IDF\r\n",
        "tfidf = models.TfidfModel(bow_corpus)\r\n",
        "corpus_tfidf = tfidf[bow_corpus]\r\n",
        "# for doc in corpus_tfidf:\r\n",
        "#     pprint(doc)\r\n",
        "#     break\r\n",
        "\r\n",
        "# Train corpus with LDA\r\n",
        "lda_model = gensim.models.LdaMulticore(bow_corpus, num_topics=10, id2word=dictionary,\r\n",
        "                                       passes=2, workers=2)\r\n",
        "# for idx, topic in lda_model.print_topics(-1):\r\n",
        "#     print('Topic: {} \\nWords: {}'.format(idx, topic))\r\n",
        "\r\n",
        "# LDA with TF-IDF\r\n",
        "lda_model_tfidf = gensim.models.LdaMulticore(corpus_tfidf, num_topics=10, id2word=dictionary,\r\n",
        "                                             passes=2, workers=4)\r\n",
        "for idx, topic in lda_model_tfidf.print_topics(-1):\r\n",
        "    print('Topic: {} Word: {}'.format(idx, topic))\r\n",
        "\r\n",
        "# Performance evaluation of LDA with Bag of Words\r\n",
        "# for index, score in sorted(lda_model[bow_corpus[4310]], key=lambda tup: -1*tup[1]):\r\n",
        "#     print(\"\\nScore: {}\\t \\nTopic: {}\".format(score, lda_model.print_topic(index, 10)))\r\n",
        "\r\n",
        "# Performance Evaluation of LDA with TF-IDF\r\n",
        "for index, score in sorted(lda_model_tfidf[bow_corpus[4310]], key=lambda tup: -1*tup[1]):\r\n",
        "    print(\"\\nScore: {}\\t \\nTopic: {}\".format(score, lda_model_tfidf.print_topic(index, 10)))\r\n",
        "\r\n",
        "# Testing\r\n",
        "unseen_document = 'จะท้องไหมคะ'\r\n",
        "bow_vector = dictionary.doc2bow(preprocess(unseen_document))\r\n",
        "for index, score in sorted(lda_model[bow_vector], key=lambda tup: -1*tup[1]):\r\n",
        "    print(\"Score: {}\\t Topic: {}\".format(score, lda_model.print_topic(index, 5)))"
      ],
      "execution_count": 71,
      "outputs": [
        {
          "output_type": "stream",
          "text": [
            "Topic: 0 Word: 0.447*\"เพศสัมพันธ์\" + 0.146*\"ฉุกเฉิน\" + 0.089*\"ป้องกัน\" + 0.020*\"ยี่ห้อ\" + 0.018*\"หายขาด\" + 0.017*\"กำเนิด\" + 0.017*\"เดือน\" + 0.017*\"สอดใส่\" + 0.016*\"ประจำ\" + 0.016*\"มะเร็ง\"\n",
            "Topic: 1 Word: 0.346*\"กำเนิด\" + 0.129*\"อนามัย\" + 0.070*\"ป้องกัน\" + 0.053*\"เพศสัมพันธุ์\" + 0.032*\"เหลือง\" + 0.028*\"ข้อมูล\" + 0.026*\"เพื่อน\" + 0.023*\"ธรรมชาติ\" + 0.021*\"เหนื่อย\" + 0.020*\"เพศสัมพันธ์\"\n",
            "Topic: 2 Word: 0.157*\"สัมพันธ์\" + 0.147*\"ใช้จ่าย\" + 0.123*\"แป้งมัน\" + 0.087*\"ฮอร์โมน\" + 0.060*\"สอดใส่\" + 0.047*\"อาเจียน\" + 0.035*\"แต่งงาน\" + 0.029*\"คลินิก\" + 0.027*\"ไทรอยด์\" + 0.022*\"หล่อลื่น\"\n",
            "Topic: 3 Word: 0.135*\"อันตราย\" + 0.122*\"ปัสสาวะ\" + 0.083*\"ผ่าตัด\" + 0.067*\"หล่อลื่น\" + 0.066*\"รับประทาน\" + 0.050*\"แป้งมัน\" + 0.039*\"กะปริบกะปรอย\" + 0.037*\"คลื่นไส้\" + 0.033*\"ฉุกเฉิน\" + 0.030*\"ของแข็ง\"\n",
            "Topic: 4 Word: 0.118*\"สาเหตุ\" + 0.109*\"ยี่ห้อ\" + 0.105*\"สิทธิ์\" + 0.073*\"น้ำตาล\" + 0.067*\"ติดต่อ\" + 0.058*\"เครียด\" + 0.034*\"ท้องที่\" + 0.033*\"กำเนิด\" + 0.025*\"เพศสัมพันธ์\" + 0.025*\"ประเด็น\"\n",
            "Topic: 5 Word: 0.202*\"ป้องกัน\" + 0.098*\"เพศสัมพันธ์\" + 0.082*\"เครียด\" + 0.058*\"หลั่งนอก\" + 0.058*\"ตั้งครรภ์\" + 0.036*\"หน้าอก\" + 0.036*\"สุขภาพ\" + 0.029*\"กำเนิด\" + 0.028*\"ฉุกเฉิน\" + 0.022*\"สาเหตุ\"\n",
            "Topic: 6 Word: 0.140*\"สอดใส่\" + 0.075*\"เบาหวาน\" + 0.063*\"น้ำตาล\" + 0.045*\"คัดเต้า\" + 0.040*\"วัคซีน\" + 0.037*\"รับประทาน\" + 0.037*\"สาเหตุ\" + 0.037*\"ป้องกัน\" + 0.036*\"ตั้งใจ\" + 0.030*\"วิตามิน\"\n",
            "Topic: 7 Word: 0.426*\"ฉุกเฉิน\" + 0.072*\"กำเนิด\" + 0.065*\"น้ำหนัก\" + 0.045*\"แบบแผน\" + 0.036*\"เพศสัมพันธ์\" + 0.034*\"สำเร็จ\" + 0.031*\"เปอร์เซ็นต์\" + 0.022*\"ท้อง\" + 0.017*\"ธาลัสซี\" + 0.017*\"ถอดเข็มยา\"\n",
            "Topic: 8 Word: 0.210*\"เพศสัมพัน\" + 0.051*\"ป้องกัน\" + 0.051*\"อัลตราซาวนด์\" + 0.047*\"สัมพันธ์\" + 0.046*\"เพศสัมพันธ์\" + 0.044*\"เมอซิลอน\" + 0.036*\"ยี่ห้อ\" + 0.034*\"อันตราย\" + 0.033*\"กำเนิด\" + 0.031*\"ฉุกเฉิน\"\n",
            "Topic: 9 Word: 0.167*\"อันตราย\" + 0.090*\"ประสิทธิภาพ\" + 0.074*\"อักเสบ\" + 0.067*\"ฉุกเฉิน\" + 0.051*\"น้ำตาล\" + 0.036*\"รุนแรง\" + 0.034*\"สัมผัส\" + 0.032*\"อัตรา\" + 0.027*\"ครอบครัว\" + 0.024*\"ทั่วไป\"\n",
            "\n",
            "Score: 0.10000000149011612\t \n",
            "Topic: 0.447*\"เพศสัมพันธ์\" + 0.146*\"ฉุกเฉิน\" + 0.089*\"ป้องกัน\" + 0.020*\"ยี่ห้อ\" + 0.018*\"หายขาด\" + 0.017*\"กำเนิด\" + 0.017*\"เดือน\" + 0.017*\"สอดใส่\" + 0.016*\"ประจำ\" + 0.016*\"มะเร็ง\"\n",
            "\n",
            "Score: 0.10000000149011612\t \n",
            "Topic: 0.346*\"กำเนิด\" + 0.129*\"อนามัย\" + 0.070*\"ป้องกัน\" + 0.053*\"เพศสัมพันธุ์\" + 0.032*\"เหลือง\" + 0.028*\"ข้อมูล\" + 0.026*\"เพื่อน\" + 0.023*\"ธรรมชาติ\" + 0.021*\"เหนื่อย\" + 0.020*\"เพศสัมพันธ์\"\n",
            "\n",
            "Score: 0.10000000149011612\t \n",
            "Topic: 0.157*\"สัมพันธ์\" + 0.147*\"ใช้จ่าย\" + 0.123*\"แป้งมัน\" + 0.087*\"ฮอร์โมน\" + 0.060*\"สอดใส่\" + 0.047*\"อาเจียน\" + 0.035*\"แต่งงาน\" + 0.029*\"คลินิก\" + 0.027*\"ไทรอยด์\" + 0.022*\"หล่อลื่น\"\n",
            "\n",
            "Score: 0.10000000149011612\t \n",
            "Topic: 0.135*\"อันตราย\" + 0.122*\"ปัสสาวะ\" + 0.083*\"ผ่าตัด\" + 0.067*\"หล่อลื่น\" + 0.066*\"รับประทาน\" + 0.050*\"แป้งมัน\" + 0.039*\"กะปริบกะปรอย\" + 0.037*\"คลื่นไส้\" + 0.033*\"ฉุกเฉิน\" + 0.030*\"ของแข็ง\"\n",
            "\n",
            "Score: 0.10000000149011612\t \n",
            "Topic: 0.118*\"สาเหตุ\" + 0.109*\"ยี่ห้อ\" + 0.105*\"สิทธิ์\" + 0.073*\"น้ำตาล\" + 0.067*\"ติดต่อ\" + 0.058*\"เครียด\" + 0.034*\"ท้องที่\" + 0.033*\"กำเนิด\" + 0.025*\"เพศสัมพันธ์\" + 0.025*\"ประเด็น\"\n",
            "\n",
            "Score: 0.10000000149011612\t \n",
            "Topic: 0.202*\"ป้องกัน\" + 0.098*\"เพศสัมพันธ์\" + 0.082*\"เครียด\" + 0.058*\"หลั่งนอก\" + 0.058*\"ตั้งครรภ์\" + 0.036*\"หน้าอก\" + 0.036*\"สุขภาพ\" + 0.029*\"กำเนิด\" + 0.028*\"ฉุกเฉิน\" + 0.022*\"สาเหตุ\"\n",
            "\n",
            "Score: 0.10000000149011612\t \n",
            "Topic: 0.140*\"สอดใส่\" + 0.075*\"เบาหวาน\" + 0.063*\"น้ำตาล\" + 0.045*\"คัดเต้า\" + 0.040*\"วัคซีน\" + 0.037*\"รับประทาน\" + 0.037*\"สาเหตุ\" + 0.037*\"ป้องกัน\" + 0.036*\"ตั้งใจ\" + 0.030*\"วิตามิน\"\n",
            "\n",
            "Score: 0.10000000149011612\t \n",
            "Topic: 0.426*\"ฉุกเฉิน\" + 0.072*\"กำเนิด\" + 0.065*\"น้ำหนัก\" + 0.045*\"แบบแผน\" + 0.036*\"เพศสัมพันธ์\" + 0.034*\"สำเร็จ\" + 0.031*\"เปอร์เซ็นต์\" + 0.022*\"ท้อง\" + 0.017*\"ธาลัสซี\" + 0.017*\"ถอดเข็มยา\"\n",
            "\n",
            "Score: 0.10000000149011612\t \n",
            "Topic: 0.210*\"เพศสัมพัน\" + 0.051*\"ป้องกัน\" + 0.051*\"อัลตราซาวนด์\" + 0.047*\"สัมพันธ์\" + 0.046*\"เพศสัมพันธ์\" + 0.044*\"เมอซิลอน\" + 0.036*\"ยี่ห้อ\" + 0.034*\"อันตราย\" + 0.033*\"กำเนิด\" + 0.031*\"ฉุกเฉิน\"\n",
            "\n",
            "Score: 0.10000000149011612\t \n",
            "Topic: 0.167*\"อันตราย\" + 0.090*\"ประสิทธิภาพ\" + 0.074*\"อักเสบ\" + 0.067*\"ฉุกเฉิน\" + 0.051*\"น้ำตาล\" + 0.036*\"รุนแรง\" + 0.034*\"สัมผัส\" + 0.032*\"อัตรา\" + 0.027*\"ครอบครัว\" + 0.024*\"ทั่วไป\"\n",
            "Score: 0.10000000149011612\t Topic: 0.403*\"กำเนิด\" + 0.114*\"สอดใส่\" + 0.076*\"ใช้จ่าย\" + 0.067*\"เพศสัมพันธ์\" + 0.026*\"สัมพันธ์\"\n",
            "Score: 0.10000000149011612\t Topic: 0.250*\"สัมพันธ์\" + 0.128*\"เพศสัมพันธ์\" + 0.106*\"ป้องกัน\" + 0.076*\"ฉุกเฉิน\" + 0.047*\"เพศสัมพัน\"\n",
            "Score: 0.10000000149011612\t Topic: 0.273*\"อันตราย\" + 0.126*\"รับประทาน\" + 0.058*\"อักเสบ\" + 0.043*\"เพศสัมพันธ์\" + 0.039*\"ป้องกัน\"\n",
            "Score: 0.10000000149011612\t Topic: 0.154*\"ฮอร์โมน\" + 0.100*\"เครียด\" + 0.085*\"เพศสัมพันธ์\" + 0.082*\"อาเจียน\" + 0.080*\"สิทธิ์\"\n",
            "Score: 0.10000000149011612\t Topic: 0.323*\"เพศสัมพันธ์\" + 0.116*\"ฉุกเฉิน\" + 0.106*\"น้ำตาล\" + 0.057*\"ผ่าตัด\" + 0.033*\"แต่งงาน\"\n",
            "Score: 0.10000000149011612\t Topic: 0.103*\"น้ำหนัก\" + 0.065*\"กำเนิด\" + 0.064*\"คลินิก\" + 0.060*\"อัลตราซาวนด์\" + 0.043*\"ซิฟิลิส\"\n",
            "Score: 0.10000000149011612\t Topic: 0.107*\"สาเหตุ\" + 0.091*\"หล่อลื่น\" + 0.089*\"เพศสัมพัน\" + 0.088*\"ประสิทธิภาพ\" + 0.071*\"เพศสัมพันธุ์\"\n",
            "Score: 0.10000000149011612\t Topic: 0.259*\"ยี่ห้อ\" + 0.131*\"ฉุกเฉิน\" + 0.055*\"เพศสัมพันธ์\" + 0.047*\"เบาหวาน\" + 0.043*\"ธรรมดา\"\n",
            "Score: 0.10000000149011612\t Topic: 0.318*\"เพศสัมพันธ์\" + 0.133*\"ป้องกัน\" + 0.127*\"อนามัย\" + 0.073*\"ปัสสาวะ\" + 0.040*\"น้ำตาล\"\n",
            "Score: 0.10000000149011612\t Topic: 0.410*\"ฉุกเฉิน\" + 0.147*\"ป้องกัน\" + 0.109*\"เพศสัมพันธ์\" + 0.075*\"แป้งมัน\" + 0.026*\"ใช้จ่าย\"\n"
          ],
          "name": "stdout"
        }
      ]
    },
    {
      "cell_type": "code",
      "metadata": {
        "colab": {
          "base_uri": "https://localhost:8080/"
        },
        "id": "48BFz9ZVxfgA",
        "outputId": "1e85e06c-5979-4b2a-efe3-3ca70356189d"
      },
      "source": [
        "# Print the keyword of topics\r\n",
        "pprint(lda_model.print_topics())\r\n",
        "doc_lda = lda_model[bow_corpus]\r\n"
      ],
      "execution_count": 72,
      "outputs": [
        {
          "output_type": "stream",
          "text": [
            "[(0,\n",
            "  '0.403*\"กำเนิด\" + 0.114*\"สอดใส่\" + 0.076*\"ใช้จ่าย\" + 0.067*\"เพศสัมพันธ์\" + '\n",
            "  '0.026*\"สัมพันธ์\" + 0.021*\"กะปริบกะปรอย\" + 0.018*\"สิทธิ์\" + 0.017*\"ฉุกเฉิน\" '\n",
            "  '+ 0.016*\"ประกัน\" + 0.015*\"ป้องกัน\"'),\n",
            " (1,\n",
            "  '0.250*\"สัมพันธ์\" + 0.128*\"เพศสัมพันธ์\" + 0.106*\"ป้องกัน\" + 0.076*\"ฉุกเฉิน\" '\n",
            "  '+ 0.047*\"เพศสัมพัน\" + 0.045*\"หลั่งนอก\" + 0.027*\"เครียด\" + 0.026*\"คัดเต้า\" + '\n",
            "  '0.018*\"ตั้งท้อง\" + 0.018*\"หน้าอก\"'),\n",
            " (2,\n",
            "  '0.273*\"อันตราย\" + 0.126*\"รับประทาน\" + 0.058*\"อักเสบ\" + 0.043*\"เพศสัมพันธ์\" '\n",
            "  '+ 0.039*\"ป้องกัน\" + 0.035*\"ท้องน้อย\" + 0.027*\"มะเร็ง\" + 0.023*\"เพสสัมพัน\" + '\n",
            "  '0.022*\"ข้อมูล\" + 0.022*\"อารมณ์\"'),\n",
            " (3,\n",
            "  '0.154*\"ฮอร์โมน\" + 0.100*\"เครียด\" + 0.085*\"เพศสัมพันธ์\" + 0.082*\"อาเจียน\" + '\n",
            "  '0.080*\"สิทธิ์\" + 0.049*\"ตั้งท้อง\" + 0.049*\"เมอซิลอน\" + 0.041*\"สุขภาพ\" + '\n",
            "  '0.033*\"เหนื่อย\" + 0.026*\"ตั้งใจ\"'),\n",
            " (4,\n",
            "  '0.323*\"เพศสัมพันธ์\" + 0.116*\"ฉุกเฉิน\" + 0.106*\"น้ำตาล\" + 0.057*\"ผ่าตัด\" + '\n",
            "  '0.033*\"แต่งงาน\" + 0.031*\"กำเนิด\" + 0.021*\"เคลื่อน\" + 0.020*\"หายขาด\" + '\n",
            "  '0.020*\"อนุญาต\" + 0.019*\"ป้องกัน\"'),\n",
            " (5,\n",
            "  '0.103*\"น้ำหนัก\" + 0.065*\"กำเนิด\" + 0.064*\"คลินิก\" + 0.060*\"อัลตราซาวนด์\" + '\n",
            "  '0.043*\"ซิฟิลิส\" + 0.041*\"คลื่นไส้\" + 0.037*\"อันตราย\" + 0.036*\"ปฏิสนธิ\" + '\n",
            "  '0.034*\"อาเจียน\" + 0.029*\"เพศสัมพันธ์\"'),\n",
            " (6,\n",
            "  '0.107*\"สาเหตุ\" + 0.091*\"หล่อลื่น\" + 0.089*\"เพศสัมพัน\" + 0.088*\"ประสิทธิภาพ\" '\n",
            "  '+ 0.071*\"เพศสัมพันธุ์\" + 0.071*\"กำเนิด\" + 0.051*\"เพศสัมพันธ์\" + '\n",
            "  '0.048*\"ตั้งครรภ์\" + 0.038*\"ท้องไม้\" + 0.032*\"ท้องที่\"'),\n",
            " (7,\n",
            "  '0.259*\"ยี่ห้อ\" + 0.131*\"ฉุกเฉิน\" + 0.055*\"เพศสัมพันธ์\" + 0.047*\"เบาหวาน\" + '\n",
            "  '0.043*\"ธรรมดา\" + 0.036*\"สัมผัส\" + 0.035*\"เจ็บท้อง\" + 0.034*\"กำเนิด\" + '\n",
            "  '0.030*\"เพศสัมพัน\" + 0.024*\"อัลตราซาวนด์\"'),\n",
            " (8,\n",
            "  '0.318*\"เพศสัมพันธ์\" + 0.133*\"ป้องกัน\" + 0.127*\"อนามัย\" + 0.073*\"ปัสสาวะ\" + '\n",
            "  '0.040*\"น้ำตาล\" + 0.036*\"ติดต่อ\" + 0.023*\"เพื่อน\" + 0.018*\"เหลือง\" + '\n",
            "  '0.017*\"ตามิน\" + 0.017*\"ข้อมูล\"'),\n",
            " (9,\n",
            "  '0.410*\"ฉุกเฉิน\" + 0.147*\"ป้องกัน\" + 0.109*\"เพศสัมพันธ์\" + 0.075*\"แป้งมัน\" + '\n",
            "  '0.026*\"ใช้จ่าย\" + 0.019*\"สอดใส่\" + 0.016*\"ไทรอยด์\" + 0.015*\"แบบแผน\" + '\n",
            "  '0.014*\"ประเด็น\" + 0.014*\"สาเหตุ\"')]\n"
          ],
          "name": "stdout"
        }
      ]
    },
    {
      "cell_type": "markdown",
      "metadata": {
        "id": "TyjA55xcygHH"
      },
      "source": [
        "**============================================================================**"
      ]
    },
    {
      "cell_type": "code",
      "metadata": {
        "colab": {
          "base_uri": "https://localhost:8080/"
        },
        "id": "TBsjv8fuyfTd",
        "outputId": "0e74ed77-42a4-4499-c44b-245edc774eaa"
      },
      "source": [
        "!pip3 install spacy\r\n",
        "!python3 -m spacy download en #Language model\r\n",
        "!pip3 install gensim # For topic modeling\r\n",
        "!pip3 install pyLDAvis # For visualizing topic models"
      ],
      "execution_count": 73,
      "outputs": [
        {
          "output_type": "stream",
          "text": [
            "Requirement already satisfied: spacy in /usr/local/lib/python3.6/dist-packages (2.2.4)\n",
            "Requirement already satisfied: cymem<2.1.0,>=2.0.2 in /usr/local/lib/python3.6/dist-packages (from spacy) (2.0.5)\n",
            "Requirement already satisfied: plac<1.2.0,>=0.9.6 in /usr/local/lib/python3.6/dist-packages (from spacy) (1.1.3)\n",
            "Requirement already satisfied: thinc==7.4.0 in /usr/local/lib/python3.6/dist-packages (from spacy) (7.4.0)\n",
            "Requirement already satisfied: srsly<1.1.0,>=1.0.2 in /usr/local/lib/python3.6/dist-packages (from spacy) (1.0.5)\n",
            "Requirement already satisfied: preshed<3.1.0,>=3.0.2 in /usr/local/lib/python3.6/dist-packages (from spacy) (3.0.5)\n",
            "Requirement already satisfied: blis<0.5.0,>=0.4.0 in /usr/local/lib/python3.6/dist-packages (from spacy) (0.4.1)\n",
            "Requirement already satisfied: tqdm<5.0.0,>=4.38.0 in /usr/local/lib/python3.6/dist-packages (from spacy) (4.41.1)\n",
            "Requirement already satisfied: numpy>=1.15.0 in /usr/local/lib/python3.6/dist-packages (from spacy) (1.19.4)\n",
            "Requirement already satisfied: requests<3.0.0,>=2.13.0 in /usr/local/lib/python3.6/dist-packages (from spacy) (2.23.0)\n",
            "Requirement already satisfied: wasabi<1.1.0,>=0.4.0 in /usr/local/lib/python3.6/dist-packages (from spacy) (0.8.0)\n",
            "Requirement already satisfied: catalogue<1.1.0,>=0.0.7 in /usr/local/lib/python3.6/dist-packages (from spacy) (1.0.0)\n",
            "Requirement already satisfied: murmurhash<1.1.0,>=0.28.0 in /usr/local/lib/python3.6/dist-packages (from spacy) (1.0.5)\n",
            "Requirement already satisfied: setuptools in /usr/local/lib/python3.6/dist-packages (from spacy) (51.0.0)\n",
            "Requirement already satisfied: certifi>=2017.4.17 in /usr/local/lib/python3.6/dist-packages (from requests<3.0.0,>=2.13.0->spacy) (2020.12.5)\n",
            "Requirement already satisfied: idna<3,>=2.5 in /usr/local/lib/python3.6/dist-packages (from requests<3.0.0,>=2.13.0->spacy) (2.10)\n",
            "Requirement already satisfied: urllib3!=1.25.0,!=1.25.1,<1.26,>=1.21.1 in /usr/local/lib/python3.6/dist-packages (from requests<3.0.0,>=2.13.0->spacy) (1.24.3)\n",
            "Requirement already satisfied: chardet<4,>=3.0.2 in /usr/local/lib/python3.6/dist-packages (from requests<3.0.0,>=2.13.0->spacy) (3.0.4)\n",
            "Requirement already satisfied: importlib-metadata>=0.20; python_version < \"3.8\" in /usr/local/lib/python3.6/dist-packages (from catalogue<1.1.0,>=0.0.7->spacy) (3.3.0)\n",
            "Requirement already satisfied: typing-extensions>=3.6.4; python_version < \"3.8\" in /usr/local/lib/python3.6/dist-packages (from importlib-metadata>=0.20; python_version < \"3.8\"->catalogue<1.1.0,>=0.0.7->spacy) (3.7.4.3)\n",
            "Requirement already satisfied: zipp>=0.5 in /usr/local/lib/python3.6/dist-packages (from importlib-metadata>=0.20; python_version < \"3.8\"->catalogue<1.1.0,>=0.0.7->spacy) (3.4.0)\n",
            "Requirement already satisfied: en_core_web_sm==2.2.5 from https://github.com/explosion/spacy-models/releases/download/en_core_web_sm-2.2.5/en_core_web_sm-2.2.5.tar.gz#egg=en_core_web_sm==2.2.5 in /usr/local/lib/python3.6/dist-packages (2.2.5)\n",
            "Requirement already satisfied: spacy>=2.2.2 in /usr/local/lib/python3.6/dist-packages (from en_core_web_sm==2.2.5) (2.2.4)\n",
            "Requirement already satisfied: thinc==7.4.0 in /usr/local/lib/python3.6/dist-packages (from spacy>=2.2.2->en_core_web_sm==2.2.5) (7.4.0)\n",
            "Requirement already satisfied: catalogue<1.1.0,>=0.0.7 in /usr/local/lib/python3.6/dist-packages (from spacy>=2.2.2->en_core_web_sm==2.2.5) (1.0.0)\n",
            "Requirement already satisfied: numpy>=1.15.0 in /usr/local/lib/python3.6/dist-packages (from spacy>=2.2.2->en_core_web_sm==2.2.5) (1.19.4)\n",
            "Requirement already satisfied: wasabi<1.1.0,>=0.4.0 in /usr/local/lib/python3.6/dist-packages (from spacy>=2.2.2->en_core_web_sm==2.2.5) (0.8.0)\n",
            "Requirement already satisfied: cymem<2.1.0,>=2.0.2 in /usr/local/lib/python3.6/dist-packages (from spacy>=2.2.2->en_core_web_sm==2.2.5) (2.0.5)\n",
            "Requirement already satisfied: tqdm<5.0.0,>=4.38.0 in /usr/local/lib/python3.6/dist-packages (from spacy>=2.2.2->en_core_web_sm==2.2.5) (4.41.1)\n",
            "Requirement already satisfied: blis<0.5.0,>=0.4.0 in /usr/local/lib/python3.6/dist-packages (from spacy>=2.2.2->en_core_web_sm==2.2.5) (0.4.1)\n",
            "Requirement already satisfied: murmurhash<1.1.0,>=0.28.0 in /usr/local/lib/python3.6/dist-packages (from spacy>=2.2.2->en_core_web_sm==2.2.5) (1.0.5)\n",
            "Requirement already satisfied: plac<1.2.0,>=0.9.6 in /usr/local/lib/python3.6/dist-packages (from spacy>=2.2.2->en_core_web_sm==2.2.5) (1.1.3)\n",
            "Requirement already satisfied: setuptools in /usr/local/lib/python3.6/dist-packages (from spacy>=2.2.2->en_core_web_sm==2.2.5) (51.0.0)\n",
            "Requirement already satisfied: srsly<1.1.0,>=1.0.2 in /usr/local/lib/python3.6/dist-packages (from spacy>=2.2.2->en_core_web_sm==2.2.5) (1.0.5)\n",
            "Requirement already satisfied: preshed<3.1.0,>=3.0.2 in /usr/local/lib/python3.6/dist-packages (from spacy>=2.2.2->en_core_web_sm==2.2.5) (3.0.5)\n",
            "Requirement already satisfied: requests<3.0.0,>=2.13.0 in /usr/local/lib/python3.6/dist-packages (from spacy>=2.2.2->en_core_web_sm==2.2.5) (2.23.0)\n",
            "Requirement already satisfied: importlib-metadata>=0.20; python_version < \"3.8\" in /usr/local/lib/python3.6/dist-packages (from catalogue<1.1.0,>=0.0.7->spacy>=2.2.2->en_core_web_sm==2.2.5) (3.3.0)\n",
            "Requirement already satisfied: idna<3,>=2.5 in /usr/local/lib/python3.6/dist-packages (from requests<3.0.0,>=2.13.0->spacy>=2.2.2->en_core_web_sm==2.2.5) (2.10)\n",
            "Requirement already satisfied: urllib3!=1.25.0,!=1.25.1,<1.26,>=1.21.1 in /usr/local/lib/python3.6/dist-packages (from requests<3.0.0,>=2.13.0->spacy>=2.2.2->en_core_web_sm==2.2.5) (1.24.3)\n",
            "Requirement already satisfied: certifi>=2017.4.17 in /usr/local/lib/python3.6/dist-packages (from requests<3.0.0,>=2.13.0->spacy>=2.2.2->en_core_web_sm==2.2.5) (2020.12.5)\n",
            "Requirement already satisfied: chardet<4,>=3.0.2 in /usr/local/lib/python3.6/dist-packages (from requests<3.0.0,>=2.13.0->spacy>=2.2.2->en_core_web_sm==2.2.5) (3.0.4)\n",
            "Requirement already satisfied: typing-extensions>=3.6.4; python_version < \"3.8\" in /usr/local/lib/python3.6/dist-packages (from importlib-metadata>=0.20; python_version < \"3.8\"->catalogue<1.1.0,>=0.0.7->spacy>=2.2.2->en_core_web_sm==2.2.5) (3.7.4.3)\n",
            "Requirement already satisfied: zipp>=0.5 in /usr/local/lib/python3.6/dist-packages (from importlib-metadata>=0.20; python_version < \"3.8\"->catalogue<1.1.0,>=0.0.7->spacy>=2.2.2->en_core_web_sm==2.2.5) (3.4.0)\n",
            "\u001b[38;5;2m✔ Download and installation successful\u001b[0m\n",
            "You can now load the model via spacy.load('en_core_web_sm')\n",
            "\u001b[38;5;2m✔ Linking successful\u001b[0m\n",
            "/usr/local/lib/python3.6/dist-packages/en_core_web_sm -->\n",
            "/usr/local/lib/python3.6/dist-packages/spacy/data/en\n",
            "You can now load the model via spacy.load('en')\n",
            "Requirement already satisfied: gensim in /usr/local/lib/python3.6/dist-packages (3.6.0)\n",
            "Requirement already satisfied: six>=1.5.0 in /usr/local/lib/python3.6/dist-packages (from gensim) (1.15.0)\n",
            "Requirement already satisfied: smart-open>=1.2.1 in /usr/local/lib/python3.6/dist-packages (from gensim) (4.0.1)\n",
            "Requirement already satisfied: numpy>=1.11.3 in /usr/local/lib/python3.6/dist-packages (from gensim) (1.19.4)\n",
            "Requirement already satisfied: scipy>=0.18.1 in /usr/local/lib/python3.6/dist-packages (from gensim) (1.4.1)\n",
            "Requirement already satisfied: pyLDAvis in /usr/local/lib/python3.6/dist-packages (2.1.2)\n",
            "Requirement already satisfied: scipy>=0.18.0 in /usr/local/lib/python3.6/dist-packages (from pyLDAvis) (1.4.1)\n",
            "Requirement already satisfied: pandas>=0.17.0 in /usr/local/lib/python3.6/dist-packages (from pyLDAvis) (1.1.5)\n",
            "Requirement already satisfied: funcy in /usr/local/lib/python3.6/dist-packages (from pyLDAvis) (1.15)\n",
            "Requirement already satisfied: numexpr in /usr/local/lib/python3.6/dist-packages (from pyLDAvis) (2.7.1)\n",
            "Requirement already satisfied: wheel>=0.23.0 in /usr/local/lib/python3.6/dist-packages (from pyLDAvis) (0.36.2)\n",
            "Requirement already satisfied: joblib>=0.8.4 in /usr/local/lib/python3.6/dist-packages (from pyLDAvis) (1.0.0)\n",
            "Requirement already satisfied: jinja2>=2.7.2 in /usr/local/lib/python3.6/dist-packages (from pyLDAvis) (2.11.2)\n",
            "Requirement already satisfied: numpy>=1.9.2 in /usr/local/lib/python3.6/dist-packages (from pyLDAvis) (1.19.4)\n",
            "Requirement already satisfied: future in /usr/local/lib/python3.6/dist-packages (from pyLDAvis) (0.16.0)\n",
            "Requirement already satisfied: pytest in /usr/local/lib/python3.6/dist-packages (from pyLDAvis) (3.6.4)\n",
            "Requirement already satisfied: pytz>=2017.2 in /usr/local/lib/python3.6/dist-packages (from pandas>=0.17.0->pyLDAvis) (2018.9)\n",
            "Requirement already satisfied: python-dateutil>=2.7.3 in /usr/local/lib/python3.6/dist-packages (from pandas>=0.17.0->pyLDAvis) (2.8.1)\n",
            "Requirement already satisfied: MarkupSafe>=0.23 in /usr/local/lib/python3.6/dist-packages (from jinja2>=2.7.2->pyLDAvis) (1.1.1)\n",
            "Requirement already satisfied: pluggy<0.8,>=0.5 in /usr/local/lib/python3.6/dist-packages (from pytest->pyLDAvis) (0.7.1)\n",
            "Requirement already satisfied: more-itertools>=4.0.0 in /usr/local/lib/python3.6/dist-packages (from pytest->pyLDAvis) (8.6.0)\n",
            "Requirement already satisfied: py>=1.5.0 in /usr/local/lib/python3.6/dist-packages (from pytest->pyLDAvis) (1.10.0)\n",
            "Requirement already satisfied: atomicwrites>=1.0 in /usr/local/lib/python3.6/dist-packages (from pytest->pyLDAvis) (1.4.0)\n",
            "Requirement already satisfied: six>=1.10.0 in /usr/local/lib/python3.6/dist-packages (from pytest->pyLDAvis) (1.15.0)\n",
            "Requirement already satisfied: setuptools in /usr/local/lib/python3.6/dist-packages (from pytest->pyLDAvis) (51.0.0)\n",
            "Requirement already satisfied: attrs>=17.4.0 in /usr/local/lib/python3.6/dist-packages (from pytest->pyLDAvis) (20.3.0)\n"
          ],
          "name": "stdout"
        }
      ]
    },
    {
      "cell_type": "code",
      "metadata": {
        "id": "-_Ge2v3IyZWi"
      },
      "source": [
        "import re\r\n",
        "import numpy as np\r\n",
        "import pandas as  pd\r\n",
        "from pprint import pprint# Gensim\r\n",
        "import gensim\r\n",
        "import gensim.corpora as corpora\r\n",
        "from gensim.utils import simple_preprocess\r\n",
        "from gensim.models import CoherenceModel# spaCy for preprocessing\r\n",
        "import spacy# Plotting tools\r\n",
        "import pyLDAvis\r\n",
        "import pyLDAvis.gensim\r\n",
        "import matplotlib.pyplot as plt\r\n",
        "%matplotlib inline"
      ],
      "execution_count": 74,
      "outputs": []
    },
    {
      "cell_type": "code",
      "metadata": {
        "id": "gdUNHD9AzIOa"
      },
      "source": [
        ""
      ],
      "execution_count": 74,
      "outputs": []
    },
    {
      "cell_type": "code",
      "metadata": {
        "colab": {
          "base_uri": "https://localhost:8080/"
        },
        "id": "79UC73Zxx1Aw",
        "outputId": "26db03ae-f664-4345-ead6-63e9506cff44"
      },
      "source": [
        "# Compute Perplexity\r\n",
        "print('\\nPerplexity: ', lda_model.log_perplexity(bow_corpus))  \r\n",
        "# a measure of how good the model is. lower the better.\r\n",
        "\r\n",
        "# Compute Coherence Score\r\n",
        "coherence_model_lda = CoherenceModel(model=lda_model, texts=processed_docs, dictionary=dictionary, coherence='c_v')\r\n",
        "coherence_lda = coherence_model_lda.get_coherence()\r\n",
        "print('\\nCoherence Score: ', coherence_lda)"
      ],
      "execution_count": 75,
      "outputs": [
        {
          "output_type": "stream",
          "text": [
            "\n",
            "Perplexity:  -4.447146089283022\n",
            "\n",
            "Coherence Score:  0.5623758434479108\n"
          ],
          "name": "stdout"
        }
      ]
    },
    {
      "cell_type": "markdown",
      "metadata": {
        "id": "SvxM2Yli7Q48"
      },
      "source": [
        "Output:\r\n",
        "- Lower the perplexity better the model.\r\n",
        "- Higher the topic coherence, the topic is more human interpretable."
      ]
    },
    {
      "cell_type": "markdown",
      "metadata": {
        "id": "EONDIjhoAHkw"
      },
      "source": [
        ""
      ]
    },
    {
      "cell_type": "code",
      "metadata": {
        "id": "2evM-1JVAJa2"
      },
      "source": [
        ""
      ],
      "execution_count": 75,
      "outputs": []
    },
    {
      "cell_type": "code",
      "metadata": {
        "colab": {
          "base_uri": "https://localhost:8080/",
          "height": 861
        },
        "id": "eW8OXQv5z4o2",
        "outputId": "78f14142-e370-442f-aaa5-82b36f16ce60"
      },
      "source": [
        "# Visualize the topics\r\n",
        "pyLDAvis.enable_notebook()\r\n",
        "vis = pyLDAvis.gensim.prepare(lda_model, bow_corpus, dictionary)\r\n",
        "vis"
      ],
      "execution_count": 76,
      "outputs": [
        {
          "output_type": "execute_result",
          "data": {
            "text/html": [
              "\n",
              "<link rel=\"stylesheet\" type=\"text/css\" href=\"https://cdn.rawgit.com/bmabey/pyLDAvis/files/ldavis.v1.0.0.css\">\n",
              "\n",
              "\n",
              "<div id=\"ldavis_el321601401124061868888470645401\"></div>\n",
              "<script type=\"text/javascript\">\n",
              "\n",
              "var ldavis_el321601401124061868888470645401_data = {\"mdsDat\": {\"x\": [-0.18340984970714408, -0.13137656940495201, 0.0571037870411788, -0.14668988267001998, 0.055071234378305904, -0.12265203600912641, 0.088693199497554, 0.13047763122620243, 0.27260959468606843, -0.019827109038066875], \"y\": [-0.03428337278402184, 0.13504927240266154, -0.15701660047597849, 0.0038531096052918487, -0.18994459848295472, 0.06705263219356673, 0.07591843415992473, 0.19769199103337404, 0.017758481654696696, -0.11607934930655876], \"topics\": [1, 2, 3, 4, 5, 6, 7, 8, 9, 10], \"cluster\": [1, 1, 1, 1, 1, 1, 1, 1, 1, 1], \"Freq\": [14.916886455330882, 13.619134348582296, 11.746269392009467, 10.245667646322165, 9.346442596861058, 9.055215652486288, 8.671699260043836, 7.690259279361329, 7.666307734586775, 7.042117634415902]}, \"tinfo\": {\"Term\": [\"\\u0e09\\u0e38\\u0e01\\u0e40\\u0e09\\u0e34\\u0e19\", \"\\u0e01\\u0e33\\u0e40\\u0e19\\u0e34\\u0e14\", \"\\u0e2d\\u0e31\\u0e19\\u0e15\\u0e23\\u0e32\\u0e22\", \"\\u0e2a\\u0e31\\u0e21\\u0e1e\\u0e31\\u0e19\\u0e18\\u0e4c\", \"\\u0e22\\u0e35\\u0e48\\u0e2b\\u0e49\\u0e2d\", \"\\u0e40\\u0e1e\\u0e28\\u0e2a\\u0e31\\u0e21\\u0e1e\\u0e31\\u0e19\\u0e18\\u0e4c\", \"\\u0e2e\\u0e2d\\u0e23\\u0e4c\\u0e42\\u0e21\\u0e19\", \"\\u0e2d\\u0e19\\u0e32\\u0e21\\u0e31\\u0e22\", \"\\u0e23\\u0e31\\u0e1a\\u0e1b\\u0e23\\u0e30\\u0e17\\u0e32\\u0e19\", \"\\u0e1b\\u0e49\\u0e2d\\u0e07\\u0e01\\u0e31\\u0e19\", \"\\u0e19\\u0e49\\u0e33\\u0e15\\u0e32\\u0e25\", \"\\u0e2a\\u0e32\\u0e40\\u0e2b\\u0e15\\u0e38\", \"\\u0e19\\u0e49\\u0e33\\u0e2b\\u0e19\\u0e31\\u0e01\", \"\\u0e2a\\u0e2d\\u0e14\\u0e43\\u0e2a\\u0e48\", \"\\u0e40\\u0e1e\\u0e28\\u0e2a\\u0e31\\u0e21\\u0e1e\\u0e31\\u0e19\", \"\\u0e2b\\u0e25\\u0e48\\u0e2d\\u0e25\\u0e37\\u0e48\\u0e19\", \"\\u0e1b\\u0e23\\u0e30\\u0e2a\\u0e34\\u0e17\\u0e18\\u0e34\\u0e20\\u0e32\\u0e1e\", \"\\u0e40\\u0e04\\u0e23\\u0e35\\u0e22\\u0e14\", \"\\u0e2d\\u0e32\\u0e40\\u0e08\\u0e35\\u0e22\\u0e19\", \"\\u0e40\\u0e1e\\u0e28\\u0e2a\\u0e31\\u0e21\\u0e1e\\u0e31\\u0e19\\u0e18\\u0e38\\u0e4c\", \"\\u0e2a\\u0e34\\u0e17\\u0e18\\u0e34\\u0e4c\", \"\\u0e41\\u0e1b\\u0e49\\u0e07\\u0e21\\u0e31\\u0e19\", \"\\u0e2d\\u0e31\\u0e25\\u0e15\\u0e23\\u0e32\\u0e0b\\u0e32\\u0e27\\u0e19\\u0e14\\u0e4c\", \"\\u0e1b\\u0e31\\u0e2a\\u0e2a\\u0e32\\u0e27\\u0e30\", \"\\u0e43\\u0e0a\\u0e49\\u0e08\\u0e48\\u0e32\\u0e22\", \"\\u0e04\\u0e25\\u0e34\\u0e19\\u0e34\\u0e01\", \"\\u0e1c\\u0e48\\u0e32\\u0e15\\u0e31\\u0e14\", \"\\u0e2d\\u0e31\\u0e01\\u0e40\\u0e2a\\u0e1a\", \"\\u0e15\\u0e31\\u0e49\\u0e07\\u0e17\\u0e49\\u0e2d\\u0e07\", \"\\u0e40\\u0e21\\u0e2d\\u0e0b\\u0e34\\u0e25\\u0e2d\\u0e19\", \"\\u0e41\\u0e1b\\u0e49\\u0e07\\u0e21\\u0e31\\u0e19\", \"\\u0e44\\u0e17\\u0e23\\u0e2d\\u0e22\\u0e14\\u0e4c\", \"\\u0e09\\u0e38\\u0e01\\u0e40\\u0e09\\u0e34\\u0e19\", \"\\u0e1b\\u0e23\\u0e30\\u0e40\\u0e14\\u0e47\\u0e19\", \"\\u0e2a\\u0e27\\u0e31\\u0e2a\\u0e14\\u0e35\", \"\\u0e40\\u0e1b\\u0e2d\\u0e23\\u0e4c\\u0e40\\u0e0b\\u0e47\\u0e19\\u0e15\\u0e4c\", \"\\u0e23\\u0e32\\u0e22\\u0e25\\u0e30\\u0e40\\u0e2d\\u0e35\\u0e22\\u0e14\", \"\\u0e1b\\u0e23\\u0e30\\u0e08\\u0e33\", \"\\u0e27\\u0e31\\u0e04\\u0e0b\\u0e35\\u0e19\", \"\\u0e41\\u0e1a\\u0e1a\\u0e41\\u0e1c\\u0e19\", \"\\u0e1b\\u0e49\\u0e2d\\u0e07\\u0e01\\u0e31\\u0e19\", \"\\u0e41\\u0e15\\u0e48\\u0e07\\u0e07\\u0e32\\u0e19\", \"\\u0e2d\\u0e48\\u0e2d\\u0e19\\u0e40\\u0e1e\\u0e25\\u0e35\\u0e22\", \"\\u0e43\\u0e0a\\u0e49\\u0e08\\u0e48\\u0e32\\u0e22\", \"\\u0e15\\u0e49\\u0e2d\\u0e07\\u0e01\\u0e32\\u0e23\", \"\\u0e2d\\u0e32\\u0e01\\u0e32\\u0e23\", \"\\u0e19\\u0e34\\u0e17\\u0e32\\u0e19\", \"\\u0e1b\\u0e01\\u0e15\\u0e34\", \"\\u0e01\\u0e30\\u0e1b\\u0e23\\u0e34\\u0e1a\\u0e01\\u0e30\\u0e1b\\u0e23\\u0e2d\\u0e22\", \"\\u0e04\\u0e23\\u0e2d\\u0e1a\\u0e04\\u0e23\\u0e31\\u0e27\", \"\\u0e02\\u0e2d\\u0e1a\\u0e04\\u0e38\\u0e13\", \"\\u0e2a\\u0e2d\\u0e14\\u0e43\\u0e2a\\u0e48\", \"\\u0e44\\u0e21\\u0e40\\u0e01\\u0e23\\u0e19\", \"\\u0e23\\u0e38\\u0e19\\u0e41\\u0e23\\u0e07\", \"\\u0e2b\\u0e32\\u0e22\\u0e02\\u0e32\\u0e14\", \"\\u0e2a\\u0e32\\u0e40\\u0e2b\\u0e15\\u0e38\", \"\\u0e2b\\u0e07\\u0e38\\u0e14\\u0e2b\\u0e07\\u0e34\\u0e14\", \"\\u0e40\\u0e1e\\u0e28\\u0e2a\\u0e31\\u0e21\\u0e1e\\u0e31\\u0e19\\u0e18\\u0e4c\", \"\\u0e41\\u0e15\\u0e01\\u0e15\\u0e48\\u0e32\\u0e07\", \"\\u0e18\\u0e32\\u0e25\\u0e31\\u0e2a\\u0e0b\\u0e35\", \"\\u0e2a\\u0e34\\u0e17\\u0e18\\u0e34\\u0e4c\", \"\\u0e15\\u0e31\\u0e49\\u0e07\\u0e04\\u0e23\\u0e23\\u0e20\\u0e4c\", \"\\u0e1b\\u0e23\\u0e30\\u0e2a\\u0e34\\u0e17\\u0e18\\u0e34\\u0e20\\u0e32\\u0e1e\", \"\\u0e22\\u0e35\\u0e48\\u0e2b\\u0e49\\u0e2d\", \"\\u0e2d\\u0e19\\u0e32\\u0e21\\u0e31\\u0e22\", \"\\u0e2a\\u0e31\\u0e21\\u0e1e\\u0e31\\u0e19\\u0e18\\u0e4c\", \"\\u0e01\\u0e33\\u0e40\\u0e19\\u0e34\\u0e14\", \"\\u0e40\\u0e1e\\u0e28\\u0e2a\\u0e31\\u0e21\\u0e1e\\u0e31\\u0e19\", \"\\u0e16\\u0e2d\\u0e14\\u0e16\\u0e2d\\u0e19\", \"\\u0e15\\u0e32\\u0e21\\u0e34\\u0e19\", \"\\u0e2b\\u0e31\\u0e27\\u0e2b\\u0e19\\u0e49\\u0e32\", \"\\u0e2d\\u0e19\\u0e32\\u0e21\\u0e31\\u0e22\", \"\\u0e40\\u0e2b\\u0e19\\u0e35\\u0e22\\u0e27\", \"\\u0e44\\u0e21\\u0e40\\u0e01\\u0e23\\u0e19\", \"\\u0e1b\\u0e31\\u0e2a\\u0e2a\\u0e32\\u0e27\\u0e30\", \"\\u0e40\\u0e1e\\u0e37\\u0e48\\u0e2d\\u0e19\", \"\\u0e15\\u0e34\\u0e14\\u0e15\\u0e48\\u0e2d\", \"\\u0e40\\u0e2b\\u0e25\\u0e37\\u0e2d\\u0e07\", \"\\u0e02\\u0e49\\u0e2d\\u0e21\\u0e39\\u0e25\", \"\\u0e2a\\u0e33\\u0e40\\u0e23\\u0e47\\u0e08\", \"\\u0e40\\u0e1e\\u0e28\\u0e2a\\u0e31\\u0e21\\u0e1e\\u0e31\\u0e19\\u0e18\\u0e4c\", \"\\u0e19\\u0e49\\u0e33\\u0e15\\u0e32\\u0e25\", \"\\u0e1b\\u0e49\\u0e2d\\u0e07\\u0e01\\u0e31\\u0e19\", \"\\u0e0a\\u0e35\\u0e49\\u0e02\\u0e32\\u0e14\", \"\\u0e40\\u0e04\\u0e25\\u0e37\\u0e48\\u0e2d\\u0e19\", \"\\u0e41\\u0e15\\u0e01\\u0e15\\u0e48\\u0e32\\u0e07\", \"\\u0e17\\u0e31\\u0e48\\u0e27\\u0e44\\u0e1b\", \"\\u0e0a\\u0e31\\u0e14\\u0e40\\u0e08\\u0e19\", \"\\u0e2a\\u0e27\\u0e31\\u0e2a\\u0e14\\u0e35\", \"\\u0e42\\u0e23\\u0e07\\u0e1e\\u0e22\\u0e32\\u0e1a\\u0e32\\u0e25\", \"\\u0e04\\u0e25\\u0e32\\u0e14\\u0e40\\u0e04\\u0e25\\u0e37\\u0e48\\u0e2d\\u0e19\", \"\\u0e01\\u0e23\\u0e30\\u0e40\\u0e1e\\u0e32\\u0e30\", \"\\u0e2a\\u0e38\\u0e02\\u0e20\\u0e32\\u0e1e\", \"\\u0e40\\u0e15\\u0e47\\u0e21\\u0e17\\u0e35\\u0e48\", \"\\u0e40\\u0e04\\u0e23\\u0e35\\u0e22\\u0e14\", \"\\u0e01\\u0e31\\u0e07\\u0e27\\u0e25\", \"\\u0e04\\u0e25\\u0e34\\u0e19\\u0e34\\u0e01\", \"\\u0e23\\u0e31\\u0e1a\\u0e1b\\u0e23\\u0e30\\u0e17\\u0e32\\u0e19\", \"\\u0e2d\\u0e31\\u0e25\\u0e15\\u0e23\\u0e32\\u0e0b\\u0e32\\u0e27\\u0e19\\u0e14\\u0e4c\", \"\\u0e09\\u0e38\\u0e01\\u0e40\\u0e09\\u0e34\\u0e19\", \"\\u0e22\\u0e35\\u0e48\\u0e2b\\u0e49\\u0e2d\", \"\\u0e41\\u0e1a\\u0e1a\\u0e41\\u0e1c\\u0e19\", \"\\u0e40\\u0e2b\\u0e19\\u0e37\\u0e48\\u0e2d\\u0e22\", \"\\u0e01\\u0e33\\u0e40\\u0e19\\u0e34\\u0e14\", \"\\u0e2a\\u0e34\\u0e17\\u0e18\\u0e34\\u0e4c\", \"\\u0e2a\\u0e31\\u0e21\\u0e1e\\u0e31\\u0e19\\u0e18\\u0e4c\", \"\\u0e40\\u0e2a\\u0e37\\u0e49\\u0e2d\\u0e1c\\u0e49\\u0e32\", \"\\u0e04\\u0e38\\u0e21\\u0e01\\u0e33\\u0e40\\u0e19\\u0e34\\u0e14\", \"\\u0e01\\u0e33\\u0e40\\u0e19\\u0e34\\u0e14\", \"\\u0e2a\\u0e2d\\u0e14\\u0e43\\u0e2a\\u0e48\", \"\\u0e1b\\u0e23\\u0e30\\u0e01\\u0e31\\u0e19\", \"\\u0e40\\u0e17\\u0e35\\u0e48\\u0e22\\u0e27\", \"\\u0e01\\u0e30\\u0e1b\\u0e23\\u0e34\\u0e1a\\u0e01\\u0e30\\u0e1b\\u0e23\\u0e2d\\u0e22\", \"\\u0e2b\\u0e07\\u0e38\\u0e14\\u0e2b\\u0e07\\u0e34\\u0e14\", \"\\u0e01\\u0e30\\u0e1b\\u0e23\\u0e34\\u0e14\\u0e01\\u0e30\\u0e1b\\u0e23\\u0e2d\\u0e22\", \"\\u0e43\\u0e0a\\u0e49\\u0e08\\u0e48\\u0e32\\u0e22\", \"\\u0e15\\u0e23\\u0e27\\u0e08\\u0e40\\u0e08\\u0e2d\", \"\\u0e40\\u0e02\\u0e47\\u0e21\\u0e41\\u0e23\\u0e01\", \"\\u0e16\\u0e2d\\u0e14\\u0e40\\u0e02\\u0e47\\u0e21\\u0e22\\u0e32\", \"\\u0e1b\\u0e23\\u0e30\\u0e40\\u0e20\\u0e17\", \"\\u0e40\\u0e14\\u0e37\\u0e2d\\u0e19\", \"\\u0e01\\u0e31\\u0e07\\u0e27\\u0e25\", \"\\u0e15\\u0e23\\u0e27\\u0e08\\u0e2a\\u0e2d\\u0e1a\", \"\\u0e2a\\u0e33\\u0e40\\u0e23\\u0e47\\u0e08\", \"\\u0e1b\\u0e23\\u0e30\\u0e40\\u0e14\\u0e47\\u0e19\", \"\\u0e23\\u0e39\\u0e49\\u0e2a\\u0e36\\u0e01\", \"\\u0e2d\\u0e31\\u0e15\\u0e23\\u0e32\", \"\\u0e23\\u0e32\\u0e22\\u0e25\\u0e30\\u0e40\\u0e2d\\u0e35\\u0e22\\u0e14\", \"\\u0e1b\\u0e23\\u0e30\\u0e21\\u0e32\\u0e13\", \"\\u0e04\\u0e25\\u0e34\\u0e19\\u0e34\\u0e01\", \"\\u0e17\\u0e49\\u0e2d\\u0e07\\u0e40\\u0e14\\u0e34\\u0e19\", \"\\u0e02\\u0e49\\u0e2d\\u0e21\\u0e39\\u0e25\", \"\\u0e2d\\u0e32\\u0e01\\u0e32\\u0e23\", \"\\u0e2a\\u0e34\\u0e17\\u0e18\\u0e34\\u0e4c\", \"\\u0e15\\u0e34\\u0e14\\u0e15\\u0e48\\u0e2d\", \"\\u0e44\\u0e17\\u0e23\\u0e2d\\u0e22\\u0e14\\u0e4c\", \"\\u0e40\\u0e04\\u0e23\\u0e35\\u0e22\\u0e14\", \"\\u0e2a\\u0e31\\u0e21\\u0e1e\\u0e31\\u0e19\\u0e18\\u0e4c\", \"\\u0e40\\u0e1e\\u0e28\\u0e2a\\u0e31\\u0e21\\u0e1e\\u0e31\\u0e19\\u0e18\\u0e4c\", \"\\u0e22\\u0e35\\u0e48\\u0e2b\\u0e49\\u0e2d\", \"\\u0e1b\\u0e31\\u0e2a\\u0e2a\\u0e32\\u0e27\\u0e30\", \"\\u0e1b\\u0e49\\u0e2d\\u0e07\\u0e01\\u0e31\\u0e19\", \"\\u0e09\\u0e38\\u0e01\\u0e40\\u0e09\\u0e34\\u0e19\", \"\\u0e40\\u0e1e\\u0e28\\u0e2a\\u0e31\\u0e21\\u0e1e\\u0e31\\u0e19\\u0e18\\u0e38\\u0e4c\", \"\\u0e04\\u0e31\\u0e14\\u0e40\\u0e15\\u0e49\\u0e32\", \"\\u0e2b\\u0e25\\u0e31\\u0e48\\u0e07\\u0e19\\u0e2d\\u0e01\", \"\\u0e2a\\u0e31\\u0e21\\u0e1e\\u0e31\\u0e19\\u0e18\\u0e4c\", \"\\u0e23\\u0e49\\u0e2d\\u0e07\\u0e44\\u0e2b\\u0e49\", \"\\u0e17\\u0e49\\u0e2d\\u0e07\", \"\\u0e04\\u0e25\\u0e32\\u0e14\\u0e40\\u0e04\\u0e25\\u0e37\\u0e48\\u0e2d\\u0e19\", \"\\u0e15\\u0e23\\u0e27\\u0e08\\u0e2a\\u0e2d\\u0e1a\", \"\\u0e40\\u0e14\\u0e34\\u0e19\\u0e17\\u0e32\\u0e07\", \"\\u0e40\\u0e14\\u0e37\\u0e2d\\u0e19\", \"\\u0e15\\u0e49\\u0e2d\\u0e07\\u0e01\\u0e32\\u0e23\", \"\\u0e2b\\u0e19\\u0e49\\u0e32\\u0e2d\\u0e01\", \"\\u0e40\\u0e02\\u0e47\\u0e21\\u0e41\\u0e23\\u0e01\", \"\\u0e23\\u0e32\\u0e22\\u0e25\\u0e30\\u0e40\\u0e2d\\u0e35\\u0e22\\u0e14\", \"\\u0e0a\\u0e35\\u0e49\\u0e02\\u0e32\\u0e14\", \"\\u0e40\\u0e1e\\u0e2a\\u0e2a\\u0e31\\u0e21\\u0e1e\\u0e31\\u0e19\\u0e18\\u0e4c\", \"\\u0e40\\u0e1e\\u0e28\\u0e2a\\u0e31\\u0e21\\u0e1e\\u0e31\\u0e19\", \"\\u0e15\\u0e31\\u0e49\\u0e07\\u0e17\\u0e49\\u0e2d\\u0e07\", \"\\u0e40\\u0e21\\u0e42\\u0e25\\u0e14\\u0e35\\u0e49\", \"\\u0e17\\u0e49\\u0e2d\\u0e07\\u0e40\\u0e14\\u0e34\\u0e19\", \"\\u0e1b\\u0e49\\u0e2d\\u0e07\\u0e01\\u0e31\\u0e19\", \"\\u0e40\\u0e04\\u0e23\\u0e35\\u0e22\\u0e14\", \"\\u0e15\\u0e34\\u0e14\\u0e15\\u0e48\\u0e2d\", \"\\u0e40\\u0e1b\\u0e2d\\u0e23\\u0e4c\\u0e40\\u0e0b\\u0e47\\u0e19\\u0e15\\u0e4c\", \"\\u0e18\\u0e23\\u0e23\\u0e21\\u0e0a\\u0e32\\u0e15\\u0e34\", \"\\u0e2b\\u0e19\\u0e49\\u0e32\\u0e17\\u0e49\\u0e2d\\u0e07\", \"\\u0e40\\u0e1e\\u0e28\\u0e2a\\u0e31\\u0e21\\u0e1e\\u0e31\\u0e19\\u0e18\\u0e4c\", \"\\u0e40\\u0e2b\\u0e25\\u0e37\\u0e2d\\u0e07\", \"\\u0e09\\u0e38\\u0e01\\u0e40\\u0e09\\u0e34\\u0e19\", \"\\u0e2a\\u0e34\\u0e17\\u0e18\\u0e34\\u0e4c\", \"\\u0e2a\\u0e33\\u0e40\\u0e23\\u0e47\\u0e08\", \"\\u0e1b\\u0e31\\u0e2a\\u0e2a\\u0e32\\u0e27\\u0e30\", \"\\u0e2a\\u0e32\\u0e40\\u0e2b\\u0e15\\u0e38\", \"\\u0e2d\\u0e32\\u0e40\\u0e08\\u0e35\\u0e22\\u0e19\", \"\\u0e2d\\u0e19\\u0e32\\u0e21\\u0e31\\u0e22\", \"\\u0e01\\u0e33\\u0e40\\u0e19\\u0e34\\u0e14\", \"\\u0e2a\\u0e2d\\u0e14\\u0e43\\u0e2a\\u0e48\", \"\\u0e40\\u0e1e\\u0e28\\u0e2a\\u0e31\\u0e21\\u0e1e\\u0e31\\u0e19\\u0e18\\u0e38\\u0e4c\", \"\\u0e2b\\u0e25\\u0e48\\u0e2d\\u0e25\\u0e37\\u0e48\\u0e19\", \"\\u0e17\\u0e49\\u0e2d\\u0e07\\u0e44\\u0e21\\u0e49\", \"\\u0e04\\u0e38\\u0e13\\u0e2b\\u0e21\\u0e2d\", \"\\u0e1b\\u0e23\\u0e30\\u0e2a\\u0e34\\u0e17\\u0e18\\u0e34\\u0e20\\u0e32\\u0e1e\", \"\\u0e40\\u0e02\\u0e47\\u0e21\", \"\\u0e15\\u0e31\\u0e49\\u0e07\\u0e04\\u0e23\\u0e23\\u0e20\\u0e4c\", \"\\u0e2a\\u0e32\\u0e40\\u0e2b\\u0e15\\u0e38\", \"\\u0e23\\u0e38\\u0e19\\u0e41\\u0e23\\u0e07\", \"\\u0e17\\u0e49\\u0e2d\\u0e07\\u0e17\\u0e35\\u0e48\", \"\\u0e04\\u0e23\\u0e2d\\u0e1a\\u0e04\\u0e23\\u0e31\\u0e27\", \"\\u0e17\\u0e49\\u0e2d\\u0e07\\u0e40\\u0e14\\u0e34\\u0e19\", \"\\u0e40\\u0e1e\\u0e28\\u0e2a\\u0e31\\u0e21\\u0e1e\\u0e31\\u0e19\", \"\\u0e1b\\u0e23\\u0e30\\u0e40\\u0e20\\u0e17\", \"\\u0e1c\\u0e48\\u0e32\\u0e04\\u0e25\\u0e2d\\u0e14\", \"\\u0e1b\\u0e01\\u0e15\\u0e34\", \"\\u0e2b\\u0e19\\u0e49\\u0e32\\u0e2d\\u0e01\", \"\\u0e2a\\u0e34\\u0e17\\u0e18\\u0e34\\u0e4c\", \"\\u0e40\\u0e1b\\u0e2d\\u0e23\\u0e4c\\u0e40\\u0e0b\\u0e47\\u0e19\\u0e15\\u0e4c\", \"\\u0e41\\u0e02\\u0e47\\u0e07\\u0e41\\u0e23\\u0e07\", \"\\u0e40\\u0e2b\\u0e25\\u0e37\\u0e2d\\u0e07\", \"\\u0e18\\u0e23\\u0e23\\u0e21\\u0e0a\\u0e32\\u0e15\\u0e34\", \"\\u0e2a\\u0e33\\u0e40\\u0e23\\u0e47\\u0e08\", \"\\u0e2d\\u0e31\\u0e15\\u0e23\\u0e32\", \"\\u0e17\\u0e49\\u0e2d\\u0e07\\u0e19\\u0e49\\u0e2d\\u0e22\", \"\\u0e27\\u0e31\\u0e13\\u0e42\\u0e23\\u0e04\", \"\\u0e40\\u0e15\\u0e47\\u0e21\\u0e17\\u0e35\\u0e48\", \"\\u0e2d\\u0e18\\u0e34\\u0e1a\\u0e32\\u0e22\", \"\\u0e01\\u0e33\\u0e40\\u0e19\\u0e34\\u0e14\", \"\\u0e43\\u0e0a\\u0e49\\u0e08\\u0e48\\u0e32\\u0e22\", \"\\u0e1b\\u0e49\\u0e2d\\u0e07\\u0e01\\u0e31\\u0e19\", \"\\u0e40\\u0e1e\\u0e28\\u0e2a\\u0e31\\u0e21\\u0e1e\\u0e31\\u0e19\\u0e18\\u0e4c\", \"\\u0e2a\\u0e2d\\u0e14\\u0e43\\u0e2a\\u0e48\", \"\\u0e09\\u0e38\\u0e01\\u0e40\\u0e09\\u0e34\\u0e19\", \"\\u0e22\\u0e35\\u0e48\\u0e2b\\u0e49\\u0e2d\", \"\\u0e2d\\u0e32\\u0e40\\u0e08\\u0e35\\u0e22\\u0e19\", \"\\u0e2b\\u0e25\\u0e07\\u0e25\\u0e37\\u0e21\", \"\\u0e1c\\u0e34\\u0e14\\u0e1e\\u0e25\\u0e32\\u0e14\", \"\\u0e2b\\u0e32\\u0e22\\u0e02\\u0e32\\u0e14\", \"\\u0e2d\\u0e19\\u0e38\\u0e0d\\u0e32\\u0e15\", \"\\u0e1c\\u0e48\\u0e32\\u0e15\\u0e31\\u0e14\", \"\\u0e41\\u0e15\\u0e48\\u0e07\\u0e07\\u0e32\\u0e19\", \"\\u0e19\\u0e49\\u0e33\\u0e15\\u0e32\\u0e25\", \"\\u0e40\\u0e04\\u0e25\\u0e37\\u0e48\\u0e2d\\u0e19\", \"\\u0e18\\u0e23\\u0e23\\u0e21\\u0e0a\\u0e32\\u0e15\\u0e34\", \"\\u0e18\\u0e32\\u0e25\\u0e31\\u0e2a\\u0e0b\\u0e35\", \"\\u0e1b\\u0e01\\u0e15\\u0e34\", \"\\u0e2d\\u0e32\\u0e01\\u0e32\\u0e23\", \"\\u0e17\\u0e31\\u0e48\\u0e27\\u0e44\\u0e1b\", \"\\u0e40\\u0e1e\\u0e28\\u0e2a\\u0e31\\u0e21\\u0e1e\\u0e31\\u0e19\\u0e18\\u0e4c\", \"\\u0e04\\u0e38\\u0e21\\u0e01\\u0e33\\u0e40\\u0e19\\u0e34\\u0e14\", \"\\u0e1c\\u0e48\\u0e32\\u0e04\\u0e25\\u0e2d\\u0e14\", \"\\u0e40\\u0e02\\u0e47\\u0e21\\u0e41\\u0e23\\u0e01\", \"\\u0e2a\\u0e33\\u0e40\\u0e23\\u0e47\\u0e08\", \"\\u0e2b\\u0e25\\u0e31\\u0e48\\u0e07\\u0e19\\u0e2d\\u0e01\", \"\\u0e1b\\u0e23\\u0e30\\u0e40\\u0e14\\u0e47\\u0e19\", \"\\u0e09\\u0e38\\u0e01\\u0e40\\u0e09\\u0e34\\u0e19\", \"\\u0e40\\u0e02\\u0e47\\u0e21\", \"\\u0e27\\u0e34\\u0e15\\u0e32\\u0e21\\u0e34\\u0e19\", \"\\u0e21\\u0e30\\u0e40\\u0e23\\u0e47\\u0e07\", \"\\u0e2d\\u0e32\\u0e40\\u0e08\\u0e35\\u0e22\\u0e19\", \"\\u0e15\\u0e23\\u0e27\\u0e08\\u0e2a\\u0e2d\\u0e1a\", \"\\u0e43\\u0e0a\\u0e49\\u0e08\\u0e48\\u0e32\\u0e22\", \"\\u0e1b\\u0e23\\u0e30\\u0e40\\u0e20\\u0e17\", \"\\u0e41\\u0e1b\\u0e49\\u0e07\\u0e21\\u0e31\\u0e19\", \"\\u0e17\\u0e49\\u0e2d\\u0e07\\u0e44\\u0e21\\u0e49\", \"\\u0e2d\\u0e19\\u0e32\\u0e21\\u0e31\\u0e22\", \"\\u0e2d\\u0e31\\u0e19\\u0e15\\u0e23\\u0e32\\u0e22\", \"\\u0e01\\u0e33\\u0e40\\u0e19\\u0e34\\u0e14\", \"\\u0e1b\\u0e49\\u0e2d\\u0e07\\u0e01\\u0e31\\u0e19\", \"\\u0e22\\u0e35\\u0e48\\u0e2b\\u0e49\\u0e2d\", \"\\u0e15\\u0e34\\u0e14\\u0e15\\u0e48\\u0e2d\", \"\\u0e2d\\u0e31\\u0e01\\u0e40\\u0e2a\\u0e1a\", \"\\u0e2a\\u0e31\\u0e21\\u0e1e\\u0e31\\u0e19\\u0e18\\u0e4c\", \"\\u0e2e\\u0e2d\\u0e23\\u0e4c\\u0e42\\u0e21\\u0e19\", \"\\u0e40\\u0e21\\u0e2d\\u0e0b\\u0e34\\u0e25\\u0e2d\\u0e19\", \"\\u0e15\\u0e31\\u0e49\\u0e07\\u0e43\\u0e08\", \"\\u0e27\\u0e31\\u0e13\\u0e42\\u0e23\\u0e04\", \"\\u0e1b\\u0e23\\u0e30\\u0e21\\u0e32\\u0e13\", \"\\u0e02\\u0e2d\\u0e1a\\u0e04\\u0e38\\u0e13\", \"\\u0e15\\u0e31\\u0e49\\u0e07\\u0e17\\u0e49\\u0e2d\\u0e07\", \"\\u0e41\\u0e1c\\u0e19\\u0e17\\u0e35\\u0e48\", \"\\u0e40\\u0e2b\\u0e19\\u0e37\\u0e48\\u0e2d\\u0e22\", \"\\u0e2d\\u0e32\\u0e40\\u0e08\\u0e35\\u0e22\\u0e19\", \"\\u0e2a\\u0e38\\u0e02\\u0e20\\u0e32\\u0e1e\", \"\\u0e40\\u0e04\\u0e23\\u0e35\\u0e22\\u0e14\", \"\\u0e27\\u0e34\\u0e15\\u0e32\\u0e21\\u0e34\\u0e19\", \"\\u0e16\\u0e2d\\u0e14\\u0e40\\u0e02\\u0e47\\u0e21\\u0e22\\u0e32\", \"\\u0e19\\u0e34\\u0e17\\u0e32\\u0e19\", \"\\u0e2a\\u0e34\\u0e17\\u0e18\\u0e34\\u0e4c\", \"\\u0e1e\\u0e48\\u0e2d\\u0e41\\u0e21\\u0e48\", \"\\u0e40\\u0e14\\u0e34\\u0e19\\u0e17\\u0e32\\u0e07\", \"\\u0e2a\\u0e31\\u0e07\\u0e40\\u0e01\\u0e15\", \"\\u0e1b\\u0e23\\u0e30\\u0e40\\u0e20\\u0e17\", \"\\u0e1c\\u0e34\\u0e14\\u0e1e\\u0e25\\u0e32\\u0e14\", \"\\u0e04\\u0e25\\u0e37\\u0e48\\u0e19\\u0e44\\u0e2a\\u0e49\", \"\\u0e40\\u0e21\\u0e42\\u0e25\\u0e14\\u0e35\\u0e49\", \"\\u0e2a\\u0e38\\u0e14\\u0e17\\u0e49\\u0e2d\\u0e07\", \"\\u0e1b\\u0e23\\u0e30\\u0e2a\\u0e34\\u0e17\\u0e18\\u0e34\\u0e20\\u0e32\\u0e1e\", \"\\u0e21\\u0e30\\u0e40\\u0e23\\u0e47\\u0e07\", \"\\u0e1b\\u0e23\\u0e30\\u0e08\\u0e33\", \"\\u0e23\\u0e38\\u0e19\\u0e41\\u0e23\\u0e07\", \"\\u0e23\\u0e39\\u0e49\\u0e2a\\u0e36\\u0e01\", \"\\u0e2d\\u0e32\\u0e01\\u0e32\\u0e23\", \"\\u0e41\\u0e1b\\u0e49\\u0e07\\u0e21\\u0e31\\u0e19\", \"\\u0e40\\u0e1e\\u0e28\\u0e2a\\u0e31\\u0e21\\u0e1e\\u0e31\\u0e19\\u0e18\\u0e4c\", \"\\u0e43\\u0e0a\\u0e49\\u0e08\\u0e48\\u0e32\\u0e22\", \"\\u0e40\\u0e1e\\u0e28\\u0e2a\\u0e31\\u0e21\\u0e1e\\u0e31\\u0e19\", \"\\u0e22\\u0e35\\u0e48\\u0e2b\\u0e49\\u0e2d\", \"\\u0e15\\u0e34\\u0e14\\u0e15\\u0e48\\u0e2d\", \"\\u0e2d\\u0e19\\u0e32\\u0e21\\u0e31\\u0e22\", \"\\u0e2a\\u0e2d\\u0e14\\u0e43\\u0e2a\\u0e48\", \"\\u0e40\\u0e1e\\u0e2a\\u0e2a\\u0e31\\u0e21\\u0e1e\\u0e31\\u0e19\", \"\\u0e23\\u0e31\\u0e1a\\u0e1b\\u0e23\\u0e30\\u0e17\\u0e32\\u0e19\", \"\\u0e2d\\u0e31\\u0e19\\u0e15\\u0e23\\u0e32\\u0e22\", \"\\u0e01\\u0e23\\u0e30\\u0e14\\u0e32\\u0e29\", \"\\u0e2d\\u0e32\\u0e23\\u0e21\\u0e13\\u0e4c\", \"\\u0e2d\\u0e31\\u0e01\\u0e40\\u0e2a\\u0e1a\", \"\\u0e40\\u0e15\\u0e47\\u0e21\\u0e17\\u0e35\\u0e48\", \"\\u0e21\\u0e30\\u0e40\\u0e23\\u0e47\\u0e07\", \"\\u0e17\\u0e49\\u0e2d\\u0e07\\u0e19\\u0e49\\u0e2d\\u0e22\", \"\\u0e41\\u0e15\\u0e01\\u0e15\\u0e48\\u0e32\\u0e07\", \"\\u0e1e\\u0e48\\u0e2d\\u0e41\\u0e21\\u0e48\", \"\\u0e02\\u0e49\\u0e2d\\u0e21\\u0e39\\u0e25\", \"\\u0e18\\u0e32\\u0e25\\u0e31\\u0e2a\\u0e0b\\u0e35\", \"\\u0e40\\u0e2b\\u0e25\\u0e37\\u0e2d\\u0e07\", \"\\u0e40\\u0e17\\u0e35\\u0e48\\u0e22\\u0e27\", \"\\u0e15\\u0e23\\u0e27\\u0e08\\u0e40\\u0e08\\u0e2d\", \"\\u0e44\\u0e17\\u0e23\\u0e2d\\u0e22\\u0e14\\u0e4c\", \"\\u0e1c\\u0e48\\u0e32\\u0e15\\u0e31\\u0e14\", \"\\u0e40\\u0e1e\\u0e37\\u0e48\\u0e2d\\u0e19\", \"\\u0e04\\u0e23\\u0e2d\\u0e1a\\u0e04\\u0e23\\u0e31\\u0e27\", \"\\u0e19\\u0e34\\u0e17\\u0e32\\u0e19\", \"\\u0e2d\\u0e19\\u0e38\\u0e0d\\u0e32\\u0e15\", \"\\u0e2a\\u0e31\\u0e07\\u0e40\\u0e01\\u0e15\", \"\\u0e40\\u0e1a\\u0e32\\u0e2b\\u0e27\\u0e32\\u0e19\", \"\\u0e16\\u0e2d\\u0e14\\u0e40\\u0e02\\u0e47\\u0e21\\u0e22\\u0e32\", \"\\u0e1b\\u0e23\\u0e30\\u0e01\\u0e31\\u0e19\", \"\\u0e19\\u0e49\\u0e33\\u0e2b\\u0e19\\u0e31\\u0e01\", \"\\u0e02\\u0e2d\\u0e07\\u0e41\\u0e02\\u0e47\\u0e07\", \"\\u0e2b\\u0e19\\u0e49\\u0e32\\u0e17\\u0e49\\u0e2d\\u0e07\", \"\\u0e18\\u0e23\\u0e23\\u0e21\\u0e14\\u0e32\", \"\\u0e2a\\u0e32\\u0e40\\u0e2b\\u0e15\\u0e38\", \"\\u0e27\\u0e31\\u0e04\\u0e0b\\u0e35\\u0e19\", \"\\u0e1b\\u0e49\\u0e2d\\u0e07\\u0e01\\u0e31\\u0e19\", \"\\u0e40\\u0e1e\\u0e28\\u0e2a\\u0e31\\u0e21\\u0e1e\\u0e31\\u0e19\\u0e18\\u0e4c\", \"\\u0e2a\\u0e38\\u0e02\\u0e20\\u0e32\\u0e1e\", \"\\u0e2d\\u0e32\\u0e40\\u0e08\\u0e35\\u0e22\\u0e19\", \"\\u0e2a\\u0e2d\\u0e14\\u0e43\\u0e2a\\u0e48\", \"\\u0e15\\u0e31\\u0e49\\u0e07\\u0e04\\u0e23\\u0e23\\u0e20\\u0e4c\", \"\\u0e01\\u0e33\\u0e40\\u0e19\\u0e34\\u0e14\", \"\\u0e2a\\u0e31\\u0e21\\u0e1e\\u0e31\\u0e19\\u0e18\\u0e4c\", \"\\u0e1b\\u0e0f\\u0e34\\u0e2a\\u0e19\\u0e18\\u0e34\", \"\\u0e0b\\u0e34\\u0e1f\\u0e34\\u0e25\\u0e34\\u0e2a\", \"\\u0e19\\u0e49\\u0e33\\u0e2b\\u0e19\\u0e31\\u0e01\", \"\\u0e01\\u0e23\\u0e30\\u0e40\\u0e1e\\u0e32\\u0e30\", \"\\u0e42\\u0e23\\u0e07\\u0e1e\\u0e22\\u0e32\\u0e1a\\u0e32\\u0e25\", \"\\u0e2b\\u0e19\\u0e49\\u0e32\\u0e17\\u0e49\\u0e2d\\u0e07\", \"\\u0e04\\u0e25\\u0e37\\u0e48\\u0e19\\u0e44\\u0e2a\\u0e49\", \"\\u0e2d\\u0e48\\u0e2d\\u0e19\\u0e40\\u0e1e\\u0e25\\u0e35\\u0e22\", \"\\u0e04\\u0e25\\u0e34\\u0e19\\u0e34\\u0e01\", \"\\u0e23\\u0e39\\u0e49\\u0e2a\\u0e36\\u0e01\", \"\\u0e2d\\u0e31\\u0e25\\u0e15\\u0e23\\u0e32\\u0e0b\\u0e32\\u0e27\\u0e19\\u0e14\\u0e4c\", \"\\u0e01\\u0e31\\u0e07\\u0e27\\u0e25\", \"\\u0e02\\u0e2d\\u0e07\\u0e41\\u0e02\\u0e47\\u0e07\", \"\\u0e2a\\u0e38\\u0e14\\u0e17\\u0e49\\u0e2d\\u0e07\", \"\\u0e41\\u0e02\\u0e47\\u0e07\\u0e41\\u0e23\\u0e07\", \"\\u0e0a\\u0e31\\u0e14\\u0e40\\u0e08\\u0e19\", \"\\u0e2a\\u0e31\\u0e07\\u0e40\\u0e01\\u0e15\", \"\\u0e27\\u0e31\\u0e04\\u0e0b\\u0e35\\u0e19\", \"\\u0e17\\u0e31\\u0e48\\u0e27\\u0e44\\u0e1b\", \"\\u0e40\\u0e1e\\u0e2a\\u0e2a\\u0e31\\u0e21\\u0e1e\\u0e31\\u0e19\\u0e18\\u0e4c\", \"\\u0e1b\\u0e23\\u0e30\\u0e08\\u0e33\", \"\\u0e41\\u0e1a\\u0e1a\\u0e41\\u0e1c\\u0e19\", \"\\u0e15\\u0e23\\u0e27\\u0e08\\u0e40\\u0e08\\u0e2d\", \"\\u0e0a\\u0e35\\u0e49\\u0e02\\u0e32\\u0e14\", \"\\u0e27\\u0e34\\u0e15\\u0e32\\u0e21\\u0e34\\u0e19\", \"\\u0e01\\u0e30\\u0e1b\\u0e23\\u0e34\\u0e14\\u0e01\\u0e30\\u0e1b\\u0e23\\u0e2d\\u0e22\", \"\\u0e18\\u0e23\\u0e23\\u0e21\\u0e0a\\u0e32\\u0e15\\u0e34\", \"\\u0e2d\\u0e32\\u0e40\\u0e08\\u0e35\\u0e22\\u0e19\", \"\\u0e40\\u0e2b\\u0e19\\u0e37\\u0e48\\u0e2d\\u0e22\", \"\\u0e15\\u0e49\\u0e2d\\u0e07\\u0e01\\u0e32\\u0e23\", \"\\u0e2a\\u0e38\\u0e02\\u0e20\\u0e32\\u0e1e\", \"\\u0e2d\\u0e31\\u0e19\\u0e15\\u0e23\\u0e32\\u0e22\", \"\\u0e01\\u0e33\\u0e40\\u0e19\\u0e34\\u0e14\", \"\\u0e22\\u0e35\\u0e48\\u0e2b\\u0e49\\u0e2d\", \"\\u0e40\\u0e1e\\u0e28\\u0e2a\\u0e31\\u0e21\\u0e1e\\u0e31\\u0e19\\u0e18\\u0e4c\", \"\\u0e23\\u0e1a\\u0e01\\u0e27\\u0e19\", \"\\u0e2a\\u0e31\\u0e21\\u0e1c\\u0e31\\u0e2a\", \"\\u0e2d\\u0e18\\u0e34\\u0e1a\\u0e32\\u0e22\", \"\\u0e40\\u0e08\\u0e47\\u0e1a\\u0e17\\u0e49\\u0e2d\\u0e07\", \"\\u0e40\\u0e1a\\u0e32\\u0e2b\\u0e27\\u0e32\\u0e19\", \"\\u0e22\\u0e35\\u0e48\\u0e2b\\u0e49\\u0e2d\", \"\\u0e18\\u0e23\\u0e23\\u0e21\\u0e14\\u0e32\", \"\\u0e2d\\u0e31\\u0e15\\u0e23\\u0e32\", \"\\u0e40\\u0e21\\u0e42\\u0e25\\u0e14\\u0e35\\u0e49\", \"\\u0e1c\\u0e48\\u0e32\\u0e04\\u0e25\\u0e2d\\u0e14\", \"\\u0e17\\u0e49\\u0e2d\\u0e07\\u0e17\\u0e35\\u0e48\", \"\\u0e2d\\u0e31\\u0e25\\u0e15\\u0e23\\u0e32\\u0e0b\\u0e32\\u0e27\\u0e19\\u0e14\\u0e4c\", \"\\u0e02\\u0e2d\\u0e07\\u0e41\\u0e02\\u0e47\\u0e07\", \"\\u0e1e\\u0e48\\u0e2d\\u0e41\\u0e21\\u0e48\", \"\\u0e1b\\u0e01\\u0e15\\u0e34\", \"\\u0e40\\u0e1e\\u0e2a\\u0e2a\\u0e31\\u0e21\\u0e1e\\u0e31\\u0e19\\u0e18\\u0e4c\", \"\\u0e2d\\u0e32\\u0e01\\u0e32\\u0e23\", \"\\u0e1b\\u0e23\\u0e30\\u0e21\\u0e32\\u0e13\", \"\\u0e41\\u0e1a\\u0e1a\\u0e41\\u0e1c\\u0e19\", \"\\u0e40\\u0e1e\\u0e28\\u0e2a\\u0e31\\u0e21\\u0e1e\\u0e31\\u0e19\", \"\\u0e2b\\u0e07\\u0e38\\u0e14\\u0e2b\\u0e07\\u0e34\\u0e14\", \"\\u0e04\\u0e25\\u0e32\\u0e14\\u0e40\\u0e04\\u0e25\\u0e37\\u0e48\\u0e2d\\u0e19\", \"\\u0e2d\\u0e31\\u0e01\\u0e40\\u0e2a\\u0e1a\", \"\\u0e09\\u0e38\\u0e01\\u0e40\\u0e09\\u0e34\\u0e19\", \"\\u0e0a\\u0e31\\u0e14\\u0e40\\u0e08\\u0e19\", \"\\u0e41\\u0e02\\u0e47\\u0e07\\u0e41\\u0e23\\u0e07\", \"\\u0e01\\u0e23\\u0e30\\u0e14\\u0e32\\u0e29\", \"\\u0e2b\\u0e19\\u0e49\\u0e32\\u0e2d\\u0e01\", \"\\u0e27\\u0e31\\u0e13\\u0e42\\u0e23\\u0e04\", \"\\u0e1b\\u0e23\\u0e30\\u0e08\\u0e33\", \"\\u0e1b\\u0e31\\u0e2a\\u0e2a\\u0e32\\u0e27\\u0e30\", \"\\u0e2b\\u0e25\\u0e48\\u0e2d\\u0e25\\u0e37\\u0e48\\u0e19\", \"\\u0e01\\u0e33\\u0e40\\u0e19\\u0e34\\u0e14\", \"\\u0e40\\u0e1e\\u0e28\\u0e2a\\u0e31\\u0e21\\u0e1e\\u0e31\\u0e19\\u0e18\\u0e4c\", \"\\u0e41\\u0e1b\\u0e49\\u0e07\\u0e21\\u0e31\\u0e19\", \"\\u0e1b\\u0e49\\u0e2d\\u0e07\\u0e01\\u0e31\\u0e19\", \"\\u0e15\\u0e34\\u0e14\\u0e15\\u0e48\\u0e2d\", \"\\u0e19\\u0e49\\u0e33\\u0e15\\u0e32\\u0e25\", \"\\u0e2a\\u0e2d\\u0e14\\u0e43\\u0e2a\\u0e48\"], \"Freq\": [1121.0, 805.0, 311.0, 375.0, 309.0, 1574.0, 173.0, 249.0, 137.0, 738.0, 204.0, 179.0, 113.0, 234.0, 206.0, 120.0, 126.0, 195.0, 153.0, 92.0, 192.0, 183.0, 87.0, 167.0, 214.0, 91.0, 89.0, 73.0, 79.0, 57.0, 134.25914747220145, 29.47826983474392, 732.1082739546853, 24.835437252567274, 9.141185684356591, 23.53266269324468, 9.58325974832384, 15.80900054161326, 18.533658043067593, 26.218786010559022, 262.40247616013113, 14.126018926168886, 4.720653863722458, 46.00349638340598, 4.82019939681962, 4.033731989733269, 4.7526634928488924, 3.389820806022317, 8.272108300964081, 5.9111977573282894, 2.62896160140613, 34.588183184693676, 4.43499773871838, 4.188488111847276, 4.459686638250708, 24.14841263295562, 3.061776704087487, 194.92572704559535, 1.733771750843732, 2.5030849027139355, 19.139877182365996, 6.996042611791977, 7.8493753724708695, 10.93061426051878, 5.897799228989964, 5.2050607880416075, 4.963464232210677, 4.543896867227389, 13.336096661163849, 28.1679260226538, 15.47647777130445, 206.46363841592662, 12.197797760687461, 21.82277917002839, 119.54012313702789, 37.20206087037191, 58.80536538448779, 28.86471889935275, 27.369086462240467, 22.75578306364979, 519.0039097797213, 64.64315758808964, 217.35574784066512, 5.663932372773747, 9.541301123430866, 3.0769582100014925, 6.417788310607842, 3.005139176221811, 2.6356111262050548, 3.561699516567174, 3.3743983385287772, 2.969647707561563, 10.419350141901646, 3.2840771338427364, 24.14833276383822, 3.548024221857959, 10.296253500273668, 12.637019758071284, 6.19760269736097, 19.76083275674754, 9.830466308646338, 4.921901797396906, 4.372228476443259, 10.033154471942007, 5.2038886682017225, 5.326869475434946, 18.40541450507725, 12.758432021994949, 566.3667551431013, 160.5976598322668, 22.89254572543765, 9.699366997367088, 29.80206888921628, 15.101240485377879, 8.704625251082268, 106.41958504148961, 8.897234567827564, 4.563369351031193, 5.008912694765037, 7.350068300721814, 10.134689550322443, 7.200907580971095, 5.336212203612386, 11.304741622787757, 7.744807733647315, 4.150270950007987, 6.59588707978604, 3.5058809310055024, 2.8428797242822172, 12.903854650396626, 1.6627595030440812, 8.464616988440413, 2.7205189772751113, 25.388623795522083, 11.746402422115697, 4.7599486701555955, 20.017442487620396, 36.06665140907499, 94.003891317297, 20.68029137989597, 11.597812963433391, 20.809980744743747, 23.961207474766454, 6.952409671327451, 31.983547854952736, 55.71728793619727, 307.0741322918238, 16.95614329534735, 15.61602838540199, 16.017252579203983, 15.175485651453007, 12.327174900958351, 21.64827346622465, 12.291922613742504, 21.709008976559833, 5.701667174595548, 7.921288708025053, 5.886914823939979, 7.854705244837526, 57.490270213400905, 21.854797515462014, 8.715661160739243, 2.5787226382669113, 130.60460646168798, 32.9835146501141, 14.692705543746543, 5.973528411353939, 4.221243967279219, 3.167866745583163, 157.4449843535872, 5.19830666138487, 92.85609251389992, 15.25579586111494, 4.4794136001370175, 10.320827648058449, 7.827757462097265, 6.335534635626692, 6.766333448133597, 8.23044907264001, 6.3707617801881025, 79.65006878215401, 101.39846064560149, 42.287219641701085, 24.866890037102422, 98.93266819164526, 17.215390413205533, 54.02069727909223, 119.45803880787246, 18.706526952258674, 36.18134617805907, 19.83398441732925, 5.758349135102597, 99.85527820922249, 9.886080769705616, 7.693505819463039, 4.741117274164856, 10.633584001482031, 34.34743566364078, 7.489400142250274, 5.5663875353506755, 9.213030840231315, 5.624906590332401, 7.79881582714759, 4.844219694261018, 6.114942556643844, 2.1561758186420685, 2.763921554092319, 1.9237860444637704, 79.59580643561308, 20.435144660973624, 34.115565467485794, 57.50456761869835, 9.02213159313704, 11.232306776516415, 7.735261804393435, 6.190454562698499, 15.49817192775473, 12.8805480601611, 22.231733919252083, 21.544451019024006, 62.03957063510162, 36.03238764620364, 115.12452701183612, 22.4812994329188, 17.33694493653614, 8.78431821820114, 6.362118147233916, 6.665314792838311, 7.484397333595078, 350.69380710077417, 2.9777348437036717, 3.686769628860481, 2.0626783383472875, 7.889794834668712, 8.815007867574822, 4.6781958530063905, 125.9687849181716, 2.5628258643605664, 2.938503373228722, 4.019912772524489, 14.827183308190694, 2.172238108927049, 18.423809414947723, 2.1180460151666707, 11.85026610769292, 3.203350330345504, 14.135784415295499, 17.327260485568694, 33.5032773171143, 20.175014300963834, 9.213588476744066, 5.402402490152067, 4.1855511755895405, 4.304730879582977, 160.42605504472505, 51.284692424219486, 27.516217912903844, 13.604296863017918, 12.265428920928601, 10.348306244152306, 51.34789452581353, 22.953157727948348, 34.58196137821365, 85.07260558058788, 42.21817974192146, 103.41617306702915, 14.676476892214763, 9.13679527644898, 12.709308094618534, 83.14366273727532, 10.409411281830593, 6.463087147872392, 4.766936777537113, 5.671476956285296, 2.852765031453166, 7.367194952280009, 4.012756710281342, 3.7815097095694745, 14.260244527030512, 4.2340063843781905, 3.9617317016926097, 2.711272704884062, 2.162327775537253, 1.6930047744616357, 15.08532116967365, 88.08057679835724, 13.218696333665934, 10.933300021413599, 12.918461201803693, 6.893316060501791, 7.951589015690855, 7.5869513872532615, 21.425337132842568, 115.59938643232853, 251.2369327733729, 13.787877940344606, 20.219297690129665, 53.26926200173608, 17.55937458453216, 25.07498498444952, 32.44235961628823, 6.279431508629577, 9.044440587598451, 20.509224165234016, 7.283330214836746, 15.692755768861916, 3.370635029911718, 4.361395791319163, 8.824072756756694, 16.60580465284253, 10.467927031155037, 6.151881307361096, 3.6883374831497724, 4.429135457604979, 2.8228719650497376, 6.708925191593621, 2.2046073124962695, 3.9673312186577943, 12.346004421601881, 3.181283111095803, 3.0914249127981113, 5.5128641791164394, 17.553807422509394, 4.641791611006879, 36.03650569328853, 39.9066491888561, 6.054386918566227, 7.720401328575538, 8.013690403853888, 5.416803184426354, 9.771243454441723, 7.8201127174085965, 33.13107124750533, 39.52809987252882, 94.22452084172559, 16.491564778920214, 15.237829849660496, 20.625423501226493, 37.28560541184022, 12.69105116827849, 58.780440742362856, 15.340343373954898, 55.251444308504695, 18.440717320023772, 17.920841719083793, 19.345333326565093, 19.176225347666495, 8.476582336853625, 9.82587769175878, 20.336557355633417, 13.162803219892545, 11.575396517587889, 13.399473665653439, 23.797404700359802, 7.48987512823344, 6.275954406327936, 8.927374186649361, 4.098063219551845, 8.510692797068668, 31.38042278899694, 11.030969149914371, 4.6304994636483, 12.235936613566937, 34.186974229889735, 59.65416929063329, 16.521255048886026, 26.275700790153614, 13.26546653207716, 30.759110909072795, 14.47901905364299, 29.42224281777306, 39.238830794301535, 218.81570666153976, 36.26128466269424, 19.655628957396594, 16.87252942529416, 9.809342436645004, 16.421488283472204, 19.987522443038603, 6.197722409903074, 4.8030989450699835, 3.330408401336379, 5.012200795833065, 3.5465456681842675, 2.695340443894445, 9.18353328000602, 25.041005299344956, 2.9113846278633018, 2.7278956898924136, 7.897050911850805, 110.451638391172, 1.5287976237117842, 3.3373617316755415, 1.644378084749083, 3.868930953748283, 1.3253626350588819, 2.608558333161528, 10.74082241436293, 7.836936653205776, 28.79282974342101, 46.29247384218919, 7.602130574167907, 14.614365487303079, 4.386956027789731, 4.955351900294668, 3.4836393159230448], \"Total\": [1121.0, 805.0, 311.0, 375.0, 309.0, 1574.0, 173.0, 249.0, 137.0, 738.0, 204.0, 179.0, 113.0, 234.0, 206.0, 120.0, 126.0, 195.0, 153.0, 92.0, 192.0, 183.0, 87.0, 167.0, 214.0, 91.0, 89.0, 73.0, 79.0, 57.0, 183.7673494452167, 45.15030191962145, 1121.9483785579896, 40.807067816856446, 15.023352180710358, 44.505062242366606, 22.089766693976173, 37.764560705304575, 47.77260983334873, 69.21069538767019, 738.8151035257472, 54.69878506547942, 19.23517250624947, 214.11202648152283, 24.163616089464295, 20.54994292369047, 25.058844100060462, 18.632667218214767, 46.77394780331864, 35.23813271745097, 15.865770700606284, 234.74066193241075, 30.49289239937844, 29.039349173382828, 31.64704887114716, 179.61012099103513, 24.328864025225343, 1574.1322878352296, 14.41138818857494, 24.351404436804472, 192.70995435324446, 75.79652824458455, 126.9906343421942, 309.08200274358353, 249.06030998723125, 375.8570468913945, 805.5813796620685, 206.12514741429237, 14.8132044399515, 31.360846573209635, 18.267387135627697, 249.06030998723125, 15.715493882602724, 30.49289239937844, 167.47804883756976, 57.389807104189025, 105.55856562451666, 60.86046359311643, 63.39336040608669, 58.044238146914935, 1574.1322878352296, 204.89518324439982, 738.8151035257472, 19.26158401329201, 40.031573441036336, 14.41138818857494, 31.52409283976485, 15.77800576579203, 15.023352180710358, 21.459752405207784, 23.86191392590584, 21.416738873240057, 79.74579186432548, 25.321764550028483, 195.37093623898252, 30.591415557957024, 91.28654876759579, 137.81223261742116, 87.34864755772226, 1121.9483785579896, 309.08200274358353, 69.21069538767019, 54.016310563741186, 805.5813796620685, 192.70995435324446, 375.8570468913945, 20.918121432247162, 17.763983529331846, 805.5813796620685, 234.74066193241075, 34.366711276009795, 15.06241853980793, 46.77394780331864, 24.328864025225343, 16.699874609316993, 214.11202648152283, 22.25538448276517, 13.76387927218819, 17.913740587218143, 27.208823143676955, 41.32462372450247, 30.591415557957024, 24.898860634353454, 58.044238146914935, 40.807067816856446, 24.064960355302983, 38.556972829935646, 22.089766693976173, 18.500480819883016, 91.28654876759579, 11.81334729363495, 63.39336040608669, 20.54994292369047, 192.70995435324446, 105.55856562451666, 45.15030191962145, 195.37093623898252, 375.8570468913945, 1574.1322878352296, 309.08200274358353, 167.47804883756976, 738.8151035257472, 1121.9483785579896, 92.19276729372538, 34.68979044796062, 67.41949293406303, 375.8570468913945, 20.992534418507365, 20.005518862404248, 23.86191392590584, 24.898860634353454, 21.651061958306432, 41.32462372450247, 24.163616089464295, 48.72533645128252, 13.76387927218819, 22.089766693976173, 19.26158401329201, 28.079083272069063, 206.12514741429237, 79.02709475761601, 33.945860119024275, 11.81334729363495, 738.8151035257472, 195.37093623898252, 105.55856562451666, 44.505062242366606, 37.8494693145483, 29.552826236278705, 1574.1322878352296, 60.86046359311643, 1121.9483785579896, 192.70995435324446, 58.044238146914935, 167.47804883756976, 179.61012099103513, 153.31953216594806, 249.06030998723125, 805.5813796620685, 234.74066193241075, 92.19276729372538, 120.47108800197579, 50.54659266792966, 31.874098424435502, 126.9906343421942, 24.11402197523411, 75.79652824458455, 179.61012099103513, 29.039349173382828, 58.019514854256315, 35.23813271745097, 11.81334729363495, 206.12514741429237, 27.208823143676955, 23.88652044443205, 18.632667218214767, 48.72533645128252, 192.70995435324446, 44.505062242366606, 35.155205955648015, 60.86046359311643, 37.8494693145483, 58.044238146914935, 38.556972829935646, 50.75626218912706, 18.614570650351833, 25.321764550028483, 18.001251734781746, 805.5813796620685, 214.11202648152283, 738.8151035257472, 1574.1322878352296, 234.74066193241075, 1121.9483785579896, 309.08200274358353, 153.31953216594806, 17.467760959195918, 18.01543742777104, 31.64704887114716, 30.84650205111341, 89.04789764639258, 54.69878506547942, 204.89518324439982, 40.031573441036336, 37.8494693145483, 24.351404436804472, 18.632667218214767, 20.54994292369047, 31.52409283976485, 1574.1322878352296, 17.763983529331846, 23.88652044443205, 13.76387927218819, 58.044238146914935, 67.41949293406303, 40.807067816856446, 1121.9483785579896, 24.11402197523411, 27.964556646586665, 38.41942553249764, 153.31953216594806, 24.898860634353454, 214.11202648152283, 27.208823143676955, 183.7673494452167, 50.54659266792966, 249.06030998723125, 311.2135791359472, 805.5813796620685, 738.8151035257472, 309.08200274358353, 105.55856562451666, 73.09854487796127, 375.8570468913945, 173.5518357990568, 57.87730750225232, 32.51548799987338, 18.614570650351833, 18.500480819883016, 15.865770700606284, 79.02709475761601, 35.692016888886926, 54.016310563741186, 153.31953216594806, 79.74579186432548, 195.37093623898252, 27.964556646586665, 17.913740587218143, 25.058844100060462, 192.70995435324446, 26.0908609385525, 21.651061958306432, 20.127240449649104, 27.208823143676955, 18.01543742777104, 54.97454101188104, 33.945860119024275, 33.282691493802474, 126.9906343421942, 38.41942553249764, 37.764560705304575, 29.039349173382828, 24.064960355302983, 20.54994292369047, 183.7673494452167, 1574.1322878352296, 214.11202648152283, 206.12514741429237, 309.08200274358353, 105.55856562451666, 249.06030998723125, 234.74066193241075, 24.86461522082246, 137.81223261742116, 311.2135791359472, 17.697385565045177, 27.539148412881534, 73.09854487796127, 25.321764550028483, 38.41942553249764, 50.75626218912706, 14.41138818857494, 26.0908609385525, 63.39336040608669, 24.351404436804472, 60.86046359311643, 15.06241853980793, 22.25538448276517, 45.15030191962145, 89.04789764639258, 57.389807104189025, 35.23813271745097, 25.058844100060462, 30.84650205111341, 20.127240449649104, 54.28599050587251, 17.913740587218143, 34.366711276009795, 113.4640801644463, 29.98475932662243, 29.552826236278705, 52.78481832072853, 179.61012099103513, 47.77260983334873, 738.8151035257472, 1574.1322878352296, 79.74579186432548, 153.31953216594806, 234.74066193241075, 75.79652824458455, 805.5813796620685, 375.8570468913945, 37.146185371829105, 46.384386804667024, 113.4640801644463, 21.416738873240057, 21.459752405207784, 29.552826236278705, 54.97454101188104, 19.23517250624947, 91.28654876759579, 24.064960355302983, 87.34864755772226, 30.591415557957024, 29.98475932662243, 33.282691493802474, 35.155205955648015, 15.77800576579203, 20.127240449649104, 47.77260983334873, 31.52409283976485, 28.079083272069063, 37.764560705304575, 69.21069538767019, 22.25538448276517, 19.26158401329201, 27.964556646586665, 16.699874609316993, 37.8494693145483, 153.31953216594806, 54.016310563741186, 24.163616089464295, 79.74579186432548, 311.2135791359472, 805.5813796620685, 309.08200274358353, 1574.1322878352296, 15.694614835845762, 37.8375457363403, 18.001251734781746, 37.384868302875304, 54.28599050587251, 309.08200274358353, 52.78481832072853, 38.556972829935646, 33.945860119024275, 23.88652044443205, 58.019514854256315, 87.34864755772226, 29.98475932662243, 26.0908609385525, 18.632667218214767, 28.079083272069063, 20.54994292369047, 18.500480819883016, 69.21069538767019, 206.12514741429237, 24.328864025225343, 23.86191392590584, 73.09854487796127, 1121.9483785579896, 15.77800576579203, 35.155205955648015, 17.697385565045177, 48.72533645128252, 18.614570650351833, 37.764560705304575, 167.47804883756976, 120.47108800197579, 805.5813796620685, 1574.1322878352296, 183.7673494452167, 738.8151035257472, 105.55856562451666, 204.89518324439982, 234.74066193241075], \"Category\": [\"Default\", \"Default\", \"Default\", \"Default\", \"Default\", \"Default\", \"Default\", \"Default\", \"Default\", \"Default\", \"Default\", \"Default\", \"Default\", \"Default\", \"Default\", \"Default\", \"Default\", \"Default\", \"Default\", \"Default\", \"Default\", \"Default\", \"Default\", \"Default\", \"Default\", \"Default\", \"Default\", \"Default\", \"Default\", \"Default\", \"Topic1\", \"Topic1\", \"Topic1\", \"Topic1\", \"Topic1\", \"Topic1\", \"Topic1\", \"Topic1\", \"Topic1\", \"Topic1\", \"Topic1\", \"Topic1\", \"Topic1\", \"Topic1\", \"Topic1\", \"Topic1\", \"Topic1\", \"Topic1\", \"Topic1\", \"Topic1\", \"Topic1\", \"Topic1\", \"Topic1\", \"Topic1\", \"Topic1\", \"Topic1\", \"Topic1\", \"Topic1\", \"Topic1\", \"Topic1\", \"Topic1\", \"Topic1\", \"Topic1\", \"Topic1\", \"Topic1\", \"Topic1\", \"Topic1\", \"Topic1\", \"Topic2\", \"Topic2\", \"Topic2\", \"Topic2\", \"Topic2\", \"Topic2\", \"Topic2\", \"Topic2\", \"Topic2\", \"Topic2\", \"Topic2\", \"Topic2\", \"Topic2\", \"Topic2\", \"Topic2\", \"Topic2\", \"Topic2\", \"Topic2\", \"Topic2\", \"Topic2\", \"Topic2\", \"Topic2\", \"Topic2\", \"Topic2\", \"Topic2\", \"Topic2\", \"Topic2\", \"Topic2\", \"Topic2\", \"Topic2\", \"Topic2\", \"Topic2\", \"Topic2\", \"Topic2\", \"Topic2\", \"Topic2\", \"Topic2\", \"Topic2\", \"Topic3\", \"Topic3\", \"Topic3\", \"Topic3\", \"Topic3\", \"Topic3\", \"Topic3\", \"Topic3\", \"Topic3\", \"Topic3\", \"Topic3\", \"Topic3\", \"Topic3\", \"Topic3\", \"Topic3\", \"Topic3\", \"Topic3\", \"Topic3\", \"Topic3\", \"Topic3\", \"Topic3\", \"Topic3\", \"Topic3\", \"Topic3\", \"Topic3\", \"Topic3\", \"Topic3\", \"Topic3\", \"Topic3\", \"Topic3\", \"Topic3\", \"Topic3\", \"Topic3\", \"Topic3\", \"Topic3\", \"Topic3\", \"Topic3\", \"Topic3\", \"Topic4\", \"Topic4\", \"Topic4\", \"Topic4\", \"Topic4\", \"Topic4\", \"Topic4\", \"Topic4\", \"Topic4\", \"Topic4\", \"Topic4\", \"Topic4\", \"Topic4\", \"Topic4\", \"Topic4\", \"Topic4\", \"Topic4\", \"Topic4\", \"Topic4\", \"Topic4\", \"Topic4\", \"Topic4\", \"Topic4\", \"Topic4\", \"Topic4\", \"Topic4\", \"Topic4\", \"Topic4\", \"Topic4\", \"Topic4\", \"Topic4\", \"Topic4\", \"Topic4\", \"Topic4\", \"Topic4\", \"Topic4\", \"Topic5\", \"Topic5\", \"Topic5\", \"Topic5\", \"Topic5\", \"Topic5\", \"Topic5\", \"Topic5\", \"Topic5\", \"Topic5\", \"Topic5\", \"Topic5\", \"Topic5\", \"Topic5\", \"Topic5\", \"Topic5\", \"Topic5\", \"Topic5\", \"Topic5\", \"Topic5\", \"Topic5\", \"Topic5\", \"Topic5\", \"Topic5\", \"Topic5\", \"Topic5\", \"Topic5\", \"Topic5\", \"Topic5\", \"Topic5\", \"Topic5\", \"Topic5\", \"Topic5\", \"Topic5\", \"Topic5\", \"Topic5\", \"Topic6\", \"Topic6\", \"Topic6\", \"Topic6\", \"Topic6\", \"Topic6\", \"Topic6\", \"Topic6\", \"Topic6\", \"Topic6\", \"Topic6\", \"Topic6\", \"Topic6\", \"Topic6\", \"Topic6\", \"Topic6\", \"Topic6\", \"Topic6\", \"Topic6\", \"Topic6\", \"Topic6\", \"Topic6\", \"Topic6\", \"Topic6\", \"Topic6\", \"Topic6\", \"Topic6\", \"Topic6\", \"Topic6\", \"Topic6\", \"Topic6\", \"Topic6\", \"Topic6\", \"Topic6\", \"Topic6\", \"Topic6\", \"Topic6\", \"Topic6\", \"Topic7\", \"Topic7\", \"Topic7\", \"Topic7\", \"Topic7\", \"Topic7\", \"Topic7\", \"Topic7\", \"Topic7\", \"Topic7\", \"Topic7\", \"Topic7\", \"Topic7\", \"Topic7\", \"Topic7\", \"Topic7\", \"Topic7\", \"Topic7\", \"Topic7\", \"Topic7\", \"Topic7\", \"Topic7\", \"Topic7\", \"Topic7\", \"Topic7\", \"Topic7\", \"Topic7\", \"Topic7\", \"Topic7\", \"Topic7\", \"Topic7\", \"Topic7\", \"Topic7\", \"Topic7\", \"Topic7\", \"Topic7\", \"Topic7\", \"Topic7\", \"Topic8\", \"Topic8\", \"Topic8\", \"Topic8\", \"Topic8\", \"Topic8\", \"Topic8\", \"Topic8\", \"Topic8\", \"Topic8\", \"Topic8\", \"Topic8\", \"Topic8\", \"Topic8\", \"Topic8\", \"Topic8\", \"Topic8\", \"Topic8\", \"Topic8\", \"Topic8\", \"Topic8\", \"Topic8\", \"Topic8\", \"Topic8\", \"Topic8\", \"Topic8\", \"Topic8\", \"Topic8\", \"Topic8\", \"Topic8\", \"Topic8\", \"Topic8\", \"Topic8\", \"Topic8\", \"Topic8\", \"Topic8\", \"Topic8\", \"Topic8\", \"Topic8\", \"Topic8\", \"Topic9\", \"Topic9\", \"Topic9\", \"Topic9\", \"Topic9\", \"Topic9\", \"Topic9\", \"Topic9\", \"Topic9\", \"Topic9\", \"Topic9\", \"Topic9\", \"Topic9\", \"Topic9\", \"Topic9\", \"Topic9\", \"Topic9\", \"Topic9\", \"Topic9\", \"Topic9\", \"Topic9\", \"Topic9\", \"Topic9\", \"Topic9\", \"Topic9\", \"Topic9\", \"Topic9\", \"Topic9\", \"Topic9\", \"Topic9\", \"Topic9\", \"Topic9\", \"Topic9\", \"Topic9\", \"Topic9\", \"Topic10\", \"Topic10\", \"Topic10\", \"Topic10\", \"Topic10\", \"Topic10\", \"Topic10\", \"Topic10\", \"Topic10\", \"Topic10\", \"Topic10\", \"Topic10\", \"Topic10\", \"Topic10\", \"Topic10\", \"Topic10\", \"Topic10\", \"Topic10\", \"Topic10\", \"Topic10\", \"Topic10\", \"Topic10\", \"Topic10\", \"Topic10\", \"Topic10\", \"Topic10\", \"Topic10\", \"Topic10\", \"Topic10\", \"Topic10\", \"Topic10\", \"Topic10\", \"Topic10\", \"Topic10\", \"Topic10\", \"Topic10\", \"Topic10\", \"Topic10\", \"Topic10\"], \"logprob\": [30.0, 29.0, 28.0, 27.0, 26.0, 25.0, 24.0, 23.0, 22.0, 21.0, 20.0, 19.0, 18.0, 17.0, 16.0, 15.0, 14.0, 13.0, 12.0, 11.0, 10.0, 9.0, 8.0, 7.0, 6.0, 5.0, 4.0, 3.0, 2.0, 1.0, -2.5882999897003174, -4.104400157928467, -0.8920999765396118, -4.2758002281188965, -5.275300025939941, -4.329699993133545, -5.228000164031982, -4.727499961853027, -4.56850004196167, -4.22160005569458, -1.9182000160217285, -4.840000152587891, -5.936100006103516, -3.6593000888824463, -5.915299892425537, -6.093400001525879, -5.9293999671936035, -6.267300128936768, -5.375199794769287, -5.71120023727417, -6.521500110626221, -3.9446001052856445, -5.998499870300293, -6.055699825286865, -5.993000030517578, -4.303800106048584, -6.369100093841553, -2.215399980545044, -6.93779993057251, -6.570499897003174, -4.536300182342529, -5.542699813842773, -5.427599906921387, -5.096499919891357, -5.713500022888184, -5.838399887084961, -5.886000156402588, -5.974299907684326, -4.806600093841553, -4.058899879455566, -4.657700061798096, -2.0669000148773193, -4.8958001136779785, -4.3140997886657715, -2.6133999824523926, -3.7806999683380127, -3.3227999210357666, -4.03439998626709, -4.087600231170654, -4.272200107574463, -1.1450999975204468, -3.2281999588012695, -2.015500068664551, -5.662899971008301, -5.14139986038208, -6.273099899291992, -5.538000106811523, -6.2967000007629395, -6.4278998374938965, -6.126800060272217, -6.180799961090088, -6.308599948883057, -5.053400039672852, -6.208000183105469, -4.212800025939941, -6.13070011138916, -5.065299987792969, -4.860400199890137, -5.57289981842041, -4.413300037384033, -5.111599922180176, -5.803400039672852, -5.921800136566162, -5.09119987487793, -5.747600078582764, -5.724299907684326, -4.33650016784668, -4.702899932861328, -0.9099000096321106, -2.1702001094818115, -4.118299961090088, -4.9770002365112305, -3.8545000553131104, -4.534299850463867, -5.085299968719482, -2.581700086593628, -5.063399791717529, -5.730999946594238, -5.637899875640869, -5.25439977645874, -4.93310022354126, -5.274899959564209, -5.5746002197265625, -4.82390022277832, -5.202099800109863, -5.825900077819824, -5.36269998550415, -5.994699954986572, -6.2042999267578125, -4.6915998458862305, -6.740600109100342, -5.1132001876831055, -6.248300075531006, -4.014800071716309, -4.785600185394287, -5.688899993896484, -4.252500057220459, -3.6637001037597656, -2.7058000564575195, -4.219900131225586, -4.798299789428711, -4.213699817657471, -4.072700023651123, -5.309999942779541, -3.647200107574463, -3.092099905014038, -1.3853000402450562, -4.281799793243408, -4.364099979400635, -4.338799953460693, -4.3927001953125, -4.600599765777588, -4.037499904632568, -4.603499889373779, -4.0346999168396, -5.371699810028076, -5.042900085449219, -5.339700222015381, -5.051300048828125, -3.060800075531006, -4.0279998779296875, -4.947299957275391, -6.16510009765625, -2.240299940109253, -3.6164000034332275, -4.425099849700928, -5.325099945068359, -5.672299861907959, -5.959400177001953, -2.0534000396728516, -5.464099884033203, -2.581399917602539, -4.387499809265137, -5.6128997802734375, -4.778299808502197, -5.054800033569336, -5.266300201416016, -5.200500011444092, -5.0046000480651855, -5.260700225830078, -2.642899990081787, -2.4014999866485596, -3.276099920272827, -3.806999921798706, -2.426100015640259, -4.174799919128418, -3.0311999320983887, -2.237600088119507, -4.091700077056885, -3.431999921798706, -4.033199787139893, -5.269899845123291, -2.416800022125244, -4.729400157928467, -4.980199813842773, -5.464300155639648, -4.656599998474121, -3.4839999675750732, -5.0071001052856445, -5.303800106048584, -4.800000190734863, -5.293399810791016, -4.966599941253662, -5.442800045013428, -5.209799766540527, -6.252200126647949, -6.003900051116943, -6.366300106048584, -2.6435999870300293, -4.003300189971924, -3.490799903869629, -2.9686999320983887, -4.820899963378906, -4.601799964904785, -4.974800109863281, -5.1975998878479, -4.248199939727783, -4.433199882507324, -3.887399911880493, -3.918800115585327, -2.8610999584198, -3.4045000076293945, -2.2428998947143555, -3.876199960708618, -4.136099815368652, -4.815899848937988, -5.138599872589111, -5.0920000076293945, -4.976099967956543, -1.128999948501587, -5.897799968719482, -5.684199810028076, -6.264900207519531, -4.923299789428711, -4.8125, -5.446000099182129, -2.152899980545044, -6.047800064086914, -5.910999774932861, -5.597700119018555, -4.292500019073486, -6.213200092315674, -4.075300216674805, -6.238399982452393, -4.516600131988525, -5.824699878692627, -4.340199947357178, -4.136600017547607, -3.477299928665161, -3.984499931335449, -4.768199920654297, -5.30210018157959, -5.557300090789795, -5.529200077056885, -1.867799997329712, -3.00819993019104, -3.6308999061584473, -4.335299968719482, -4.438899993896484, -4.608799934387207, -3.006999969482422, -3.8122000694274902, -3.4022998809814453, -2.5020999908447266, -3.2028000354766846, -2.3069000244140625, -4.259399890899658, -4.73330020904541, -4.403299808502197, -2.525099992752075, -4.60290002822876, -5.079500198364258, -5.383900165557861, -5.21019983291626, -5.897299766540527, -4.948599815368652, -5.55620002746582, -5.615499973297119, -4.2881999015808105, -5.502500057220459, -5.568999767303467, -5.948200225830078, -6.174499988555908, -6.419099807739258, -4.231900215148926, -2.467400074005127, -4.363999843597412, -4.553800106048584, -4.38700008392334, -5.015100002288818, -4.872300148010254, -4.9191999435424805, -3.760999917984009, -2.0754001140594482, -1.2991000413894653, -4.201700210571289, -3.8189001083374023, -2.8501999378204346, -3.95989990234375, -3.6036999225616455, -3.346100091934204, -4.9882001876831055, -4.6234002113342285, -3.8046998977661133, -4.839900016784668, -4.072299957275391, -5.610400199890137, -5.352700233459473, -4.6479997634887695, -4.0157999992370605, -4.477200031280518, -5.008800029754639, -5.520400047302246, -5.337299823760986, -5.787799835205078, -4.922100067138672, -6.034999847412109, -5.447400093078613, -4.31220006942749, -5.6682000160217285, -5.696899890899658, -5.1184000968933105, -3.9602999687194824, -5.29040002822876, -3.240999937057495, -3.1389999389648438, -5.024700164794922, -4.781700134277344, -4.7444000244140625, -5.136000156402588, -4.54610013961792, -4.768799781799316, -3.321899890899658, -3.145400047302246, -2.276700019836426, -4.019599914550781, -4.098599910736084, -3.7959001064300537, -3.2037999629974365, -4.281499862670898, -2.7486000061035156, -4.091899871826172, -2.810499906539917, -3.9077999591827393, -3.9363999366760254, -3.859999895095825, -3.8687000274658203, -4.685100078582764, -4.537399768829346, -3.809999942779541, -4.244999885559082, -4.373499870300293, -4.227200031280518, -3.6528000831604004, -4.808899879455566, -4.9857001304626465, -4.633299827575684, -5.411900043487549, -4.681099891662598, -3.376199960708618, -4.4217000007629395, -5.289700031280518, -4.317999839782715, -3.290600061416626, -2.733799934387207, -4.0177998542785645, -3.553800106048584, -4.152299880981445, -3.311300039291382, -4.064799785614014, -3.3557000160217285, -3.0678000450134277, -1.3493000268936157, -3.146699905395508, -3.7590999603271484, -3.911799907684326, -4.454100131988525, -3.9388999938964844, -3.7423999309539795, -4.913300037384033, -5.1682000160217285, -5.53439998626709, -5.1255998611450195, -5.471499919891357, -5.745999813079834, -4.520100116729736, -3.5169999599456787, -5.668900012969971, -5.734000205993652, -4.671000003814697, -2.032900094985962, -6.313000202178955, -5.532299995422363, -6.240099906921387, -5.384500026702881, -6.4558000564575195, -5.77869987487793, -4.363399982452393, -4.678599834442139, -3.3773999214172363, -2.9024999141693115, -4.709099769592285, -4.055500030517578, -5.258800029754639, -5.13700008392334, -5.4893999099731445], \"loglift\": [30.0, 29.0, 28.0, 27.0, 26.0, 25.0, 24.0, 23.0, 22.0, 21.0, 20.0, 19.0, 18.0, 17.0, 16.0, 15.0, 14.0, 13.0, 12.0, 11.0, 10.0, 9.0, 8.0, 7.0, 6.0, 5.0, 4.0, 3.0, 2.0, 1.0, 1.5888, 1.4763, 1.4758, 1.4061, 1.4059, 1.2655, 1.0676, 1.0319, 0.9558, 0.932, 0.8675, 0.5489, 0.4979, 0.3649, 0.2906, 0.2745, 0.2402, 0.1985, 0.1702, 0.1174, 0.1051, -0.0123, -0.0253, -0.0336, -0.0569, -0.1039, -0.17, -0.1862, -0.215, -0.3724, -0.4067, -0.48, -0.881, -1.4394, -1.8404, -2.3769, -3.1868, -1.912, 1.8886, 1.8863, 1.8279, 1.8061, 1.7403, 1.6592, 1.6565, 1.5602, 1.4087, 1.2477, 1.1537, 1.0573, 0.8841, 0.8401, 0.7702, 0.7697, 0.5597, 0.4496, 0.402, 0.3354, 0.2532, 0.1978, 0.0376, 0.018, -0.0415, -0.0489, -0.097, -0.1606, -0.1885, -0.3956, -0.6521, -2.0454, -1.4544, -0.6498, -0.5203, -2.392, -1.6181, -2.2628, 2.0137, 1.8107, 1.7893, 1.7621, 1.7354, 1.7015, 1.6909, 1.6647, 1.4901, 1.4425, 1.2248, 1.0376, 0.8673, 0.8328, 0.7361, 0.6951, 0.6013, 0.5057, 0.4798, 0.3841, 0.3759, 0.301, 0.2687, 0.1852, 0.1809, 0.1282, 0.1196, 0.1147, -0.0541, -0.1081, -0.1367, -0.2022, -0.6765, -0.5628, -0.5284, -1.428, -1.7048, -0.4432, 2.1971, 2.0877, 2.0762, 2.0648, 2.0306, 1.8797, 1.7832, 1.7151, 1.6318, 1.6024, 1.4698, 1.397, 1.2528, 1.0929, 1.0044, 1.0014, 0.9929, 0.9187, 0.7564, 0.5454, 0.4994, 0.3064, 0.2701, 0.0848, 0.0452, -0.0241, -0.1819, -0.2135, -0.2579, -0.2834, -0.5084, -0.8548, -0.908, -1.3274, -2.3054, -1.3284, 2.2239, 2.1978, 2.1918, 2.1219, 2.1205, 2.0332, 2.0315, 1.9624, 1.9304, 1.8979, 1.7954, 1.6516, 1.6454, 1.3578, 1.2372, 1.0015, 0.848, 0.6455, 0.5881, 0.5271, 0.4822, 0.4638, 0.3629, 0.2958, 0.2539, 0.2146, 0.1552, 0.134, 0.0556, 0.0209, -0.7051, -0.9394, -0.8886, -2.2339, -1.3176, -0.8393, 2.2822, 2.0663, 2.0487, 2.0429, 2.0404, 1.9844, 1.8253, 1.8248, 1.6211, 1.3822, 1.3273, 1.2759, 0.9639, 0.9003, 0.6158, 0.5333, 0.5038, 0.4062, 0.3674, 0.2359, 0.215, 0.1601, 0.1488, 0.1445, 0.0658, -0.0372, -0.051, -0.1512, -0.3395, -0.3569, -0.4672, -0.4864, -0.7781, -1.1988, -1.1111, -0.5706, -0.4583, -2.0677, 2.3665, 2.3242, 2.2782, 2.1315, 2.0341, 2.0178, 2.0139, 2.0036, 1.9992, 1.8561, 1.8091, 1.809, 1.8004, 1.7718, 1.7662, 1.6045, 1.5262, 1.2362, 1.0047, 0.877, 0.6022, 0.4353, 0.3098, 0.2702, 0.2585, 0.2397, 0.1904, 0.0739, 0.0355, -0.0512, -0.0548, -0.4381, -0.3398, -0.4916, -0.7298, -0.2836, -0.9992, -0.9869, 2.4163, 2.3895, 2.3511, 2.3156, 2.2562, 2.2488, 2.1991, 2.1385, 2.1176, 1.7345, 1.5058, 1.4367, 1.3582, 1.2098, 1.0681, 0.9354, 0.9327, 0.8858, 0.8637, 0.8198, 0.6492, 0.6244, 0.6009, 0.4744, 0.4702, 0.4062, 0.3471, 0.3218, 0.3077, 0.3061, 0.2397, 0.2339, -0.4553, -1.1097, -0.0128, -0.4234, -0.8121, -0.0733, -1.8469, -1.3073, 2.4539, 2.4084, 2.3825, 2.307, 2.2259, 2.2087, 2.1801, 2.1525, 2.1281, 2.1181, 2.1103, 2.0622, 2.0536, 2.0257, 1.9622, 1.947, 1.8513, 1.7143, 1.695, 1.6822, 1.5322, 1.5008, 1.4793, 1.4469, 1.4265, 1.1634, 1.076, 0.982, 0.9798, 0.9162, 0.6939, 0.3597, -0.0347, -0.3606, -1.5245, 2.4851, 2.4461, 2.4355, 2.4137, 2.3287, 2.3079, 2.2778, 1.9795, 1.9542, 1.7633, 1.3911, 1.1785, 1.0768, 0.9609, 0.9314, 0.9301, 0.8964, 0.727, 0.6335, 0.5453, 0.5302, 0.4845, 0.4279, 0.335, 0.3191, 0.2987, 0.2772, 0.12, 0.011, -0.0193, -0.0935, -0.0793, -0.6782, -0.8732, -0.532, -1.2698, -0.5274, -1.0688, -1.5571]}, \"token.table\": {\"Topic\": [2, 8, 10, 2, 9, 2, 3, 4, 6, 7, 9, 1, 2, 3, 4, 7, 8, 9, 10, 2, 3, 9, 1, 2, 3, 4, 5, 6, 7, 8, 9, 10, 2, 6, 8, 9, 10, 1, 3, 7, 8, 2, 3, 4, 6, 8, 10, 1, 5, 6, 7, 8, 2, 4, 9, 10, 2, 3, 4, 5, 6, 8, 9, 1, 2, 3, 5, 6, 7, 8, 9, 4, 8, 1, 3, 5, 10, 1, 3, 6, 1, 2, 3, 4, 5, 6, 7, 8, 10, 1, 2, 7, 9, 10, 2, 4, 9, 1, 2, 5, 6, 8, 9, 10, 1, 3, 4, 6, 3, 4, 8, 9, 1, 3, 4, 5, 8, 9, 1, 3, 4, 6, 7, 8, 1, 3, 6, 7, 2, 3, 10, 2, 3, 4, 6, 7, 8, 10, 1, 4, 7, 9, 2, 8, 3, 6, 7, 8, 1, 2, 3, 5, 6, 9, 1, 2, 4, 6, 1, 5, 6, 9, 10, 1, 4, 5, 8, 9, 3, 4, 5, 9, 1, 4, 5, 6, 1, 4, 5, 6, 7, 9, 1, 2, 3, 4, 8, 9, 10, 1, 2, 4, 6, 7, 8, 9, 1, 3, 4, 7, 8, 1, 2, 3, 4, 5, 6, 7, 8, 9, 10, 2, 3, 6, 8, 9, 1, 5, 6, 10, 1, 9, 2, 3, 5, 6, 7, 8, 1, 4, 7, 9, 10, 3, 7, 10, 1, 2, 3, 4, 5, 6, 7, 9, 1, 3, 6, 7, 8, 1, 3, 5, 6, 7, 9, 2, 3, 4, 5, 6, 7, 8, 9, 10, 1, 2, 3, 4, 5, 6, 7, 8, 9, 10, 2, 6, 7, 2, 5, 6, 7, 10, 1, 2, 4, 6, 7, 8, 10, 7, 8, 9, 10, 1, 2, 3, 4, 6, 7, 8, 1, 2, 3, 4, 5, 6, 7, 8, 9, 10, 1, 2, 10, 1, 2, 3, 6, 7, 8, 1, 3, 4, 1, 3, 4, 5, 7, 9, 10, 3, 5, 6, 7, 8, 9, 3, 4, 6, 9, 1, 3, 4, 8, 9, 2, 5, 7, 10, 6, 7, 8, 9, 1, 2, 3, 5, 9, 10, 1, 2, 3, 4, 5, 6, 7, 8, 9, 10, 2, 7, 8, 9, 2, 3, 5, 7, 8, 10, 1, 2, 3, 4, 5, 6, 7, 8, 10, 1, 2, 3, 4, 5, 6, 7, 8, 9, 1, 2, 3, 4, 5, 6, 7, 10, 1, 2, 3, 4, 5, 6, 7, 8, 9, 10, 2, 4, 5, 7, 8, 9, 10, 1, 2, 3, 5, 6, 7, 8, 9, 1, 3, 8, 10, 2, 4, 5, 8, 9, 1, 2, 3, 4, 5, 6, 8, 9, 10, 6, 4, 6, 9, 1, 3, 4, 5, 7, 9, 10, 1, 2, 7, 1, 4, 6, 7, 5, 9, 10, 1, 2, 3, 4, 5, 6, 7, 8, 9, 10, 1, 4, 5, 6, 8, 2, 5, 6, 8, 9, 10, 2, 3, 5, 9, 10, 1, 2, 3, 6, 7, 8, 9, 10, 2, 3, 4, 9, 10, 1, 3, 5, 6, 7, 10, 4, 7, 8, 9, 10, 1, 2, 4, 5, 6, 7, 8, 9, 1, 9, 1, 2, 3, 4, 7, 8, 9, 10, 5, 6, 9, 3, 4, 6, 8, 1, 2, 3, 4, 5, 6, 7, 8, 9, 10, 2, 5, 6, 7, 10, 1, 2, 7, 9, 10, 1, 4, 7, 8, 3, 4, 5, 9, 10, 2, 4, 5, 8, 3, 8, 3, 6, 8, 9, 10, 1, 3, 4, 5, 7, 8, 10, 1, 2, 3, 4, 5, 6, 7, 8, 9, 10, 1, 2, 3, 5, 6, 8, 10, 1, 2, 3, 4, 5, 6, 7, 8, 9, 10, 6, 7, 8, 10, 2, 4, 5, 9, 10, 2, 3, 4, 6, 8, 10, 2, 3, 7, 3, 4, 6, 7, 8, 9, 10, 1, 3, 4, 2, 4, 9, 2, 4, 5, 7, 9, 10, 2, 4, 5, 6, 8, 1, 2, 5, 9, 10, 1, 2, 6, 8, 9, 1, 3, 6, 7, 9, 1, 2, 3, 4, 6, 8, 9, 10, 1, 2, 3, 4, 6, 7, 8, 9, 10, 1, 3, 4, 5, 7, 8, 10, 2, 8, 9, 1, 2, 3, 4, 5, 6, 7, 8, 9, 1, 3, 7, 8, 1, 2, 3, 7, 10], \"Freq\": [0.0565055214695181, 0.7910773005732534, 0.1130110429390362, 0.14007734873904926, 0.7470791932749293, 0.0598806891305694, 0.5389262021751247, 0.0598806891305694, 0.0598806891305694, 0.0598806891305694, 0.2395227565222776, 0.17103538135458377, 0.02137942266932297, 0.6413826800796891, 0.02137942266932297, 0.02137942266932297, 0.02137942266932297, 0.04275884533864594, 0.06413826800796892, 0.13075563608430582, 0.22882236314753518, 0.5884003623793762, 0.006206697580444869, 0.012413395160889738, 0.7025981661063592, 0.00993071612871179, 0.0993071612871179, 0.04220554354702511, 0.006206697580444869, 0.012413395160889738, 0.07448037096533844, 0.03599884596658024, 0.03335027602213017, 0.03335027602213017, 0.10005082806639051, 0.600304968398343, 0.20010165613278103, 0.18908630766265644, 0.06302876922088547, 0.6302876922088548, 0.06302876922088547, 0.42591211172657134, 0.12619618125231744, 0.01577452265653968, 0.04732356796961904, 0.33126497578733327, 0.03154904531307936, 0.17027008917043499, 0.56756696390145, 0.028378348195072498, 0.056756696390144995, 0.17027008917043499, 0.12572336021810182, 0.6705245878298763, 0.04190778673936727, 0.12572336021810182, 0.10954516448484385, 0.142408713830297, 0.010954516448484384, 0.05477258224242192, 0.010954516448484384, 0.010954516448484384, 0.6463164704605787, 0.03638047654763979, 0.018190238273819895, 0.018190238273819895, 0.018190238273819895, 0.018190238273819895, 0.12733166791673928, 0.03638047654763979, 0.6730388161313362, 0.9224616115223968, 0.0288269253600749, 0.031373436408584796, 0.09412030922575439, 0.7843359102146199, 0.06274687281716959, 0.05629367975650296, 0.7318178368345384, 0.16888103926950887, 0.6524364346787684, 0.017826132095048318, 0.021391358514057983, 0.08289151424197469, 0.009804372652276575, 0.1123046321988044, 0.0008913066047524159, 0.0035652264190096637, 0.09804372652276576, 0.06337936586181757, 0.1901380975854527, 0.06337936586181757, 0.5070349268945405, 0.12675873172363514, 0.31150086077341965, 0.31150086077341965, 0.31150086077341965, 0.02155897854619011, 0.04311795709238022, 0.02155897854619011, 0.02155897854619011, 0.02155897854619011, 0.8623591418476044, 0.02155897854619011, 0.0401624803112589, 0.2008124015562945, 0.6024372046688836, 0.0803249606225178, 0.40439651837826956, 0.0449329464864744, 0.1797317859458976, 0.3145306254053208, 0.09235251484622095, 0.05277286562641197, 0.013193216406602993, 0.7124336859565615, 0.06596608203301496, 0.05277286562641197, 0.02530777584743814, 0.01265388792371907, 0.27838553432181956, 0.01265388792371907, 0.6453482841096726, 0.02530777584743814, 0.030754574558557884, 0.06150914911711577, 0.030754574558557884, 0.8611280876396208, 0.8928330405442346, 0.03188689430515124, 0.03188689430515124, 0.5589314296849148, 0.1136809687494742, 0.14210121093684275, 0.047367070312280914, 0.06631389843719328, 0.02842024218736855, 0.037893656249824735, 0.20692267173455367, 0.49661441216292884, 0.04138453434691074, 0.20692267173455367, 0.8775953948855757, 0.0675073380681212, 0.27911535146197286, 0.05582307029239457, 0.5024076326315511, 0.11164614058478914, 0.06344353857114572, 0.19033061571343718, 0.03172176928557286, 0.03172176928557286, 0.22205238499901003, 0.4123830007124472, 0.04998620665016937, 0.09997241330033874, 0.7997793064027099, 0.04998620665016937, 0.017235580175256154, 0.6204808863092215, 0.017235580175256154, 0.03447116035051231, 0.27576928280409846, 0.05910600723160927, 0.0788080096421457, 0.11821201446321854, 0.6304640771371656, 0.0788080096421457, 0.16930002566483449, 0.25395003849725173, 0.5079000769945035, 0.08465001283241724, 0.03956745439082666, 0.05935118158623999, 0.8309165422073599, 0.05935118158623999, 0.02642044969480265, 0.1056817987792106, 0.15852269816881592, 0.4491476448116451, 0.02642044969480265, 0.23778404725322386, 0.018944841183763272, 0.018944841183763272, 0.018944841183763272, 0.07577936473505309, 0.11366904710257963, 0.05683452355128982, 0.6820142826154778, 0.12319617982549826, 0.04106539327516609, 0.04106539327516609, 0.3695885394764948, 0.04106539327516609, 0.2874577529261626, 0.12319617982549826, 0.19953035263856947, 0.07981214105542779, 0.039906070527713895, 0.5187789168602807, 0.15962428211085558, 0.0048805442088269875, 0.3172353735737542, 0.009761088417653975, 0.02928326525296193, 0.009761088417653975, 0.5612625840151036, 0.024402721044134938, 0.0048805442088269875, 0.01952217683530795, 0.024402721044134938, 0.008813361889953854, 0.017626723779907708, 0.017626723779907708, 0.10576034267944624, 0.8284560176556622, 0.16100754469909093, 0.26834590783181816, 0.32201508939818185, 0.16100754469909093, 0.08076199399670088, 0.8883819339637096, 0.05819585074455845, 0.6692522835624222, 0.08729377611683768, 0.029097925372279225, 0.029097925372279225, 0.1163917014891169, 0.4236776411847039, 0.026479852574043995, 0.10591941029617598, 0.3442380834625719, 0.07943955772213199, 0.16215794763430208, 0.6486317905372083, 0.16215794763430208, 0.06299677170241445, 0.015749192925603613, 0.007874596462801807, 0.007874596462801807, 0.7795850498173789, 0.007874596462801807, 0.11024435047922529, 0.007874596462801807, 0.6126389700970645, 0.19604447043106066, 0.12252779401941291, 0.024505558803882582, 0.024505558803882582, 0.03675278400390461, 0.2572694880273323, 0.3675278400390461, 0.07350556800780922, 0.22051670402342768, 0.03675278400390461, 0.7165118105500691, 0.07165118105500691, 0.05970931754583909, 0.011941863509167818, 0.005970931754583909, 0.011941863509167818, 0.023883727018335636, 0.035825590527503455, 0.065680249300423, 0.35462187866719685, 0.2937135407281745, 0.028423891038210435, 0.17731093933359843, 0.04601963310948356, 0.02707037241734327, 0.0013535186208671636, 0.04872667035121789, 0.0013535186208671636, 0.020302779313007453, 0.05550795000172943, 0.7216033500224827, 0.1665238500051883, 0.04186461574955343, 0.3349169259964274, 0.1674584629982137, 0.04186461574955343, 0.4186461574955343, 0.011229911389609442, 0.04491964555843777, 0.011229911389609442, 0.6962545061557854, 0.03368973416882833, 0.19090849362336054, 0.011229911389609442, 0.38327596868310904, 0.3449483718147981, 0.0383275968683109, 0.19163798434155452, 0.0520569990904281, 0.02602849954521405, 0.02602849954521405, 0.02602849954521405, 0.1041139981808562, 0.1041139981808562, 0.6507124886303514, 0.03558926078632172, 0.03235387344211066, 0.06794313422843237, 0.0032353873442110656, 0.025883098753688525, 0.02911848609789959, 0.04206003547474385, 0.006470774688422131, 0.05500158485158811, 0.7085498283822234, 0.06371612240626938, 0.06371612240626938, 0.828309591281502, 0.014512499812351021, 0.09433124878028165, 0.007256249906175511, 0.014512499812351021, 0.021768749718526534, 0.8417249891163593, 0.45269830770675257, 0.18107932308270103, 0.36215864616540205, 0.13774413386875622, 0.034436033467189056, 0.034436033467189056, 0.6542846358765921, 0.10330810040156718, 0.034436033467189056, 0.034436033467189056, 0.16621677081294486, 0.041554192703236216, 0.041554192703236216, 0.08310838540647243, 0.041554192703236216, 0.6233128905485432, 0.047635982395645544, 0.8098117007259743, 0.047635982395645544, 0.09527196479129109, 0.3977174382199364, 0.020932496748417705, 0.06279749024525312, 0.10466248374208853, 0.4186499349683541, 0.05372135725199222, 0.10744271450398445, 0.7520990015278911, 0.05372135725199222, 0.1072786541161266, 0.536393270580633, 0.0357595513720422, 0.3218359623483798, 0.5990673647094418, 0.19968912156981394, 0.06656304052327132, 0.06656304052327132, 0.06656304052327132, 0.06656304052327132, 0.14910071272644534, 0.004260020363612724, 0.6858632785416486, 0.025560122181676345, 0.03834018327251452, 0.004260020363612724, 0.03408016290890179, 0.03408016290890179, 0.012780061090838173, 0.012780061090838173, 0.04968390984852739, 0.24841954924263696, 0.14905172954558218, 0.4968390984852739, 0.05285755090820123, 0.026428775454100616, 0.026428775454100616, 0.05285755090820123, 0.05285755090820123, 0.8192920390771191, 0.01330293004043309, 0.01330293004043309, 0.09578109629111825, 0.8167999044825917, 0.005321172016173236, 0.010642344032346472, 0.010642344032346472, 0.021284688064692945, 0.007981758024259853, 0.13362275949470526, 0.02227045991578421, 0.011135229957892104, 0.04454091983156842, 0.6625461824945802, 0.011135229957892104, 0.005567614978946052, 0.10021706962102894, 0.011135229957892104, 0.017228238873062893, 0.3962494940804466, 0.18951062760369183, 0.06891295549225157, 0.13782591098450314, 0.13782591098450314, 0.017228238873062893, 0.017228238873062893, 0.09859376524563074, 0.025945727696218616, 0.1297286384810931, 0.07783718308865585, 0.1764309483342866, 0.010378291078487447, 0.43069907975722904, 0.010378291078487447, 0.025945727696218616, 0.0051891455392437235, 0.1253984663794345, 0.0501593865517738, 0.0501593865517738, 0.5266735587936249, 0.0752390798276607, 0.1504781596553214, 0.01253984663794345, 0.06009129401005377, 0.09013694101508064, 0.06009129401005377, 0.030045647005026883, 0.030045647005026883, 0.12018258802010753, 0.030045647005026883, 0.5708672930955108, 0.1233103196634851, 0.6165515983174256, 0.08220687977565674, 0.1233103196634851, 0.033837711222773396, 0.1015131336683202, 0.033837711222773396, 0.1015131336683202, 0.7105919356782413, 0.06156961077117479, 0.06156961077117479, 0.020523203590391597, 0.4515104789886151, 0.22575523949430756, 0.041046407180783194, 0.020523203590391597, 0.06156961077117479, 0.08209281436156639, 0.8587248265555888, 0.8306203082062422, 0.13349254953314607, 0.029665011007365794, 0.008300746814734498, 0.04150373407367249, 0.024902240444203496, 0.8383754282881843, 0.008300746814734498, 0.008300746814734498, 0.06640597451787598, 0.0547423664137306, 0.8211354962059589, 0.0547423664137306, 0.12639409179308433, 0.031598522948271084, 0.6951675048619639, 0.06319704589654217, 0.11110338489048682, 0.05555169244524341, 0.7777236942334078, 0.024090550599200677, 0.8271089039058899, 0.004015091766533446, 0.028105642365734124, 0.008030183533066892, 0.05621128473146825, 0.03212073413226757, 0.012045275299600339, 0.004015091766533446, 0.008030183533066892, 0.032418586663180655, 0.032418586663180655, 0.06483717332636131, 0.7132089065899745, 0.12967434665272262, 0.013680162876969845, 0.013680162876969845, 0.05472065150787938, 0.7250486324794018, 0.06840081438484923, 0.10944130301575876, 0.025935646048011313, 0.18154952233607918, 0.12967823024005656, 0.1556138762880679, 0.5187129209602263, 0.0032132274008621286, 0.006426454801724257, 0.0032132274008621286, 0.054624865814656184, 0.006426454801724257, 0.8065200776163942, 0.10924973162931237, 0.0032132274008621286, 0.06869024498673598, 0.04579349665782399, 0.011448374164455998, 0.6296605790450799, 0.22896748328911995, 0.19464774256811698, 0.14598580692608776, 0.048661935642029246, 0.3406335494942047, 0.09732387128405849, 0.19464774256811698, 0.03631194345618351, 0.03631194345618351, 0.7262388691236701, 0.14524777382473403, 0.03631194345618351, 0.006522326189448795, 0.006522326189448795, 0.03913395713669277, 0.03913395713669277, 0.09783489284173193, 0.5543977261031476, 0.05217860951559036, 0.20219211187291264, 0.2599404813435133, 0.6758452514931346, 0.011523934568549632, 0.005761967284274816, 0.005761967284274816, 0.011523934568549632, 0.9219147654839706, 0.017285901852824446, 0.011523934568549632, 0.017285901852824446, 0.7049840137601084, 0.12440894360472501, 0.12440894360472501, 0.3632696786365445, 0.4359236143638534, 0.14530787145461782, 0.07265393572730891, 0.010236937174491251, 0.122843246093895, 0.10236937174491251, 0.16890946337910565, 0.010236937174491251, 0.015355405761736876, 0.5272022644862994, 0.020473874348982502, 0.0051184685872456255, 0.010236937174491251, 0.24980282163351109, 0.02498028216335111, 0.5495662075937244, 0.07494084649005332, 0.07494084649005332, 0.02674879022973819, 0.02674879022973819, 0.02674879022973819, 0.13374395114869098, 0.7757149166624075, 0.0461871109105736, 0.5542453309268832, 0.2771226654634416, 0.0461871109105736, 0.24198647437582677, 0.5323702436268188, 0.07259594231274803, 0.0967945897503307, 0.04839729487516535, 0.11847515579227773, 0.03949171859742591, 0.11847515579227773, 0.7108509347536663, 0.6639040054272397, 0.1991712016281719, 0.01842095890083875, 0.0368419178016775, 0.12894671230587124, 0.09210479450419373, 0.7184173971327111, 0.539264496908246, 0.022469354037843583, 0.1348161242270615, 0.15728547826490508, 0.06740806211353075, 0.044938708075687166, 0.022469354037843583, 0.02425710818268314, 0.004851421636536628, 0.009702843273073256, 0.2765310332825878, 0.4851421636536628, 0.004851421636536628, 0.05336563800190291, 0.009702843273073256, 0.009702843273073256, 0.1212855409134157, 0.010846837874103598, 0.010846837874103598, 0.0759278651187252, 0.8677470299282879, 0.010846837874103598, 0.010846837874103598, 0.010846837874103598, 0.12387777158688927, 0.3297054536081822, 0.05971543861111585, 0.09973748789303392, 0.036845696164305525, 0.2229799888564007, 0.0559038148699808, 0.025410824940900363, 0.016517036211585234, 0.029222448682035416, 0.04021779509230316, 0.04021779509230316, 0.8445736969383664, 0.04021779509230316, 0.035613698293160585, 0.2849095863452847, 0.035613698293160585, 0.42736437951792705, 0.17806849146580295, 0.6447137892069911, 0.03484939401118871, 0.052274091016783056, 0.017424697005594354, 0.17424697005594353, 0.052274091016783056, 0.05183378649539379, 0.01727792883179793, 0.8811743704216944, 0.05891734641536275, 0.2651280588691324, 0.029458673207681373, 0.1178346928307255, 0.029458673207681373, 0.029458673207681373, 0.5007974445305833, 0.047805440045797336, 0.8604979208243521, 0.047805440045797336, 0.76357765716063, 0.0636314714300525, 0.0636314714300525, 0.0740517069428475, 0.018512926735711876, 0.018512926735711876, 0.6479524357499157, 0.20364219409283063, 0.03702585347142375, 0.476499820866958, 0.08215514152878588, 0.14787925475181457, 0.016431028305757173, 0.2628964528921148, 0.0853358675749138, 0.05689057838327587, 0.1706717351498276, 0.5404604946411208, 0.0853358675749138, 0.13877913590486446, 0.2081687038572967, 0.06938956795243223, 0.4163374077145934, 0.13877913590486446, 0.2559471838952314, 0.03656388341360449, 0.6581499014448808, 0.018281941706802245, 0.03656388341360449, 0.37566448154242754, 0.0722431695273899, 0.014448633905477981, 0.014448633905477981, 0.028897267810955963, 0.014448633905477981, 0.34676721373147157, 0.13003770514930182, 0.7291828521472311, 0.016324989227176817, 0.016324989227176817, 0.010883326151451211, 0.06529995690870727, 0.08162494613588409, 0.005441663075725606, 0.032649978454353634, 0.043533304605804846, 0.02801746965191424, 0.02801746965191424, 0.05603493930382848, 0.08405240895574273, 0.6444018019940275, 0.08405240895574273, 0.05603493930382848, 0.18639544037932576, 0.04659886009483144, 0.6989829014224715, 0.21484080439530867, 0.009340904538926465, 0.4950679405631026, 0.014011356808389696, 0.09340904538926464, 0.08406814085033817, 0.06071587950302202, 0.014011356808389696, 0.009340904538926465, 0.6422991379244168, 0.1107412306766236, 0.02214824613532472, 0.19933421521792247, 0.1311781102169742, 0.7214796061933582, 0.03279452755424355, 0.03279452755424355, 0.03279452755424355], \"Term\": [\"\\u0e01\\u0e23\\u0e30\\u0e14\\u0e32\\u0e29\", \"\\u0e01\\u0e23\\u0e30\\u0e14\\u0e32\\u0e29\", \"\\u0e01\\u0e23\\u0e30\\u0e14\\u0e32\\u0e29\", \"\\u0e01\\u0e23\\u0e30\\u0e40\\u0e1e\\u0e32\\u0e30\", \"\\u0e01\\u0e23\\u0e30\\u0e40\\u0e1e\\u0e32\\u0e30\", \"\\u0e01\\u0e30\\u0e1b\\u0e23\\u0e34\\u0e14\\u0e01\\u0e30\\u0e1b\\u0e23\\u0e2d\\u0e22\", \"\\u0e01\\u0e30\\u0e1b\\u0e23\\u0e34\\u0e14\\u0e01\\u0e30\\u0e1b\\u0e23\\u0e2d\\u0e22\", \"\\u0e01\\u0e30\\u0e1b\\u0e23\\u0e34\\u0e14\\u0e01\\u0e30\\u0e1b\\u0e23\\u0e2d\\u0e22\", \"\\u0e01\\u0e30\\u0e1b\\u0e23\\u0e34\\u0e14\\u0e01\\u0e30\\u0e1b\\u0e23\\u0e2d\\u0e22\", \"\\u0e01\\u0e30\\u0e1b\\u0e23\\u0e34\\u0e14\\u0e01\\u0e30\\u0e1b\\u0e23\\u0e2d\\u0e22\", \"\\u0e01\\u0e30\\u0e1b\\u0e23\\u0e34\\u0e14\\u0e01\\u0e30\\u0e1b\\u0e23\\u0e2d\\u0e22\", \"\\u0e01\\u0e30\\u0e1b\\u0e23\\u0e34\\u0e1a\\u0e01\\u0e30\\u0e1b\\u0e23\\u0e2d\\u0e22\", \"\\u0e01\\u0e30\\u0e1b\\u0e23\\u0e34\\u0e1a\\u0e01\\u0e30\\u0e1b\\u0e23\\u0e2d\\u0e22\", \"\\u0e01\\u0e30\\u0e1b\\u0e23\\u0e34\\u0e1a\\u0e01\\u0e30\\u0e1b\\u0e23\\u0e2d\\u0e22\", \"\\u0e01\\u0e30\\u0e1b\\u0e23\\u0e34\\u0e1a\\u0e01\\u0e30\\u0e1b\\u0e23\\u0e2d\\u0e22\", \"\\u0e01\\u0e30\\u0e1b\\u0e23\\u0e34\\u0e1a\\u0e01\\u0e30\\u0e1b\\u0e23\\u0e2d\\u0e22\", \"\\u0e01\\u0e30\\u0e1b\\u0e23\\u0e34\\u0e1a\\u0e01\\u0e30\\u0e1b\\u0e23\\u0e2d\\u0e22\", \"\\u0e01\\u0e30\\u0e1b\\u0e23\\u0e34\\u0e1a\\u0e01\\u0e30\\u0e1b\\u0e23\\u0e2d\\u0e22\", \"\\u0e01\\u0e30\\u0e1b\\u0e23\\u0e34\\u0e1a\\u0e01\\u0e30\\u0e1b\\u0e23\\u0e2d\\u0e22\", \"\\u0e01\\u0e31\\u0e07\\u0e27\\u0e25\", \"\\u0e01\\u0e31\\u0e07\\u0e27\\u0e25\", \"\\u0e01\\u0e31\\u0e07\\u0e27\\u0e25\", \"\\u0e01\\u0e33\\u0e40\\u0e19\\u0e34\\u0e14\", \"\\u0e01\\u0e33\\u0e40\\u0e19\\u0e34\\u0e14\", \"\\u0e01\\u0e33\\u0e40\\u0e19\\u0e34\\u0e14\", \"\\u0e01\\u0e33\\u0e40\\u0e19\\u0e34\\u0e14\", \"\\u0e01\\u0e33\\u0e40\\u0e19\\u0e34\\u0e14\", \"\\u0e01\\u0e33\\u0e40\\u0e19\\u0e34\\u0e14\", \"\\u0e01\\u0e33\\u0e40\\u0e19\\u0e34\\u0e14\", \"\\u0e01\\u0e33\\u0e40\\u0e19\\u0e34\\u0e14\", \"\\u0e01\\u0e33\\u0e40\\u0e19\\u0e34\\u0e14\", \"\\u0e01\\u0e33\\u0e40\\u0e19\\u0e34\\u0e14\", \"\\u0e02\\u0e2d\\u0e07\\u0e41\\u0e02\\u0e47\\u0e07\", \"\\u0e02\\u0e2d\\u0e07\\u0e41\\u0e02\\u0e47\\u0e07\", \"\\u0e02\\u0e2d\\u0e07\\u0e41\\u0e02\\u0e47\\u0e07\", \"\\u0e02\\u0e2d\\u0e07\\u0e41\\u0e02\\u0e47\\u0e07\", \"\\u0e02\\u0e2d\\u0e07\\u0e41\\u0e02\\u0e47\\u0e07\", \"\\u0e02\\u0e2d\\u0e1a\\u0e04\\u0e38\\u0e13\", \"\\u0e02\\u0e2d\\u0e1a\\u0e04\\u0e38\\u0e13\", \"\\u0e02\\u0e2d\\u0e1a\\u0e04\\u0e38\\u0e13\", \"\\u0e02\\u0e2d\\u0e1a\\u0e04\\u0e38\\u0e13\", \"\\u0e02\\u0e49\\u0e2d\\u0e21\\u0e39\\u0e25\", \"\\u0e02\\u0e49\\u0e2d\\u0e21\\u0e39\\u0e25\", \"\\u0e02\\u0e49\\u0e2d\\u0e21\\u0e39\\u0e25\", \"\\u0e02\\u0e49\\u0e2d\\u0e21\\u0e39\\u0e25\", \"\\u0e02\\u0e49\\u0e2d\\u0e21\\u0e39\\u0e25\", \"\\u0e02\\u0e49\\u0e2d\\u0e21\\u0e39\\u0e25\", \"\\u0e04\\u0e23\\u0e2d\\u0e1a\\u0e04\\u0e23\\u0e31\\u0e27\", \"\\u0e04\\u0e23\\u0e2d\\u0e1a\\u0e04\\u0e23\\u0e31\\u0e27\", \"\\u0e04\\u0e23\\u0e2d\\u0e1a\\u0e04\\u0e23\\u0e31\\u0e27\", \"\\u0e04\\u0e23\\u0e2d\\u0e1a\\u0e04\\u0e23\\u0e31\\u0e27\", \"\\u0e04\\u0e23\\u0e2d\\u0e1a\\u0e04\\u0e23\\u0e31\\u0e27\", \"\\u0e04\\u0e25\\u0e32\\u0e14\\u0e40\\u0e04\\u0e25\\u0e37\\u0e48\\u0e2d\\u0e19\", \"\\u0e04\\u0e25\\u0e32\\u0e14\\u0e40\\u0e04\\u0e25\\u0e37\\u0e48\\u0e2d\\u0e19\", \"\\u0e04\\u0e25\\u0e32\\u0e14\\u0e40\\u0e04\\u0e25\\u0e37\\u0e48\\u0e2d\\u0e19\", \"\\u0e04\\u0e25\\u0e32\\u0e14\\u0e40\\u0e04\\u0e25\\u0e37\\u0e48\\u0e2d\\u0e19\", \"\\u0e04\\u0e25\\u0e34\\u0e19\\u0e34\\u0e01\", \"\\u0e04\\u0e25\\u0e34\\u0e19\\u0e34\\u0e01\", \"\\u0e04\\u0e25\\u0e34\\u0e19\\u0e34\\u0e01\", \"\\u0e04\\u0e25\\u0e34\\u0e19\\u0e34\\u0e01\", \"\\u0e04\\u0e25\\u0e34\\u0e19\\u0e34\\u0e01\", \"\\u0e04\\u0e25\\u0e34\\u0e19\\u0e34\\u0e01\", \"\\u0e04\\u0e25\\u0e34\\u0e19\\u0e34\\u0e01\", \"\\u0e04\\u0e25\\u0e37\\u0e48\\u0e19\\u0e44\\u0e2a\\u0e49\", \"\\u0e04\\u0e25\\u0e37\\u0e48\\u0e19\\u0e44\\u0e2a\\u0e49\", \"\\u0e04\\u0e25\\u0e37\\u0e48\\u0e19\\u0e44\\u0e2a\\u0e49\", \"\\u0e04\\u0e25\\u0e37\\u0e48\\u0e19\\u0e44\\u0e2a\\u0e49\", \"\\u0e04\\u0e25\\u0e37\\u0e48\\u0e19\\u0e44\\u0e2a\\u0e49\", \"\\u0e04\\u0e25\\u0e37\\u0e48\\u0e19\\u0e44\\u0e2a\\u0e49\", \"\\u0e04\\u0e25\\u0e37\\u0e48\\u0e19\\u0e44\\u0e2a\\u0e49\", \"\\u0e04\\u0e25\\u0e37\\u0e48\\u0e19\\u0e44\\u0e2a\\u0e49\", \"\\u0e04\\u0e31\\u0e14\\u0e40\\u0e15\\u0e49\\u0e32\", \"\\u0e04\\u0e31\\u0e14\\u0e40\\u0e15\\u0e49\\u0e32\", \"\\u0e04\\u0e38\\u0e13\\u0e2b\\u0e21\\u0e2d\", \"\\u0e04\\u0e38\\u0e13\\u0e2b\\u0e21\\u0e2d\", \"\\u0e04\\u0e38\\u0e13\\u0e2b\\u0e21\\u0e2d\", \"\\u0e04\\u0e38\\u0e13\\u0e2b\\u0e21\\u0e2d\", \"\\u0e04\\u0e38\\u0e21\\u0e01\\u0e33\\u0e40\\u0e19\\u0e34\\u0e14\", \"\\u0e04\\u0e38\\u0e21\\u0e01\\u0e33\\u0e40\\u0e19\\u0e34\\u0e14\", \"\\u0e04\\u0e38\\u0e21\\u0e01\\u0e33\\u0e40\\u0e19\\u0e34\\u0e14\", \"\\u0e09\\u0e38\\u0e01\\u0e40\\u0e09\\u0e34\\u0e19\", \"\\u0e09\\u0e38\\u0e01\\u0e40\\u0e09\\u0e34\\u0e19\", \"\\u0e09\\u0e38\\u0e01\\u0e40\\u0e09\\u0e34\\u0e19\", \"\\u0e09\\u0e38\\u0e01\\u0e40\\u0e09\\u0e34\\u0e19\", \"\\u0e09\\u0e38\\u0e01\\u0e40\\u0e09\\u0e34\\u0e19\", \"\\u0e09\\u0e38\\u0e01\\u0e40\\u0e09\\u0e34\\u0e19\", \"\\u0e09\\u0e38\\u0e01\\u0e40\\u0e09\\u0e34\\u0e19\", \"\\u0e09\\u0e38\\u0e01\\u0e40\\u0e09\\u0e34\\u0e19\", \"\\u0e09\\u0e38\\u0e01\\u0e40\\u0e09\\u0e34\\u0e19\", \"\\u0e0a\\u0e31\\u0e14\\u0e40\\u0e08\\u0e19\", \"\\u0e0a\\u0e31\\u0e14\\u0e40\\u0e08\\u0e19\", \"\\u0e0a\\u0e31\\u0e14\\u0e40\\u0e08\\u0e19\", \"\\u0e0a\\u0e31\\u0e14\\u0e40\\u0e08\\u0e19\", \"\\u0e0a\\u0e31\\u0e14\\u0e40\\u0e08\\u0e19\", \"\\u0e0a\\u0e35\\u0e49\\u0e02\\u0e32\\u0e14\", \"\\u0e0a\\u0e35\\u0e49\\u0e02\\u0e32\\u0e14\", \"\\u0e0a\\u0e35\\u0e49\\u0e02\\u0e32\\u0e14\", \"\\u0e0b\\u0e34\\u0e1f\\u0e34\\u0e25\\u0e34\\u0e2a\", \"\\u0e0b\\u0e34\\u0e1f\\u0e34\\u0e25\\u0e34\\u0e2a\", \"\\u0e0b\\u0e34\\u0e1f\\u0e34\\u0e25\\u0e34\\u0e2a\", \"\\u0e0b\\u0e34\\u0e1f\\u0e34\\u0e25\\u0e34\\u0e2a\", \"\\u0e0b\\u0e34\\u0e1f\\u0e34\\u0e25\\u0e34\\u0e2a\", \"\\u0e0b\\u0e34\\u0e1f\\u0e34\\u0e25\\u0e34\\u0e2a\", \"\\u0e0b\\u0e34\\u0e1f\\u0e34\\u0e25\\u0e34\\u0e2a\", \"\\u0e15\\u0e23\\u0e27\\u0e08\\u0e2a\\u0e2d\\u0e1a\", \"\\u0e15\\u0e23\\u0e27\\u0e08\\u0e2a\\u0e2d\\u0e1a\", \"\\u0e15\\u0e23\\u0e27\\u0e08\\u0e2a\\u0e2d\\u0e1a\", \"\\u0e15\\u0e23\\u0e27\\u0e08\\u0e2a\\u0e2d\\u0e1a\", \"\\u0e15\\u0e23\\u0e27\\u0e08\\u0e40\\u0e08\\u0e2d\", \"\\u0e15\\u0e23\\u0e27\\u0e08\\u0e40\\u0e08\\u0e2d\", \"\\u0e15\\u0e23\\u0e27\\u0e08\\u0e40\\u0e08\\u0e2d\", \"\\u0e15\\u0e23\\u0e27\\u0e08\\u0e40\\u0e08\\u0e2d\", \"\\u0e15\\u0e31\\u0e49\\u0e07\\u0e04\\u0e23\\u0e23\\u0e20\\u0e4c\", \"\\u0e15\\u0e31\\u0e49\\u0e07\\u0e04\\u0e23\\u0e23\\u0e20\\u0e4c\", \"\\u0e15\\u0e31\\u0e49\\u0e07\\u0e04\\u0e23\\u0e23\\u0e20\\u0e4c\", \"\\u0e15\\u0e31\\u0e49\\u0e07\\u0e04\\u0e23\\u0e23\\u0e20\\u0e4c\", \"\\u0e15\\u0e31\\u0e49\\u0e07\\u0e04\\u0e23\\u0e23\\u0e20\\u0e4c\", \"\\u0e15\\u0e31\\u0e49\\u0e07\\u0e04\\u0e23\\u0e23\\u0e20\\u0e4c\", \"\\u0e15\\u0e31\\u0e49\\u0e07\\u0e17\\u0e49\\u0e2d\\u0e07\", \"\\u0e15\\u0e31\\u0e49\\u0e07\\u0e17\\u0e49\\u0e2d\\u0e07\", \"\\u0e15\\u0e31\\u0e49\\u0e07\\u0e17\\u0e49\\u0e2d\\u0e07\", \"\\u0e15\\u0e31\\u0e49\\u0e07\\u0e17\\u0e49\\u0e2d\\u0e07\", \"\\u0e15\\u0e31\\u0e49\\u0e07\\u0e17\\u0e49\\u0e2d\\u0e07\", \"\\u0e15\\u0e31\\u0e49\\u0e07\\u0e17\\u0e49\\u0e2d\\u0e07\", \"\\u0e15\\u0e31\\u0e49\\u0e07\\u0e43\\u0e08\", \"\\u0e15\\u0e31\\u0e49\\u0e07\\u0e43\\u0e08\", \"\\u0e15\\u0e31\\u0e49\\u0e07\\u0e43\\u0e08\", \"\\u0e15\\u0e31\\u0e49\\u0e07\\u0e43\\u0e08\", \"\\u0e15\\u0e32\\u0e21\\u0e34\\u0e19\", \"\\u0e15\\u0e32\\u0e21\\u0e34\\u0e19\", \"\\u0e15\\u0e32\\u0e21\\u0e34\\u0e19\", \"\\u0e15\\u0e34\\u0e14\\u0e15\\u0e48\\u0e2d\", \"\\u0e15\\u0e34\\u0e14\\u0e15\\u0e48\\u0e2d\", \"\\u0e15\\u0e34\\u0e14\\u0e15\\u0e48\\u0e2d\", \"\\u0e15\\u0e34\\u0e14\\u0e15\\u0e48\\u0e2d\", \"\\u0e15\\u0e34\\u0e14\\u0e15\\u0e48\\u0e2d\", \"\\u0e15\\u0e34\\u0e14\\u0e15\\u0e48\\u0e2d\", \"\\u0e15\\u0e34\\u0e14\\u0e15\\u0e48\\u0e2d\", \"\\u0e15\\u0e49\\u0e2d\\u0e07\\u0e01\\u0e32\\u0e23\", \"\\u0e15\\u0e49\\u0e2d\\u0e07\\u0e01\\u0e32\\u0e23\", \"\\u0e15\\u0e49\\u0e2d\\u0e07\\u0e01\\u0e32\\u0e23\", \"\\u0e15\\u0e49\\u0e2d\\u0e07\\u0e01\\u0e32\\u0e23\", \"\\u0e16\\u0e2d\\u0e14\\u0e16\\u0e2d\\u0e19\", \"\\u0e16\\u0e2d\\u0e14\\u0e16\\u0e2d\\u0e19\", \"\\u0e16\\u0e2d\\u0e14\\u0e40\\u0e02\\u0e47\\u0e21\\u0e22\\u0e32\", \"\\u0e16\\u0e2d\\u0e14\\u0e40\\u0e02\\u0e47\\u0e21\\u0e22\\u0e32\", \"\\u0e16\\u0e2d\\u0e14\\u0e40\\u0e02\\u0e47\\u0e21\\u0e22\\u0e32\", \"\\u0e16\\u0e2d\\u0e14\\u0e40\\u0e02\\u0e47\\u0e21\\u0e22\\u0e32\", \"\\u0e17\\u0e31\\u0e48\\u0e27\\u0e44\\u0e1b\", \"\\u0e17\\u0e31\\u0e48\\u0e27\\u0e44\\u0e1b\", \"\\u0e17\\u0e31\\u0e48\\u0e27\\u0e44\\u0e1b\", \"\\u0e17\\u0e31\\u0e48\\u0e27\\u0e44\\u0e1b\", \"\\u0e17\\u0e31\\u0e48\\u0e27\\u0e44\\u0e1b\", \"\\u0e17\\u0e31\\u0e48\\u0e27\\u0e44\\u0e1b\", \"\\u0e17\\u0e49\\u0e2d\\u0e07\", \"\\u0e17\\u0e49\\u0e2d\\u0e07\", \"\\u0e17\\u0e49\\u0e2d\\u0e07\", \"\\u0e17\\u0e49\\u0e2d\\u0e07\", \"\\u0e17\\u0e49\\u0e2d\\u0e07\\u0e17\\u0e35\\u0e48\", \"\\u0e17\\u0e49\\u0e2d\\u0e07\\u0e17\\u0e35\\u0e48\", \"\\u0e17\\u0e49\\u0e2d\\u0e07\\u0e17\\u0e35\\u0e48\", \"\\u0e17\\u0e49\\u0e2d\\u0e07\\u0e17\\u0e35\\u0e48\", \"\\u0e17\\u0e49\\u0e2d\\u0e07\\u0e17\\u0e35\\u0e48\", \"\\u0e17\\u0e49\\u0e2d\\u0e07\\u0e19\\u0e49\\u0e2d\\u0e22\", \"\\u0e17\\u0e49\\u0e2d\\u0e07\\u0e19\\u0e49\\u0e2d\\u0e22\", \"\\u0e17\\u0e49\\u0e2d\\u0e07\\u0e19\\u0e49\\u0e2d\\u0e22\", \"\\u0e17\\u0e49\\u0e2d\\u0e07\\u0e19\\u0e49\\u0e2d\\u0e22\", \"\\u0e17\\u0e49\\u0e2d\\u0e07\\u0e19\\u0e49\\u0e2d\\u0e22\", \"\\u0e17\\u0e49\\u0e2d\\u0e07\\u0e40\\u0e14\\u0e34\\u0e19\", \"\\u0e17\\u0e49\\u0e2d\\u0e07\\u0e40\\u0e14\\u0e34\\u0e19\", \"\\u0e17\\u0e49\\u0e2d\\u0e07\\u0e40\\u0e14\\u0e34\\u0e19\", \"\\u0e17\\u0e49\\u0e2d\\u0e07\\u0e40\\u0e14\\u0e34\\u0e19\", \"\\u0e17\\u0e49\\u0e2d\\u0e07\\u0e44\\u0e21\\u0e49\", \"\\u0e17\\u0e49\\u0e2d\\u0e07\\u0e44\\u0e21\\u0e49\", \"\\u0e17\\u0e49\\u0e2d\\u0e07\\u0e44\\u0e21\\u0e49\", \"\\u0e17\\u0e49\\u0e2d\\u0e07\\u0e44\\u0e21\\u0e49\", \"\\u0e18\\u0e23\\u0e23\\u0e21\\u0e0a\\u0e32\\u0e15\\u0e34\", \"\\u0e18\\u0e23\\u0e23\\u0e21\\u0e0a\\u0e32\\u0e15\\u0e34\", \"\\u0e18\\u0e23\\u0e23\\u0e21\\u0e0a\\u0e32\\u0e15\\u0e34\", \"\\u0e18\\u0e23\\u0e23\\u0e21\\u0e0a\\u0e32\\u0e15\\u0e34\", \"\\u0e18\\u0e23\\u0e23\\u0e21\\u0e0a\\u0e32\\u0e15\\u0e34\", \"\\u0e18\\u0e23\\u0e23\\u0e21\\u0e0a\\u0e32\\u0e15\\u0e34\", \"\\u0e18\\u0e23\\u0e23\\u0e21\\u0e14\\u0e32\", \"\\u0e18\\u0e23\\u0e23\\u0e21\\u0e14\\u0e32\", \"\\u0e18\\u0e23\\u0e23\\u0e21\\u0e14\\u0e32\", \"\\u0e18\\u0e23\\u0e23\\u0e21\\u0e14\\u0e32\", \"\\u0e18\\u0e23\\u0e23\\u0e21\\u0e14\\u0e32\", \"\\u0e18\\u0e23\\u0e23\\u0e21\\u0e14\\u0e32\", \"\\u0e18\\u0e23\\u0e23\\u0e21\\u0e14\\u0e32\", \"\\u0e18\\u0e32\\u0e25\\u0e31\\u0e2a\\u0e0b\\u0e35\", \"\\u0e18\\u0e32\\u0e25\\u0e31\\u0e2a\\u0e0b\\u0e35\", \"\\u0e18\\u0e32\\u0e25\\u0e31\\u0e2a\\u0e0b\\u0e35\", \"\\u0e18\\u0e32\\u0e25\\u0e31\\u0e2a\\u0e0b\\u0e35\", \"\\u0e18\\u0e32\\u0e25\\u0e31\\u0e2a\\u0e0b\\u0e35\", \"\\u0e18\\u0e32\\u0e25\\u0e31\\u0e2a\\u0e0b\\u0e35\", \"\\u0e18\\u0e32\\u0e25\\u0e31\\u0e2a\\u0e0b\\u0e35\", \"\\u0e19\\u0e34\\u0e17\\u0e32\\u0e19\", \"\\u0e19\\u0e34\\u0e17\\u0e32\\u0e19\", \"\\u0e19\\u0e34\\u0e17\\u0e32\\u0e19\", \"\\u0e19\\u0e34\\u0e17\\u0e32\\u0e19\", \"\\u0e19\\u0e34\\u0e17\\u0e32\\u0e19\", \"\\u0e19\\u0e49\\u0e33\\u0e15\\u0e32\\u0e25\", \"\\u0e19\\u0e49\\u0e33\\u0e15\\u0e32\\u0e25\", \"\\u0e19\\u0e49\\u0e33\\u0e15\\u0e32\\u0e25\", \"\\u0e19\\u0e49\\u0e33\\u0e15\\u0e32\\u0e25\", \"\\u0e19\\u0e49\\u0e33\\u0e15\\u0e32\\u0e25\", \"\\u0e19\\u0e49\\u0e33\\u0e15\\u0e32\\u0e25\", \"\\u0e19\\u0e49\\u0e33\\u0e15\\u0e32\\u0e25\", \"\\u0e19\\u0e49\\u0e33\\u0e15\\u0e32\\u0e25\", \"\\u0e19\\u0e49\\u0e33\\u0e15\\u0e32\\u0e25\", \"\\u0e19\\u0e49\\u0e33\\u0e15\\u0e32\\u0e25\", \"\\u0e19\\u0e49\\u0e33\\u0e2b\\u0e19\\u0e31\\u0e01\", \"\\u0e19\\u0e49\\u0e33\\u0e2b\\u0e19\\u0e31\\u0e01\", \"\\u0e19\\u0e49\\u0e33\\u0e2b\\u0e19\\u0e31\\u0e01\", \"\\u0e19\\u0e49\\u0e33\\u0e2b\\u0e19\\u0e31\\u0e01\", \"\\u0e19\\u0e49\\u0e33\\u0e2b\\u0e19\\u0e31\\u0e01\", \"\\u0e1b\\u0e01\\u0e15\\u0e34\", \"\\u0e1b\\u0e01\\u0e15\\u0e34\", \"\\u0e1b\\u0e01\\u0e15\\u0e34\", \"\\u0e1b\\u0e01\\u0e15\\u0e34\", \"\\u0e1b\\u0e0f\\u0e34\\u0e2a\\u0e19\\u0e18\\u0e34\", \"\\u0e1b\\u0e0f\\u0e34\\u0e2a\\u0e19\\u0e18\\u0e34\", \"\\u0e1b\\u0e23\\u0e30\\u0e01\\u0e31\\u0e19\", \"\\u0e1b\\u0e23\\u0e30\\u0e01\\u0e31\\u0e19\", \"\\u0e1b\\u0e23\\u0e30\\u0e01\\u0e31\\u0e19\", \"\\u0e1b\\u0e23\\u0e30\\u0e01\\u0e31\\u0e19\", \"\\u0e1b\\u0e23\\u0e30\\u0e01\\u0e31\\u0e19\", \"\\u0e1b\\u0e23\\u0e30\\u0e01\\u0e31\\u0e19\", \"\\u0e1b\\u0e23\\u0e30\\u0e08\\u0e33\", \"\\u0e1b\\u0e23\\u0e30\\u0e08\\u0e33\", \"\\u0e1b\\u0e23\\u0e30\\u0e08\\u0e33\", \"\\u0e1b\\u0e23\\u0e30\\u0e08\\u0e33\", \"\\u0e1b\\u0e23\\u0e30\\u0e08\\u0e33\", \"\\u0e1b\\u0e23\\u0e30\\u0e21\\u0e32\\u0e13\", \"\\u0e1b\\u0e23\\u0e30\\u0e21\\u0e32\\u0e13\", \"\\u0e1b\\u0e23\\u0e30\\u0e21\\u0e32\\u0e13\", \"\\u0e1b\\u0e23\\u0e30\\u0e2a\\u0e34\\u0e17\\u0e18\\u0e34\\u0e20\\u0e32\\u0e1e\", \"\\u0e1b\\u0e23\\u0e30\\u0e2a\\u0e34\\u0e17\\u0e18\\u0e34\\u0e20\\u0e32\\u0e1e\", \"\\u0e1b\\u0e23\\u0e30\\u0e2a\\u0e34\\u0e17\\u0e18\\u0e34\\u0e20\\u0e32\\u0e1e\", \"\\u0e1b\\u0e23\\u0e30\\u0e2a\\u0e34\\u0e17\\u0e18\\u0e34\\u0e20\\u0e32\\u0e1e\", \"\\u0e1b\\u0e23\\u0e30\\u0e2a\\u0e34\\u0e17\\u0e18\\u0e34\\u0e20\\u0e32\\u0e1e\", \"\\u0e1b\\u0e23\\u0e30\\u0e2a\\u0e34\\u0e17\\u0e18\\u0e34\\u0e20\\u0e32\\u0e1e\", \"\\u0e1b\\u0e23\\u0e30\\u0e2a\\u0e34\\u0e17\\u0e18\\u0e34\\u0e20\\u0e32\\u0e1e\", \"\\u0e1b\\u0e23\\u0e30\\u0e2a\\u0e34\\u0e17\\u0e18\\u0e34\\u0e20\\u0e32\\u0e1e\", \"\\u0e1b\\u0e23\\u0e30\\u0e40\\u0e14\\u0e47\\u0e19\", \"\\u0e1b\\u0e23\\u0e30\\u0e40\\u0e14\\u0e47\\u0e19\", \"\\u0e1b\\u0e23\\u0e30\\u0e40\\u0e14\\u0e47\\u0e19\", \"\\u0e1b\\u0e23\\u0e30\\u0e40\\u0e14\\u0e47\\u0e19\", \"\\u0e1b\\u0e23\\u0e30\\u0e40\\u0e14\\u0e47\\u0e19\", \"\\u0e1b\\u0e23\\u0e30\\u0e40\\u0e20\\u0e17\", \"\\u0e1b\\u0e23\\u0e30\\u0e40\\u0e20\\u0e17\", \"\\u0e1b\\u0e23\\u0e30\\u0e40\\u0e20\\u0e17\", \"\\u0e1b\\u0e23\\u0e30\\u0e40\\u0e20\\u0e17\", \"\\u0e1b\\u0e23\\u0e30\\u0e40\\u0e20\\u0e17\", \"\\u0e1b\\u0e23\\u0e30\\u0e40\\u0e20\\u0e17\", \"\\u0e1b\\u0e31\\u0e2a\\u0e2a\\u0e32\\u0e27\\u0e30\", \"\\u0e1b\\u0e31\\u0e2a\\u0e2a\\u0e32\\u0e27\\u0e30\", \"\\u0e1b\\u0e31\\u0e2a\\u0e2a\\u0e32\\u0e27\\u0e30\", \"\\u0e1b\\u0e31\\u0e2a\\u0e2a\\u0e32\\u0e27\\u0e30\", \"\\u0e1b\\u0e31\\u0e2a\\u0e2a\\u0e32\\u0e27\\u0e30\", \"\\u0e1b\\u0e31\\u0e2a\\u0e2a\\u0e32\\u0e27\\u0e30\", \"\\u0e1b\\u0e31\\u0e2a\\u0e2a\\u0e32\\u0e27\\u0e30\", \"\\u0e1b\\u0e31\\u0e2a\\u0e2a\\u0e32\\u0e27\\u0e30\", \"\\u0e1b\\u0e31\\u0e2a\\u0e2a\\u0e32\\u0e27\\u0e30\", \"\\u0e1b\\u0e49\\u0e2d\\u0e07\\u0e01\\u0e31\\u0e19\", \"\\u0e1b\\u0e49\\u0e2d\\u0e07\\u0e01\\u0e31\\u0e19\", \"\\u0e1b\\u0e49\\u0e2d\\u0e07\\u0e01\\u0e31\\u0e19\", \"\\u0e1b\\u0e49\\u0e2d\\u0e07\\u0e01\\u0e31\\u0e19\", \"\\u0e1b\\u0e49\\u0e2d\\u0e07\\u0e01\\u0e31\\u0e19\", \"\\u0e1b\\u0e49\\u0e2d\\u0e07\\u0e01\\u0e31\\u0e19\", \"\\u0e1b\\u0e49\\u0e2d\\u0e07\\u0e01\\u0e31\\u0e19\", \"\\u0e1b\\u0e49\\u0e2d\\u0e07\\u0e01\\u0e31\\u0e19\", \"\\u0e1b\\u0e49\\u0e2d\\u0e07\\u0e01\\u0e31\\u0e19\", \"\\u0e1b\\u0e49\\u0e2d\\u0e07\\u0e01\\u0e31\\u0e19\", \"\\u0e1c\\u0e34\\u0e14\\u0e1e\\u0e25\\u0e32\\u0e14\", \"\\u0e1c\\u0e34\\u0e14\\u0e1e\\u0e25\\u0e32\\u0e14\", \"\\u0e1c\\u0e34\\u0e14\\u0e1e\\u0e25\\u0e32\\u0e14\", \"\\u0e1c\\u0e48\\u0e32\\u0e04\\u0e25\\u0e2d\\u0e14\", \"\\u0e1c\\u0e48\\u0e32\\u0e04\\u0e25\\u0e2d\\u0e14\", \"\\u0e1c\\u0e48\\u0e32\\u0e04\\u0e25\\u0e2d\\u0e14\", \"\\u0e1c\\u0e48\\u0e32\\u0e04\\u0e25\\u0e2d\\u0e14\", \"\\u0e1c\\u0e48\\u0e32\\u0e04\\u0e25\\u0e2d\\u0e14\", \"\\u0e1c\\u0e48\\u0e32\\u0e15\\u0e31\\u0e14\", \"\\u0e1c\\u0e48\\u0e32\\u0e15\\u0e31\\u0e14\", \"\\u0e1c\\u0e48\\u0e32\\u0e15\\u0e31\\u0e14\", \"\\u0e1c\\u0e48\\u0e32\\u0e15\\u0e31\\u0e14\", \"\\u0e1c\\u0e48\\u0e32\\u0e15\\u0e31\\u0e14\", \"\\u0e1c\\u0e48\\u0e32\\u0e15\\u0e31\\u0e14\", \"\\u0e1c\\u0e48\\u0e32\\u0e15\\u0e31\\u0e14\", \"\\u0e1e\\u0e48\\u0e2d\\u0e41\\u0e21\\u0e48\", \"\\u0e1e\\u0e48\\u0e2d\\u0e41\\u0e21\\u0e48\", \"\\u0e1e\\u0e48\\u0e2d\\u0e41\\u0e21\\u0e48\", \"\\u0e1e\\u0e48\\u0e2d\\u0e41\\u0e21\\u0e48\", \"\\u0e21\\u0e30\\u0e40\\u0e23\\u0e47\\u0e07\", \"\\u0e21\\u0e30\\u0e40\\u0e23\\u0e47\\u0e07\", \"\\u0e21\\u0e30\\u0e40\\u0e23\\u0e47\\u0e07\", \"\\u0e21\\u0e30\\u0e40\\u0e23\\u0e47\\u0e07\", \"\\u0e21\\u0e30\\u0e40\\u0e23\\u0e47\\u0e07\", \"\\u0e21\\u0e30\\u0e40\\u0e23\\u0e47\\u0e07\", \"\\u0e21\\u0e30\\u0e40\\u0e23\\u0e47\\u0e07\", \"\\u0e22\\u0e35\\u0e48\\u0e2b\\u0e49\\u0e2d\", \"\\u0e22\\u0e35\\u0e48\\u0e2b\\u0e49\\u0e2d\", \"\\u0e22\\u0e35\\u0e48\\u0e2b\\u0e49\\u0e2d\", \"\\u0e22\\u0e35\\u0e48\\u0e2b\\u0e49\\u0e2d\", \"\\u0e22\\u0e35\\u0e48\\u0e2b\\u0e49\\u0e2d\", \"\\u0e22\\u0e35\\u0e48\\u0e2b\\u0e49\\u0e2d\", \"\\u0e22\\u0e35\\u0e48\\u0e2b\\u0e49\\u0e2d\", \"\\u0e22\\u0e35\\u0e48\\u0e2b\\u0e49\\u0e2d\", \"\\u0e22\\u0e35\\u0e48\\u0e2b\\u0e49\\u0e2d\", \"\\u0e22\\u0e35\\u0e48\\u0e2b\\u0e49\\u0e2d\", \"\\u0e23\\u0e1a\\u0e01\\u0e27\\u0e19\", \"\\u0e23\\u0e1a\\u0e01\\u0e27\\u0e19\", \"\\u0e23\\u0e1a\\u0e01\\u0e27\\u0e19\", \"\\u0e23\\u0e31\\u0e1a\\u0e1b\\u0e23\\u0e30\\u0e17\\u0e32\\u0e19\", \"\\u0e23\\u0e31\\u0e1a\\u0e1b\\u0e23\\u0e30\\u0e17\\u0e32\\u0e19\", \"\\u0e23\\u0e31\\u0e1a\\u0e1b\\u0e23\\u0e30\\u0e17\\u0e32\\u0e19\", \"\\u0e23\\u0e31\\u0e1a\\u0e1b\\u0e23\\u0e30\\u0e17\\u0e32\\u0e19\", \"\\u0e23\\u0e31\\u0e1a\\u0e1b\\u0e23\\u0e30\\u0e17\\u0e32\\u0e19\", \"\\u0e23\\u0e31\\u0e1a\\u0e1b\\u0e23\\u0e30\\u0e17\\u0e32\\u0e19\", \"\\u0e23\\u0e32\\u0e22\\u0e25\\u0e30\\u0e40\\u0e2d\\u0e35\\u0e22\\u0e14\", \"\\u0e23\\u0e32\\u0e22\\u0e25\\u0e30\\u0e40\\u0e2d\\u0e35\\u0e22\\u0e14\", \"\\u0e23\\u0e32\\u0e22\\u0e25\\u0e30\\u0e40\\u0e2d\\u0e35\\u0e22\\u0e14\", \"\\u0e23\\u0e38\\u0e19\\u0e41\\u0e23\\u0e07\", \"\\u0e23\\u0e38\\u0e19\\u0e41\\u0e23\\u0e07\", \"\\u0e23\\u0e38\\u0e19\\u0e41\\u0e23\\u0e07\", \"\\u0e23\\u0e38\\u0e19\\u0e41\\u0e23\\u0e07\", \"\\u0e23\\u0e38\\u0e19\\u0e41\\u0e23\\u0e07\", \"\\u0e23\\u0e38\\u0e19\\u0e41\\u0e23\\u0e07\", \"\\u0e23\\u0e38\\u0e19\\u0e41\\u0e23\\u0e07\", \"\\u0e23\\u0e39\\u0e49\\u0e2a\\u0e36\\u0e01\", \"\\u0e23\\u0e39\\u0e49\\u0e2a\\u0e36\\u0e01\", \"\\u0e23\\u0e39\\u0e49\\u0e2a\\u0e36\\u0e01\", \"\\u0e23\\u0e39\\u0e49\\u0e2a\\u0e36\\u0e01\", \"\\u0e23\\u0e39\\u0e49\\u0e2a\\u0e36\\u0e01\", \"\\u0e23\\u0e39\\u0e49\\u0e2a\\u0e36\\u0e01\", \"\\u0e23\\u0e49\\u0e2d\\u0e07\\u0e44\\u0e2b\\u0e49\", \"\\u0e23\\u0e49\\u0e2d\\u0e07\\u0e44\\u0e2b\\u0e49\", \"\\u0e23\\u0e49\\u0e2d\\u0e07\\u0e44\\u0e2b\\u0e49\", \"\\u0e23\\u0e49\\u0e2d\\u0e07\\u0e44\\u0e2b\\u0e49\", \"\\u0e27\\u0e31\\u0e04\\u0e0b\\u0e35\\u0e19\", \"\\u0e27\\u0e31\\u0e04\\u0e0b\\u0e35\\u0e19\", \"\\u0e27\\u0e31\\u0e04\\u0e0b\\u0e35\\u0e19\", \"\\u0e27\\u0e31\\u0e04\\u0e0b\\u0e35\\u0e19\", \"\\u0e27\\u0e31\\u0e04\\u0e0b\\u0e35\\u0e19\", \"\\u0e27\\u0e31\\u0e13\\u0e42\\u0e23\\u0e04\", \"\\u0e27\\u0e31\\u0e13\\u0e42\\u0e23\\u0e04\", \"\\u0e27\\u0e31\\u0e13\\u0e42\\u0e23\\u0e04\", \"\\u0e27\\u0e31\\u0e13\\u0e42\\u0e23\\u0e04\", \"\\u0e27\\u0e34\\u0e15\\u0e32\\u0e21\\u0e34\\u0e19\", \"\\u0e27\\u0e34\\u0e15\\u0e32\\u0e21\\u0e34\\u0e19\", \"\\u0e27\\u0e34\\u0e15\\u0e32\\u0e21\\u0e34\\u0e19\", \"\\u0e27\\u0e34\\u0e15\\u0e32\\u0e21\\u0e34\\u0e19\", \"\\u0e2a\\u0e27\\u0e31\\u0e2a\\u0e14\\u0e35\", \"\\u0e2a\\u0e27\\u0e31\\u0e2a\\u0e14\\u0e35\", \"\\u0e2a\\u0e27\\u0e31\\u0e2a\\u0e14\\u0e35\", \"\\u0e2a\\u0e27\\u0e31\\u0e2a\\u0e14\\u0e35\", \"\\u0e2a\\u0e27\\u0e31\\u0e2a\\u0e14\\u0e35\", \"\\u0e2a\\u0e27\\u0e31\\u0e2a\\u0e14\\u0e35\", \"\\u0e2a\\u0e2d\\u0e14\\u0e43\\u0e2a\\u0e48\", \"\\u0e2a\\u0e2d\\u0e14\\u0e43\\u0e2a\\u0e48\", \"\\u0e2a\\u0e2d\\u0e14\\u0e43\\u0e2a\\u0e48\", \"\\u0e2a\\u0e2d\\u0e14\\u0e43\\u0e2a\\u0e48\", \"\\u0e2a\\u0e2d\\u0e14\\u0e43\\u0e2a\\u0e48\", \"\\u0e2a\\u0e2d\\u0e14\\u0e43\\u0e2a\\u0e48\", \"\\u0e2a\\u0e2d\\u0e14\\u0e43\\u0e2a\\u0e48\", \"\\u0e2a\\u0e2d\\u0e14\\u0e43\\u0e2a\\u0e48\", \"\\u0e2a\\u0e2d\\u0e14\\u0e43\\u0e2a\\u0e48\", \"\\u0e2a\\u0e2d\\u0e14\\u0e43\\u0e2a\\u0e48\", \"\\u0e2a\\u0e31\\u0e07\\u0e40\\u0e01\\u0e15\", \"\\u0e2a\\u0e31\\u0e07\\u0e40\\u0e01\\u0e15\", \"\\u0e2a\\u0e31\\u0e07\\u0e40\\u0e01\\u0e15\", \"\\u0e2a\\u0e31\\u0e07\\u0e40\\u0e01\\u0e15\", \"\\u0e2a\\u0e31\\u0e21\\u0e1c\\u0e31\\u0e2a\", \"\\u0e2a\\u0e31\\u0e21\\u0e1c\\u0e31\\u0e2a\", \"\\u0e2a\\u0e31\\u0e21\\u0e1c\\u0e31\\u0e2a\", \"\\u0e2a\\u0e31\\u0e21\\u0e1c\\u0e31\\u0e2a\", \"\\u0e2a\\u0e31\\u0e21\\u0e1c\\u0e31\\u0e2a\", \"\\u0e2a\\u0e31\\u0e21\\u0e1c\\u0e31\\u0e2a\", \"\\u0e2a\\u0e31\\u0e21\\u0e1e\\u0e31\\u0e19\\u0e18\\u0e4c\", \"\\u0e2a\\u0e31\\u0e21\\u0e1e\\u0e31\\u0e19\\u0e18\\u0e4c\", \"\\u0e2a\\u0e31\\u0e21\\u0e1e\\u0e31\\u0e19\\u0e18\\u0e4c\", \"\\u0e2a\\u0e31\\u0e21\\u0e1e\\u0e31\\u0e19\\u0e18\\u0e4c\", \"\\u0e2a\\u0e31\\u0e21\\u0e1e\\u0e31\\u0e19\\u0e18\\u0e4c\", \"\\u0e2a\\u0e31\\u0e21\\u0e1e\\u0e31\\u0e19\\u0e18\\u0e4c\", \"\\u0e2a\\u0e31\\u0e21\\u0e1e\\u0e31\\u0e19\\u0e18\\u0e4c\", \"\\u0e2a\\u0e31\\u0e21\\u0e1e\\u0e31\\u0e19\\u0e18\\u0e4c\", \"\\u0e2a\\u0e31\\u0e21\\u0e1e\\u0e31\\u0e19\\u0e18\\u0e4c\", \"\\u0e2a\\u0e32\\u0e40\\u0e2b\\u0e15\\u0e38\", \"\\u0e2a\\u0e32\\u0e40\\u0e2b\\u0e15\\u0e38\", \"\\u0e2a\\u0e32\\u0e40\\u0e2b\\u0e15\\u0e38\", \"\\u0e2a\\u0e32\\u0e40\\u0e2b\\u0e15\\u0e38\", \"\\u0e2a\\u0e32\\u0e40\\u0e2b\\u0e15\\u0e38\", \"\\u0e2a\\u0e32\\u0e40\\u0e2b\\u0e15\\u0e38\", \"\\u0e2a\\u0e32\\u0e40\\u0e2b\\u0e15\\u0e38\", \"\\u0e2a\\u0e32\\u0e40\\u0e2b\\u0e15\\u0e38\", \"\\u0e2a\\u0e32\\u0e40\\u0e2b\\u0e15\\u0e38\", \"\\u0e2a\\u0e33\\u0e40\\u0e23\\u0e47\\u0e08\", \"\\u0e2a\\u0e33\\u0e40\\u0e23\\u0e47\\u0e08\", \"\\u0e2a\\u0e33\\u0e40\\u0e23\\u0e47\\u0e08\", \"\\u0e2a\\u0e33\\u0e40\\u0e23\\u0e47\\u0e08\", \"\\u0e2a\\u0e33\\u0e40\\u0e23\\u0e47\\u0e08\", \"\\u0e2a\\u0e33\\u0e40\\u0e23\\u0e47\\u0e08\", \"\\u0e2a\\u0e33\\u0e40\\u0e23\\u0e47\\u0e08\", \"\\u0e2a\\u0e33\\u0e40\\u0e23\\u0e47\\u0e08\", \"\\u0e2a\\u0e34\\u0e17\\u0e18\\u0e34\\u0e4c\", \"\\u0e2a\\u0e34\\u0e17\\u0e18\\u0e34\\u0e4c\", \"\\u0e2a\\u0e34\\u0e17\\u0e18\\u0e34\\u0e4c\", \"\\u0e2a\\u0e34\\u0e17\\u0e18\\u0e34\\u0e4c\", \"\\u0e2a\\u0e34\\u0e17\\u0e18\\u0e34\\u0e4c\", \"\\u0e2a\\u0e34\\u0e17\\u0e18\\u0e34\\u0e4c\", \"\\u0e2a\\u0e34\\u0e17\\u0e18\\u0e34\\u0e4c\", \"\\u0e2a\\u0e34\\u0e17\\u0e18\\u0e34\\u0e4c\", \"\\u0e2a\\u0e34\\u0e17\\u0e18\\u0e34\\u0e4c\", \"\\u0e2a\\u0e34\\u0e17\\u0e18\\u0e34\\u0e4c\", \"\\u0e2a\\u0e38\\u0e02\\u0e20\\u0e32\\u0e1e\", \"\\u0e2a\\u0e38\\u0e02\\u0e20\\u0e32\\u0e1e\", \"\\u0e2a\\u0e38\\u0e02\\u0e20\\u0e32\\u0e1e\", \"\\u0e2a\\u0e38\\u0e02\\u0e20\\u0e32\\u0e1e\", \"\\u0e2a\\u0e38\\u0e02\\u0e20\\u0e32\\u0e1e\", \"\\u0e2a\\u0e38\\u0e02\\u0e20\\u0e32\\u0e1e\", \"\\u0e2a\\u0e38\\u0e02\\u0e20\\u0e32\\u0e1e\", \"\\u0e2a\\u0e38\\u0e14\\u0e17\\u0e49\\u0e2d\\u0e07\", \"\\u0e2a\\u0e38\\u0e14\\u0e17\\u0e49\\u0e2d\\u0e07\", \"\\u0e2a\\u0e38\\u0e14\\u0e17\\u0e49\\u0e2d\\u0e07\", \"\\u0e2a\\u0e38\\u0e14\\u0e17\\u0e49\\u0e2d\\u0e07\", \"\\u0e2a\\u0e38\\u0e14\\u0e17\\u0e49\\u0e2d\\u0e07\", \"\\u0e2a\\u0e38\\u0e14\\u0e17\\u0e49\\u0e2d\\u0e07\", \"\\u0e2a\\u0e38\\u0e14\\u0e17\\u0e49\\u0e2d\\u0e07\", \"\\u0e2a\\u0e38\\u0e14\\u0e17\\u0e49\\u0e2d\\u0e07\", \"\\u0e2b\\u0e07\\u0e38\\u0e14\\u0e2b\\u0e07\\u0e34\\u0e14\", \"\\u0e2b\\u0e07\\u0e38\\u0e14\\u0e2b\\u0e07\\u0e34\\u0e14\", \"\\u0e2b\\u0e07\\u0e38\\u0e14\\u0e2b\\u0e07\\u0e34\\u0e14\", \"\\u0e2b\\u0e07\\u0e38\\u0e14\\u0e2b\\u0e07\\u0e34\\u0e14\", \"\\u0e2b\\u0e19\\u0e49\\u0e32\\u0e17\\u0e49\\u0e2d\\u0e07\", \"\\u0e2b\\u0e19\\u0e49\\u0e32\\u0e17\\u0e49\\u0e2d\\u0e07\", \"\\u0e2b\\u0e19\\u0e49\\u0e32\\u0e17\\u0e49\\u0e2d\\u0e07\", \"\\u0e2b\\u0e19\\u0e49\\u0e32\\u0e17\\u0e49\\u0e2d\\u0e07\", \"\\u0e2b\\u0e19\\u0e49\\u0e32\\u0e17\\u0e49\\u0e2d\\u0e07\", \"\\u0e2b\\u0e19\\u0e49\\u0e32\\u0e2d\\u0e01\", \"\\u0e2b\\u0e19\\u0e49\\u0e32\\u0e2d\\u0e01\", \"\\u0e2b\\u0e19\\u0e49\\u0e32\\u0e2d\\u0e01\", \"\\u0e2b\\u0e19\\u0e49\\u0e32\\u0e2d\\u0e01\", \"\\u0e2b\\u0e19\\u0e49\\u0e32\\u0e2d\\u0e01\", \"\\u0e2b\\u0e19\\u0e49\\u0e32\\u0e2d\\u0e01\", \"\\u0e2b\\u0e19\\u0e49\\u0e32\\u0e2d\\u0e01\", \"\\u0e2b\\u0e19\\u0e49\\u0e32\\u0e2d\\u0e01\", \"\\u0e2b\\u0e19\\u0e49\\u0e32\\u0e2d\\u0e01\", \"\\u0e2b\\u0e25\\u0e07\\u0e25\\u0e37\\u0e21\", \"\\u0e2b\\u0e25\\u0e31\\u0e48\\u0e07\\u0e19\\u0e2d\\u0e01\", \"\\u0e2b\\u0e25\\u0e31\\u0e48\\u0e07\\u0e19\\u0e2d\\u0e01\", \"\\u0e2b\\u0e25\\u0e31\\u0e48\\u0e07\\u0e19\\u0e2d\\u0e01\", \"\\u0e2b\\u0e25\\u0e48\\u0e2d\\u0e25\\u0e37\\u0e48\\u0e19\", \"\\u0e2b\\u0e25\\u0e48\\u0e2d\\u0e25\\u0e37\\u0e48\\u0e19\", \"\\u0e2b\\u0e25\\u0e48\\u0e2d\\u0e25\\u0e37\\u0e48\\u0e19\", \"\\u0e2b\\u0e25\\u0e48\\u0e2d\\u0e25\\u0e37\\u0e48\\u0e19\", \"\\u0e2b\\u0e25\\u0e48\\u0e2d\\u0e25\\u0e37\\u0e48\\u0e19\", \"\\u0e2b\\u0e25\\u0e48\\u0e2d\\u0e25\\u0e37\\u0e48\\u0e19\", \"\\u0e2b\\u0e25\\u0e48\\u0e2d\\u0e25\\u0e37\\u0e48\\u0e19\", \"\\u0e2b\\u0e31\\u0e27\\u0e2b\\u0e19\\u0e49\\u0e32\", \"\\u0e2b\\u0e31\\u0e27\\u0e2b\\u0e19\\u0e49\\u0e32\", \"\\u0e2b\\u0e31\\u0e27\\u0e2b\\u0e19\\u0e49\\u0e32\", \"\\u0e2b\\u0e32\\u0e22\\u0e02\\u0e32\\u0e14\", \"\\u0e2b\\u0e32\\u0e22\\u0e02\\u0e32\\u0e14\", \"\\u0e2b\\u0e32\\u0e22\\u0e02\\u0e32\\u0e14\", \"\\u0e2b\\u0e32\\u0e22\\u0e02\\u0e32\\u0e14\", \"\\u0e2d\\u0e18\\u0e34\\u0e1a\\u0e32\\u0e22\", \"\\u0e2d\\u0e18\\u0e34\\u0e1a\\u0e32\\u0e22\", \"\\u0e2d\\u0e18\\u0e34\\u0e1a\\u0e32\\u0e22\", \"\\u0e2d\\u0e19\\u0e32\\u0e21\\u0e31\\u0e22\", \"\\u0e2d\\u0e19\\u0e32\\u0e21\\u0e31\\u0e22\", \"\\u0e2d\\u0e19\\u0e32\\u0e21\\u0e31\\u0e22\", \"\\u0e2d\\u0e19\\u0e32\\u0e21\\u0e31\\u0e22\", \"\\u0e2d\\u0e19\\u0e32\\u0e21\\u0e31\\u0e22\", \"\\u0e2d\\u0e19\\u0e32\\u0e21\\u0e31\\u0e22\", \"\\u0e2d\\u0e19\\u0e32\\u0e21\\u0e31\\u0e22\", \"\\u0e2d\\u0e19\\u0e32\\u0e21\\u0e31\\u0e22\", \"\\u0e2d\\u0e19\\u0e32\\u0e21\\u0e31\\u0e22\", \"\\u0e2d\\u0e19\\u0e32\\u0e21\\u0e31\\u0e22\", \"\\u0e2d\\u0e19\\u0e38\\u0e0d\\u0e32\\u0e15\", \"\\u0e2d\\u0e19\\u0e38\\u0e0d\\u0e32\\u0e15\", \"\\u0e2d\\u0e19\\u0e38\\u0e0d\\u0e32\\u0e15\", \"\\u0e2d\\u0e19\\u0e38\\u0e0d\\u0e32\\u0e15\", \"\\u0e2d\\u0e19\\u0e38\\u0e0d\\u0e32\\u0e15\", \"\\u0e2d\\u0e31\\u0e01\\u0e40\\u0e2a\\u0e1a\", \"\\u0e2d\\u0e31\\u0e01\\u0e40\\u0e2a\\u0e1a\", \"\\u0e2d\\u0e31\\u0e01\\u0e40\\u0e2a\\u0e1a\", \"\\u0e2d\\u0e31\\u0e01\\u0e40\\u0e2a\\u0e1a\", \"\\u0e2d\\u0e31\\u0e01\\u0e40\\u0e2a\\u0e1a\", \"\\u0e2d\\u0e31\\u0e01\\u0e40\\u0e2a\\u0e1a\", \"\\u0e2d\\u0e31\\u0e15\\u0e23\\u0e32\", \"\\u0e2d\\u0e31\\u0e15\\u0e23\\u0e32\", \"\\u0e2d\\u0e31\\u0e15\\u0e23\\u0e32\", \"\\u0e2d\\u0e31\\u0e15\\u0e23\\u0e32\", \"\\u0e2d\\u0e31\\u0e15\\u0e23\\u0e32\", \"\\u0e2d\\u0e31\\u0e19\\u0e15\\u0e23\\u0e32\\u0e22\", \"\\u0e2d\\u0e31\\u0e19\\u0e15\\u0e23\\u0e32\\u0e22\", \"\\u0e2d\\u0e31\\u0e19\\u0e15\\u0e23\\u0e32\\u0e22\", \"\\u0e2d\\u0e31\\u0e19\\u0e15\\u0e23\\u0e32\\u0e22\", \"\\u0e2d\\u0e31\\u0e19\\u0e15\\u0e23\\u0e32\\u0e22\", \"\\u0e2d\\u0e31\\u0e19\\u0e15\\u0e23\\u0e32\\u0e22\", \"\\u0e2d\\u0e31\\u0e19\\u0e15\\u0e23\\u0e32\\u0e22\", \"\\u0e2d\\u0e31\\u0e19\\u0e15\\u0e23\\u0e32\\u0e22\", \"\\u0e2d\\u0e31\\u0e25\\u0e15\\u0e23\\u0e32\\u0e0b\\u0e32\\u0e27\\u0e19\\u0e14\\u0e4c\", \"\\u0e2d\\u0e31\\u0e25\\u0e15\\u0e23\\u0e32\\u0e0b\\u0e32\\u0e27\\u0e19\\u0e14\\u0e4c\", \"\\u0e2d\\u0e31\\u0e25\\u0e15\\u0e23\\u0e32\\u0e0b\\u0e32\\u0e27\\u0e19\\u0e14\\u0e4c\", \"\\u0e2d\\u0e31\\u0e25\\u0e15\\u0e23\\u0e32\\u0e0b\\u0e32\\u0e27\\u0e19\\u0e14\\u0e4c\", \"\\u0e2d\\u0e31\\u0e25\\u0e15\\u0e23\\u0e32\\u0e0b\\u0e32\\u0e27\\u0e19\\u0e14\\u0e4c\", \"\\u0e2d\\u0e32\\u0e01\\u0e32\\u0e23\", \"\\u0e2d\\u0e32\\u0e01\\u0e32\\u0e23\", \"\\u0e2d\\u0e32\\u0e01\\u0e32\\u0e23\", \"\\u0e2d\\u0e32\\u0e01\\u0e32\\u0e23\", \"\\u0e2d\\u0e32\\u0e01\\u0e32\\u0e23\", \"\\u0e2d\\u0e32\\u0e01\\u0e32\\u0e23\", \"\\u0e2d\\u0e32\\u0e23\\u0e21\\u0e13\\u0e4c\", \"\\u0e2d\\u0e32\\u0e23\\u0e21\\u0e13\\u0e4c\", \"\\u0e2d\\u0e32\\u0e23\\u0e21\\u0e13\\u0e4c\", \"\\u0e2d\\u0e32\\u0e23\\u0e21\\u0e13\\u0e4c\", \"\\u0e2d\\u0e32\\u0e23\\u0e21\\u0e13\\u0e4c\", \"\\u0e2d\\u0e32\\u0e40\\u0e08\\u0e35\\u0e22\\u0e19\", \"\\u0e2d\\u0e32\\u0e40\\u0e08\\u0e35\\u0e22\\u0e19\", \"\\u0e2d\\u0e32\\u0e40\\u0e08\\u0e35\\u0e22\\u0e19\", \"\\u0e2d\\u0e32\\u0e40\\u0e08\\u0e35\\u0e22\\u0e19\", \"\\u0e2d\\u0e32\\u0e40\\u0e08\\u0e35\\u0e22\\u0e19\", \"\\u0e2d\\u0e32\\u0e40\\u0e08\\u0e35\\u0e22\\u0e19\", \"\\u0e2d\\u0e32\\u0e40\\u0e08\\u0e35\\u0e22\\u0e19\", \"\\u0e2d\\u0e32\\u0e40\\u0e08\\u0e35\\u0e22\\u0e19\", \"\\u0e2d\\u0e48\\u0e2d\\u0e19\\u0e40\\u0e1e\\u0e25\\u0e35\\u0e22\", \"\\u0e2d\\u0e48\\u0e2d\\u0e19\\u0e40\\u0e1e\\u0e25\\u0e35\\u0e22\", \"\\u0e2e\\u0e2d\\u0e23\\u0e4c\\u0e42\\u0e21\\u0e19\", \"\\u0e2e\\u0e2d\\u0e23\\u0e4c\\u0e42\\u0e21\\u0e19\", \"\\u0e2e\\u0e2d\\u0e23\\u0e4c\\u0e42\\u0e21\\u0e19\", \"\\u0e2e\\u0e2d\\u0e23\\u0e4c\\u0e42\\u0e21\\u0e19\", \"\\u0e2e\\u0e2d\\u0e23\\u0e4c\\u0e42\\u0e21\\u0e19\", \"\\u0e2e\\u0e2d\\u0e23\\u0e4c\\u0e42\\u0e21\\u0e19\", \"\\u0e2e\\u0e2d\\u0e23\\u0e4c\\u0e42\\u0e21\\u0e19\", \"\\u0e2e\\u0e2d\\u0e23\\u0e4c\\u0e42\\u0e21\\u0e19\", \"\\u0e40\\u0e02\\u0e47\\u0e21\", \"\\u0e40\\u0e02\\u0e47\\u0e21\", \"\\u0e40\\u0e02\\u0e47\\u0e21\", \"\\u0e40\\u0e02\\u0e47\\u0e21\\u0e41\\u0e23\\u0e01\", \"\\u0e40\\u0e02\\u0e47\\u0e21\\u0e41\\u0e23\\u0e01\", \"\\u0e40\\u0e02\\u0e47\\u0e21\\u0e41\\u0e23\\u0e01\", \"\\u0e40\\u0e02\\u0e47\\u0e21\\u0e41\\u0e23\\u0e01\", \"\\u0e40\\u0e04\\u0e23\\u0e35\\u0e22\\u0e14\", \"\\u0e40\\u0e04\\u0e23\\u0e35\\u0e22\\u0e14\", \"\\u0e40\\u0e04\\u0e23\\u0e35\\u0e22\\u0e14\", \"\\u0e40\\u0e04\\u0e23\\u0e35\\u0e22\\u0e14\", \"\\u0e40\\u0e04\\u0e23\\u0e35\\u0e22\\u0e14\", \"\\u0e40\\u0e04\\u0e23\\u0e35\\u0e22\\u0e14\", \"\\u0e40\\u0e04\\u0e23\\u0e35\\u0e22\\u0e14\", \"\\u0e40\\u0e04\\u0e23\\u0e35\\u0e22\\u0e14\", \"\\u0e40\\u0e04\\u0e23\\u0e35\\u0e22\\u0e14\", \"\\u0e40\\u0e04\\u0e23\\u0e35\\u0e22\\u0e14\", \"\\u0e40\\u0e04\\u0e25\\u0e37\\u0e48\\u0e2d\\u0e19\", \"\\u0e40\\u0e04\\u0e25\\u0e37\\u0e48\\u0e2d\\u0e19\", \"\\u0e40\\u0e04\\u0e25\\u0e37\\u0e48\\u0e2d\\u0e19\", \"\\u0e40\\u0e04\\u0e25\\u0e37\\u0e48\\u0e2d\\u0e19\", \"\\u0e40\\u0e04\\u0e25\\u0e37\\u0e48\\u0e2d\\u0e19\", \"\\u0e40\\u0e08\\u0e47\\u0e1a\\u0e17\\u0e49\\u0e2d\\u0e07\", \"\\u0e40\\u0e08\\u0e47\\u0e1a\\u0e17\\u0e49\\u0e2d\\u0e07\", \"\\u0e40\\u0e08\\u0e47\\u0e1a\\u0e17\\u0e49\\u0e2d\\u0e07\", \"\\u0e40\\u0e08\\u0e47\\u0e1a\\u0e17\\u0e49\\u0e2d\\u0e07\", \"\\u0e40\\u0e08\\u0e47\\u0e1a\\u0e17\\u0e49\\u0e2d\\u0e07\", \"\\u0e40\\u0e14\\u0e34\\u0e19\\u0e17\\u0e32\\u0e07\", \"\\u0e40\\u0e14\\u0e34\\u0e19\\u0e17\\u0e32\\u0e07\", \"\\u0e40\\u0e14\\u0e34\\u0e19\\u0e17\\u0e32\\u0e07\", \"\\u0e40\\u0e14\\u0e34\\u0e19\\u0e17\\u0e32\\u0e07\", \"\\u0e40\\u0e14\\u0e37\\u0e2d\\u0e19\", \"\\u0e40\\u0e14\\u0e37\\u0e2d\\u0e19\", \"\\u0e40\\u0e14\\u0e37\\u0e2d\\u0e19\", \"\\u0e40\\u0e14\\u0e37\\u0e2d\\u0e19\", \"\\u0e40\\u0e14\\u0e37\\u0e2d\\u0e19\", \"\\u0e40\\u0e15\\u0e47\\u0e21\\u0e17\\u0e35\\u0e48\", \"\\u0e40\\u0e15\\u0e47\\u0e21\\u0e17\\u0e35\\u0e48\", \"\\u0e40\\u0e15\\u0e47\\u0e21\\u0e17\\u0e35\\u0e48\", \"\\u0e40\\u0e15\\u0e47\\u0e21\\u0e17\\u0e35\\u0e48\", \"\\u0e40\\u0e17\\u0e35\\u0e48\\u0e22\\u0e27\", \"\\u0e40\\u0e17\\u0e35\\u0e48\\u0e22\\u0e27\", \"\\u0e40\\u0e1a\\u0e32\\u0e2b\\u0e27\\u0e32\\u0e19\", \"\\u0e40\\u0e1a\\u0e32\\u0e2b\\u0e27\\u0e32\\u0e19\", \"\\u0e40\\u0e1a\\u0e32\\u0e2b\\u0e27\\u0e32\\u0e19\", \"\\u0e40\\u0e1a\\u0e32\\u0e2b\\u0e27\\u0e32\\u0e19\", \"\\u0e40\\u0e1a\\u0e32\\u0e2b\\u0e27\\u0e32\\u0e19\", \"\\u0e40\\u0e1b\\u0e2d\\u0e23\\u0e4c\\u0e40\\u0e0b\\u0e47\\u0e19\\u0e15\\u0e4c\", \"\\u0e40\\u0e1b\\u0e2d\\u0e23\\u0e4c\\u0e40\\u0e0b\\u0e47\\u0e19\\u0e15\\u0e4c\", \"\\u0e40\\u0e1b\\u0e2d\\u0e23\\u0e4c\\u0e40\\u0e0b\\u0e47\\u0e19\\u0e15\\u0e4c\", \"\\u0e40\\u0e1b\\u0e2d\\u0e23\\u0e4c\\u0e40\\u0e0b\\u0e47\\u0e19\\u0e15\\u0e4c\", \"\\u0e40\\u0e1b\\u0e2d\\u0e23\\u0e4c\\u0e40\\u0e0b\\u0e47\\u0e19\\u0e15\\u0e4c\", \"\\u0e40\\u0e1b\\u0e2d\\u0e23\\u0e4c\\u0e40\\u0e0b\\u0e47\\u0e19\\u0e15\\u0e4c\", \"\\u0e40\\u0e1b\\u0e2d\\u0e23\\u0e4c\\u0e40\\u0e0b\\u0e47\\u0e19\\u0e15\\u0e4c\", \"\\u0e40\\u0e1e\\u0e28\\u0e2a\\u0e31\\u0e21\\u0e1e\\u0e31\\u0e19\", \"\\u0e40\\u0e1e\\u0e28\\u0e2a\\u0e31\\u0e21\\u0e1e\\u0e31\\u0e19\", \"\\u0e40\\u0e1e\\u0e28\\u0e2a\\u0e31\\u0e21\\u0e1e\\u0e31\\u0e19\", \"\\u0e40\\u0e1e\\u0e28\\u0e2a\\u0e31\\u0e21\\u0e1e\\u0e31\\u0e19\", \"\\u0e40\\u0e1e\\u0e28\\u0e2a\\u0e31\\u0e21\\u0e1e\\u0e31\\u0e19\", \"\\u0e40\\u0e1e\\u0e28\\u0e2a\\u0e31\\u0e21\\u0e1e\\u0e31\\u0e19\", \"\\u0e40\\u0e1e\\u0e28\\u0e2a\\u0e31\\u0e21\\u0e1e\\u0e31\\u0e19\", \"\\u0e40\\u0e1e\\u0e28\\u0e2a\\u0e31\\u0e21\\u0e1e\\u0e31\\u0e19\", \"\\u0e40\\u0e1e\\u0e28\\u0e2a\\u0e31\\u0e21\\u0e1e\\u0e31\\u0e19\", \"\\u0e40\\u0e1e\\u0e28\\u0e2a\\u0e31\\u0e21\\u0e1e\\u0e31\\u0e19\", \"\\u0e40\\u0e1e\\u0e28\\u0e2a\\u0e31\\u0e21\\u0e1e\\u0e31\\u0e19\\u0e18\\u0e38\\u0e4c\", \"\\u0e40\\u0e1e\\u0e28\\u0e2a\\u0e31\\u0e21\\u0e1e\\u0e31\\u0e19\\u0e18\\u0e38\\u0e4c\", \"\\u0e40\\u0e1e\\u0e28\\u0e2a\\u0e31\\u0e21\\u0e1e\\u0e31\\u0e19\\u0e18\\u0e38\\u0e4c\", \"\\u0e40\\u0e1e\\u0e28\\u0e2a\\u0e31\\u0e21\\u0e1e\\u0e31\\u0e19\\u0e18\\u0e38\\u0e4c\", \"\\u0e40\\u0e1e\\u0e28\\u0e2a\\u0e31\\u0e21\\u0e1e\\u0e31\\u0e19\\u0e18\\u0e38\\u0e4c\", \"\\u0e40\\u0e1e\\u0e28\\u0e2a\\u0e31\\u0e21\\u0e1e\\u0e31\\u0e19\\u0e18\\u0e38\\u0e4c\", \"\\u0e40\\u0e1e\\u0e28\\u0e2a\\u0e31\\u0e21\\u0e1e\\u0e31\\u0e19\\u0e18\\u0e38\\u0e4c\", \"\\u0e40\\u0e1e\\u0e28\\u0e2a\\u0e31\\u0e21\\u0e1e\\u0e31\\u0e19\\u0e18\\u0e4c\", \"\\u0e40\\u0e1e\\u0e28\\u0e2a\\u0e31\\u0e21\\u0e1e\\u0e31\\u0e19\\u0e18\\u0e4c\", \"\\u0e40\\u0e1e\\u0e28\\u0e2a\\u0e31\\u0e21\\u0e1e\\u0e31\\u0e19\\u0e18\\u0e4c\", \"\\u0e40\\u0e1e\\u0e28\\u0e2a\\u0e31\\u0e21\\u0e1e\\u0e31\\u0e19\\u0e18\\u0e4c\", \"\\u0e40\\u0e1e\\u0e28\\u0e2a\\u0e31\\u0e21\\u0e1e\\u0e31\\u0e19\\u0e18\\u0e4c\", \"\\u0e40\\u0e1e\\u0e28\\u0e2a\\u0e31\\u0e21\\u0e1e\\u0e31\\u0e19\\u0e18\\u0e4c\", \"\\u0e40\\u0e1e\\u0e28\\u0e2a\\u0e31\\u0e21\\u0e1e\\u0e31\\u0e19\\u0e18\\u0e4c\", \"\\u0e40\\u0e1e\\u0e28\\u0e2a\\u0e31\\u0e21\\u0e1e\\u0e31\\u0e19\\u0e18\\u0e4c\", \"\\u0e40\\u0e1e\\u0e28\\u0e2a\\u0e31\\u0e21\\u0e1e\\u0e31\\u0e19\\u0e18\\u0e4c\", \"\\u0e40\\u0e1e\\u0e28\\u0e2a\\u0e31\\u0e21\\u0e1e\\u0e31\\u0e19\\u0e18\\u0e4c\", \"\\u0e40\\u0e1e\\u0e2a\\u0e2a\\u0e31\\u0e21\\u0e1e\\u0e31\\u0e19\", \"\\u0e40\\u0e1e\\u0e2a\\u0e2a\\u0e31\\u0e21\\u0e1e\\u0e31\\u0e19\", \"\\u0e40\\u0e1e\\u0e2a\\u0e2a\\u0e31\\u0e21\\u0e1e\\u0e31\\u0e19\", \"\\u0e40\\u0e1e\\u0e2a\\u0e2a\\u0e31\\u0e21\\u0e1e\\u0e31\\u0e19\", \"\\u0e40\\u0e1e\\u0e2a\\u0e2a\\u0e31\\u0e21\\u0e1e\\u0e31\\u0e19\\u0e18\\u0e4c\", \"\\u0e40\\u0e1e\\u0e2a\\u0e2a\\u0e31\\u0e21\\u0e1e\\u0e31\\u0e19\\u0e18\\u0e4c\", \"\\u0e40\\u0e1e\\u0e2a\\u0e2a\\u0e31\\u0e21\\u0e1e\\u0e31\\u0e19\\u0e18\\u0e4c\", \"\\u0e40\\u0e1e\\u0e2a\\u0e2a\\u0e31\\u0e21\\u0e1e\\u0e31\\u0e19\\u0e18\\u0e4c\", \"\\u0e40\\u0e1e\\u0e2a\\u0e2a\\u0e31\\u0e21\\u0e1e\\u0e31\\u0e19\\u0e18\\u0e4c\", \"\\u0e40\\u0e1e\\u0e37\\u0e48\\u0e2d\\u0e19\", \"\\u0e40\\u0e1e\\u0e37\\u0e48\\u0e2d\\u0e19\", \"\\u0e40\\u0e1e\\u0e37\\u0e48\\u0e2d\\u0e19\", \"\\u0e40\\u0e1e\\u0e37\\u0e48\\u0e2d\\u0e19\", \"\\u0e40\\u0e1e\\u0e37\\u0e48\\u0e2d\\u0e19\", \"\\u0e40\\u0e1e\\u0e37\\u0e48\\u0e2d\\u0e19\", \"\\u0e40\\u0e21\\u0e2d\\u0e0b\\u0e34\\u0e25\\u0e2d\\u0e19\", \"\\u0e40\\u0e21\\u0e2d\\u0e0b\\u0e34\\u0e25\\u0e2d\\u0e19\", \"\\u0e40\\u0e21\\u0e2d\\u0e0b\\u0e34\\u0e25\\u0e2d\\u0e19\", \"\\u0e40\\u0e21\\u0e42\\u0e25\\u0e14\\u0e35\\u0e49\", \"\\u0e40\\u0e21\\u0e42\\u0e25\\u0e14\\u0e35\\u0e49\", \"\\u0e40\\u0e21\\u0e42\\u0e25\\u0e14\\u0e35\\u0e49\", \"\\u0e40\\u0e21\\u0e42\\u0e25\\u0e14\\u0e35\\u0e49\", \"\\u0e40\\u0e21\\u0e42\\u0e25\\u0e14\\u0e35\\u0e49\", \"\\u0e40\\u0e21\\u0e42\\u0e25\\u0e14\\u0e35\\u0e49\", \"\\u0e40\\u0e21\\u0e42\\u0e25\\u0e14\\u0e35\\u0e49\", \"\\u0e40\\u0e2a\\u0e37\\u0e49\\u0e2d\\u0e1c\\u0e49\\u0e32\", \"\\u0e40\\u0e2a\\u0e37\\u0e49\\u0e2d\\u0e1c\\u0e49\\u0e32\", \"\\u0e40\\u0e2a\\u0e37\\u0e49\\u0e2d\\u0e1c\\u0e49\\u0e32\", \"\\u0e40\\u0e2b\\u0e19\\u0e35\\u0e22\\u0e27\", \"\\u0e40\\u0e2b\\u0e19\\u0e35\\u0e22\\u0e27\", \"\\u0e40\\u0e2b\\u0e19\\u0e35\\u0e22\\u0e27\", \"\\u0e40\\u0e2b\\u0e19\\u0e37\\u0e48\\u0e2d\\u0e22\", \"\\u0e40\\u0e2b\\u0e19\\u0e37\\u0e48\\u0e2d\\u0e22\", \"\\u0e40\\u0e2b\\u0e19\\u0e37\\u0e48\\u0e2d\\u0e22\", \"\\u0e40\\u0e2b\\u0e19\\u0e37\\u0e48\\u0e2d\\u0e22\", \"\\u0e40\\u0e2b\\u0e19\\u0e37\\u0e48\\u0e2d\\u0e22\", \"\\u0e40\\u0e2b\\u0e19\\u0e37\\u0e48\\u0e2d\\u0e22\", \"\\u0e40\\u0e2b\\u0e25\\u0e37\\u0e2d\\u0e07\", \"\\u0e40\\u0e2b\\u0e25\\u0e37\\u0e2d\\u0e07\", \"\\u0e40\\u0e2b\\u0e25\\u0e37\\u0e2d\\u0e07\", \"\\u0e40\\u0e2b\\u0e25\\u0e37\\u0e2d\\u0e07\", \"\\u0e40\\u0e2b\\u0e25\\u0e37\\u0e2d\\u0e07\", \"\\u0e41\\u0e02\\u0e47\\u0e07\\u0e41\\u0e23\\u0e07\", \"\\u0e41\\u0e02\\u0e47\\u0e07\\u0e41\\u0e23\\u0e07\", \"\\u0e41\\u0e02\\u0e47\\u0e07\\u0e41\\u0e23\\u0e07\", \"\\u0e41\\u0e02\\u0e47\\u0e07\\u0e41\\u0e23\\u0e07\", \"\\u0e41\\u0e02\\u0e47\\u0e07\\u0e41\\u0e23\\u0e07\", \"\\u0e41\\u0e15\\u0e01\\u0e15\\u0e48\\u0e32\\u0e07\", \"\\u0e41\\u0e15\\u0e01\\u0e15\\u0e48\\u0e32\\u0e07\", \"\\u0e41\\u0e15\\u0e01\\u0e15\\u0e48\\u0e32\\u0e07\", \"\\u0e41\\u0e15\\u0e01\\u0e15\\u0e48\\u0e32\\u0e07\", \"\\u0e41\\u0e15\\u0e01\\u0e15\\u0e48\\u0e32\\u0e07\", \"\\u0e41\\u0e15\\u0e48\\u0e07\\u0e07\\u0e32\\u0e19\", \"\\u0e41\\u0e15\\u0e48\\u0e07\\u0e07\\u0e32\\u0e19\", \"\\u0e41\\u0e15\\u0e48\\u0e07\\u0e07\\u0e32\\u0e19\", \"\\u0e41\\u0e15\\u0e48\\u0e07\\u0e07\\u0e32\\u0e19\", \"\\u0e41\\u0e15\\u0e48\\u0e07\\u0e07\\u0e32\\u0e19\", \"\\u0e41\\u0e1a\\u0e1a\\u0e41\\u0e1c\\u0e19\", \"\\u0e41\\u0e1a\\u0e1a\\u0e41\\u0e1c\\u0e19\", \"\\u0e41\\u0e1a\\u0e1a\\u0e41\\u0e1c\\u0e19\", \"\\u0e41\\u0e1a\\u0e1a\\u0e41\\u0e1c\\u0e19\", \"\\u0e41\\u0e1a\\u0e1a\\u0e41\\u0e1c\\u0e19\", \"\\u0e41\\u0e1a\\u0e1a\\u0e41\\u0e1c\\u0e19\", \"\\u0e41\\u0e1a\\u0e1a\\u0e41\\u0e1c\\u0e19\", \"\\u0e41\\u0e1a\\u0e1a\\u0e41\\u0e1c\\u0e19\", \"\\u0e41\\u0e1b\\u0e49\\u0e07\\u0e21\\u0e31\\u0e19\", \"\\u0e41\\u0e1b\\u0e49\\u0e07\\u0e21\\u0e31\\u0e19\", \"\\u0e41\\u0e1b\\u0e49\\u0e07\\u0e21\\u0e31\\u0e19\", \"\\u0e41\\u0e1b\\u0e49\\u0e07\\u0e21\\u0e31\\u0e19\", \"\\u0e41\\u0e1b\\u0e49\\u0e07\\u0e21\\u0e31\\u0e19\", \"\\u0e41\\u0e1b\\u0e49\\u0e07\\u0e21\\u0e31\\u0e19\", \"\\u0e41\\u0e1b\\u0e49\\u0e07\\u0e21\\u0e31\\u0e19\", \"\\u0e41\\u0e1b\\u0e49\\u0e07\\u0e21\\u0e31\\u0e19\", \"\\u0e41\\u0e1b\\u0e49\\u0e07\\u0e21\\u0e31\\u0e19\", \"\\u0e41\\u0e1c\\u0e19\\u0e17\\u0e35\\u0e48\", \"\\u0e41\\u0e1c\\u0e19\\u0e17\\u0e35\\u0e48\", \"\\u0e41\\u0e1c\\u0e19\\u0e17\\u0e35\\u0e48\", \"\\u0e41\\u0e1c\\u0e19\\u0e17\\u0e35\\u0e48\", \"\\u0e41\\u0e1c\\u0e19\\u0e17\\u0e35\\u0e48\", \"\\u0e41\\u0e1c\\u0e19\\u0e17\\u0e35\\u0e48\", \"\\u0e41\\u0e1c\\u0e19\\u0e17\\u0e35\\u0e48\", \"\\u0e42\\u0e23\\u0e07\\u0e1e\\u0e22\\u0e32\\u0e1a\\u0e32\\u0e25\", \"\\u0e42\\u0e23\\u0e07\\u0e1e\\u0e22\\u0e32\\u0e1a\\u0e32\\u0e25\", \"\\u0e42\\u0e23\\u0e07\\u0e1e\\u0e22\\u0e32\\u0e1a\\u0e32\\u0e25\", \"\\u0e43\\u0e0a\\u0e49\\u0e08\\u0e48\\u0e32\\u0e22\", \"\\u0e43\\u0e0a\\u0e49\\u0e08\\u0e48\\u0e32\\u0e22\", \"\\u0e43\\u0e0a\\u0e49\\u0e08\\u0e48\\u0e32\\u0e22\", \"\\u0e43\\u0e0a\\u0e49\\u0e08\\u0e48\\u0e32\\u0e22\", \"\\u0e43\\u0e0a\\u0e49\\u0e08\\u0e48\\u0e32\\u0e22\", \"\\u0e43\\u0e0a\\u0e49\\u0e08\\u0e48\\u0e32\\u0e22\", \"\\u0e43\\u0e0a\\u0e49\\u0e08\\u0e48\\u0e32\\u0e22\", \"\\u0e43\\u0e0a\\u0e49\\u0e08\\u0e48\\u0e32\\u0e22\", \"\\u0e43\\u0e0a\\u0e49\\u0e08\\u0e48\\u0e32\\u0e22\", \"\\u0e44\\u0e17\\u0e23\\u0e2d\\u0e22\\u0e14\\u0e4c\", \"\\u0e44\\u0e17\\u0e23\\u0e2d\\u0e22\\u0e14\\u0e4c\", \"\\u0e44\\u0e17\\u0e23\\u0e2d\\u0e22\\u0e14\\u0e4c\", \"\\u0e44\\u0e17\\u0e23\\u0e2d\\u0e22\\u0e14\\u0e4c\", \"\\u0e44\\u0e21\\u0e40\\u0e01\\u0e23\\u0e19\", \"\\u0e44\\u0e21\\u0e40\\u0e01\\u0e23\\u0e19\", \"\\u0e44\\u0e21\\u0e40\\u0e01\\u0e23\\u0e19\", \"\\u0e44\\u0e21\\u0e40\\u0e01\\u0e23\\u0e19\", \"\\u0e44\\u0e21\\u0e40\\u0e01\\u0e23\\u0e19\"]}, \"R\": 30, \"lambda.step\": 0.01, \"plot.opts\": {\"xlab\": \"PC1\", \"ylab\": \"PC2\"}, \"topic.order\": [10, 9, 1, 2, 7, 5, 4, 3, 6, 8]};\n",
              "\n",
              "function LDAvis_load_lib(url, callback){\n",
              "  var s = document.createElement('script');\n",
              "  s.src = url;\n",
              "  s.async = true;\n",
              "  s.onreadystatechange = s.onload = callback;\n",
              "  s.onerror = function(){console.warn(\"failed to load library \" + url);};\n",
              "  document.getElementsByTagName(\"head\")[0].appendChild(s);\n",
              "}\n",
              "\n",
              "if(typeof(LDAvis) !== \"undefined\"){\n",
              "   // already loaded: just create the visualization\n",
              "   !function(LDAvis){\n",
              "       new LDAvis(\"#\" + \"ldavis_el321601401124061868888470645401\", ldavis_el321601401124061868888470645401_data);\n",
              "   }(LDAvis);\n",
              "}else if(typeof define === \"function\" && define.amd){\n",
              "   // require.js is available: use it to load d3/LDAvis\n",
              "   require.config({paths: {d3: \"https://cdnjs.cloudflare.com/ajax/libs/d3/3.5.5/d3.min\"}});\n",
              "   require([\"d3\"], function(d3){\n",
              "      window.d3 = d3;\n",
              "      LDAvis_load_lib(\"https://cdn.rawgit.com/bmabey/pyLDAvis/files/ldavis.v1.0.0.js\", function(){\n",
              "        new LDAvis(\"#\" + \"ldavis_el321601401124061868888470645401\", ldavis_el321601401124061868888470645401_data);\n",
              "      });\n",
              "    });\n",
              "}else{\n",
              "    // require.js not available: dynamically load d3 & LDAvis\n",
              "    LDAvis_load_lib(\"https://cdnjs.cloudflare.com/ajax/libs/d3/3.5.5/d3.min.js\", function(){\n",
              "         LDAvis_load_lib(\"https://cdn.rawgit.com/bmabey/pyLDAvis/files/ldavis.v1.0.0.js\", function(){\n",
              "                 new LDAvis(\"#\" + \"ldavis_el321601401124061868888470645401\", ldavis_el321601401124061868888470645401_data);\n",
              "            })\n",
              "         });\n",
              "}\n",
              "</script>"
            ],
            "text/plain": [
              "PreparedData(topic_coordinates=              x         y  topics  cluster       Freq\n",
              "topic                                                \n",
              "9     -0.183410 -0.034283       1        1  14.916886\n",
              "8     -0.131377  0.135049       2        1  13.619134\n",
              "0      0.057104 -0.157017       3        1  11.746269\n",
              "1     -0.146690  0.003853       4        1  10.245668\n",
              "6      0.055071 -0.189945       5        1   9.346443\n",
              "4     -0.122652  0.067053       6        1   9.055216\n",
              "3      0.088693  0.075918       7        1   8.671699\n",
              "2      0.130478  0.197692       8        1   7.690259\n",
              "5      0.272610  0.017758       9        1   7.666308\n",
              "7     -0.019827 -0.116079      10        1   7.042118, topic_info=        Term         Freq        Total Category  logprob  loglift\n",
              "1    ฉุกเฉิน  1121.000000  1121.000000  Default  30.0000  30.0000\n",
              "18    กำเนิด   805.000000   805.000000  Default  29.0000  29.0000\n",
              "8    อันตราย   311.000000   311.000000  Default  28.0000  28.0000\n",
              "0   สัมพันธ์   375.000000   375.000000  Default  27.0000  27.0000\n",
              "5     ยี่ห้อ   309.000000   309.000000  Default  26.0000  26.0000\n",
              "..       ...          ...          ...      ...      ...      ...\n",
              "64   แป้งมัน     7.602131   183.767349  Topic10  -4.7091  -0.5320\n",
              "7    ป้องกัน    14.614365   738.815104  Topic10  -4.0555  -1.2698\n",
              "35    ติดต่อ     4.386956   105.558566  Topic10  -5.2588  -0.5274\n",
              "70    น้ำตาล     4.955352   204.895183  Topic10  -5.1370  -1.0688\n",
              "28    สอดใส่     3.483639   234.740662  Topic10  -5.4894  -1.5571\n",
              "\n",
              "[406 rows x 6 columns], token_table=      Topic      Freq     Term\n",
              "term                          \n",
              "119       2  0.056506   กระดาษ\n",
              "119       8  0.791077   กระดาษ\n",
              "119      10  0.113011   กระดาษ\n",
              "99        2  0.140077  กระเพาะ\n",
              "99        9  0.747079  กระเพาะ\n",
              "...     ...       ...      ...\n",
              "109       1  0.131178   ไมเกรน\n",
              "109       2  0.721480   ไมเกรน\n",
              "109       3  0.032795   ไมเกรน\n",
              "109       7  0.032795   ไมเกรน\n",
              "109      10  0.032795   ไมเกรน\n",
              "\n",
              "[719 rows x 3 columns], R=30, lambda_step=0.01, plot_opts={'xlab': 'PC1', 'ylab': 'PC2'}, topic_order=[10, 9, 1, 2, 7, 5, 4, 3, 6, 8])"
            ]
          },
          "metadata": {
            "tags": []
          },
          "execution_count": 76
        }
      ]
    },
    {
      "cell_type": "markdown",
      "metadata": {
        "id": "eXdxMQ0D1vZQ"
      },
      "source": [
        "bubble แต่ละอันคือ topic <br>\r\n",
        "bubble ที่ใหญ่จะมีความแพร่หลายและโดดเด่นมาก <br>\r\n",
        "\r\n",
        "รูปแบบหัวข้อที่ดีจะเป็นหัวข้อที่ค่อนข้างใหญ่ซึ่งกระจัดกระจายอยู่ในควอดแดรนต์ที่แตกต่างกันแทนที่จะกระจุกอยู่ในจตุภาคเดียว  <br>\r\n",
        "\r\n",
        "- The model with too many topics will have many overlaps, small sized bubbles clustered in one region of chart.\r\n",
        "- If you move the cursor the different bubbles you can see different keywords associated with topics."
      ]
    }
  ]
}